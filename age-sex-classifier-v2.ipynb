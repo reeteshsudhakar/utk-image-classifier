{
 "cells": [
  {
   "cell_type": "code",
   "execution_count": 57,
   "metadata": {},
   "outputs": [],
   "source": [
    "import os\n",
    "import pandas as pd\n",
    "import numpy as np\n",
    "import cv2"
   ]
  },
  {
   "cell_type": "code",
   "execution_count": 58,
   "metadata": {},
   "outputs": [
    {
     "name": "stdout",
     "output_type": "stream",
     "text": [
      "9\n",
      "9_1_2_20161219204347420.jpg.chip.jpg\n"
     ]
    }
   ],
   "source": [
    "folder = \"UTKFace\"\n",
    "\n",
    "files = os.listdir(folder)\n",
    "print(files[0].split(\"_\")[0])\n",
    "print(files[0])"
   ]
  },
  {
   "cell_type": "code",
   "execution_count": 59,
   "metadata": {},
   "outputs": [
    {
     "name": "stdout",
     "output_type": "stream",
     "text": [
      "23708\n",
      "23708\n",
      "23708\n",
      "9\n",
      "1\n",
      "UTKFace/9_1_2_20161219204347420.jpg.chip.jpg\n"
     ]
    },
    {
     "data": {
      "text/html": [
       "<div>\n",
       "<style scoped>\n",
       "    .dataframe tbody tr th:only-of-type {\n",
       "        vertical-align: middle;\n",
       "    }\n",
       "\n",
       "    .dataframe tbody tr th {\n",
       "        vertical-align: top;\n",
       "    }\n",
       "\n",
       "    .dataframe thead th {\n",
       "        text-align: right;\n",
       "    }\n",
       "</style>\n",
       "<table border=\"1\" class=\"dataframe\">\n",
       "  <thead>\n",
       "    <tr style=\"text-align: right;\">\n",
       "      <th></th>\n",
       "      <th>Age</th>\n",
       "      <th>Gender</th>\n",
       "      <th>File Path</th>\n",
       "    </tr>\n",
       "  </thead>\n",
       "  <tbody>\n",
       "    <tr>\n",
       "      <th>0</th>\n",
       "      <td>9</td>\n",
       "      <td>1</td>\n",
       "      <td>UTKFace/9_1_2_20161219204347420.jpg.chip.jpg</td>\n",
       "    </tr>\n",
       "    <tr>\n",
       "      <th>1</th>\n",
       "      <td>36</td>\n",
       "      <td>0</td>\n",
       "      <td>UTKFace/36_0_1_20170117163203851.jpg.chip.jpg</td>\n",
       "    </tr>\n",
       "    <tr>\n",
       "      <th>2</th>\n",
       "      <td>86</td>\n",
       "      <td>1</td>\n",
       "      <td>UTKFace/86_1_0_20170120225751953.jpg.chip.jpg</td>\n",
       "    </tr>\n",
       "    <tr>\n",
       "      <th>3</th>\n",
       "      <td>26</td>\n",
       "      <td>1</td>\n",
       "      <td>UTKFace/26_1_0_20170116171048641.jpg.chip.jpg</td>\n",
       "    </tr>\n",
       "    <tr>\n",
       "      <th>4</th>\n",
       "      <td>1</td>\n",
       "      <td>1</td>\n",
       "      <td>UTKFace/1_1_2_20161219154612988.jpg.chip.jpg</td>\n",
       "    </tr>\n",
       "    <tr>\n",
       "      <th>...</th>\n",
       "      <td>...</td>\n",
       "      <td>...</td>\n",
       "      <td>...</td>\n",
       "    </tr>\n",
       "    <tr>\n",
       "      <th>23703</th>\n",
       "      <td>35</td>\n",
       "      <td>0</td>\n",
       "      <td>UTKFace/35_0_0_20170117155112202.jpg.chip.jpg</td>\n",
       "    </tr>\n",
       "    <tr>\n",
       "      <th>23704</th>\n",
       "      <td>52</td>\n",
       "      <td>0</td>\n",
       "      <td>UTKFace/52_0_3_20170119200211340.jpg.chip.jpg</td>\n",
       "    </tr>\n",
       "    <tr>\n",
       "      <th>23705</th>\n",
       "      <td>26</td>\n",
       "      <td>0</td>\n",
       "      <td>UTKFace/26_0_1_20170116010114628.jpg.chip.jpg</td>\n",
       "    </tr>\n",
       "    <tr>\n",
       "      <th>23706</th>\n",
       "      <td>28</td>\n",
       "      <td>0</td>\n",
       "      <td>UTKFace/28_0_1_20170117015458481.jpg.chip.jpg</td>\n",
       "    </tr>\n",
       "    <tr>\n",
       "      <th>23707</th>\n",
       "      <td>50</td>\n",
       "      <td>1</td>\n",
       "      <td>UTKFace/50_1_1_20170120220813715.jpg.chip.jpg</td>\n",
       "    </tr>\n",
       "  </tbody>\n",
       "</table>\n",
       "<p>23708 rows × 3 columns</p>\n",
       "</div>"
      ],
      "text/plain": [
       "       Age  Gender                                      File Path\n",
       "0        9       1   UTKFace/9_1_2_20161219204347420.jpg.chip.jpg\n",
       "1       36       0  UTKFace/36_0_1_20170117163203851.jpg.chip.jpg\n",
       "2       86       1  UTKFace/86_1_0_20170120225751953.jpg.chip.jpg\n",
       "3       26       1  UTKFace/26_1_0_20170116171048641.jpg.chip.jpg\n",
       "4        1       1   UTKFace/1_1_2_20161219154612988.jpg.chip.jpg\n",
       "...    ...     ...                                            ...\n",
       "23703   35       0  UTKFace/35_0_0_20170117155112202.jpg.chip.jpg\n",
       "23704   52       0  UTKFace/52_0_3_20170119200211340.jpg.chip.jpg\n",
       "23705   26       0  UTKFace/26_0_1_20170116010114628.jpg.chip.jpg\n",
       "23706   28       0  UTKFace/28_0_1_20170117015458481.jpg.chip.jpg\n",
       "23707   50       1  UTKFace/50_1_1_20170120220813715.jpg.chip.jpg\n",
       "\n",
       "[23708 rows x 3 columns]"
      ]
     },
     "execution_count": 59,
     "metadata": {},
     "output_type": "execute_result"
    }
   ],
   "source": [
    "ages = []\n",
    "genders = []\n",
    "images = []\n",
    "file_paths = []\n",
    "\n",
    "for i, file in enumerate(files):\n",
    "    age = int(file.split('_')[0])\n",
    "    gender = int(file.split('_')[1])\n",
    "    total = folder + '/' + file\n",
    "\n",
    "    image = cv2.imread(total)\n",
    "    image = cv2.cvtColor(image, cv2.COLOR_BGR2RGB)\n",
    "    image = cv2.resize(image,(48,48))\n",
    "\n",
    "    images.append(image)\n",
    "    ages.append(age)\n",
    "    genders.append(gender)\n",
    "    file_paths.append(total)\n",
    "\n",
    "print(len(images))\n",
    "print(len(genders))\n",
    "print(len(ages))\n",
    "print(ages[0])\n",
    "print(genders[0])\n",
    "print(file_paths[0])\n",
    "\n",
    "df = pd.DataFrame(columns = [\"Age\", \"Gender\", \"File Path\"])\n",
    "df[\"Age\"] = ages\n",
    "df[\"Gender\"] = genders\n",
    "df[\"File Path\"] = file_paths\n",
    "df"
   ]
  },
  {
   "cell_type": "code",
   "execution_count": 60,
   "metadata": {},
   "outputs": [],
   "source": [
    "images_np = np.array(images)\n",
    "ages_np = np.array(ages)\n",
    "genders_np = np.array(genders)"
   ]
  },
  {
   "cell_type": "code",
   "execution_count": 61,
   "metadata": {},
   "outputs": [],
   "source": [
    "np.save('image.npy', images_np)\n",
    "np.save('gender.npy',genders_np)\n",
    "np.save('age.npy',ages_np)"
   ]
  },
  {
   "cell_type": "code",
   "execution_count": 62,
   "metadata": {},
   "outputs": [
    {
     "name": "stdout",
     "output_type": "stream",
     "text": [
      "[12391 11317]\n"
     ]
    }
   ],
   "source": [
    "values, counts = np.unique(genders_np, return_counts=True)\n",
    "print(counts)"
   ]
  },
  {
   "cell_type": "code",
   "execution_count": 63,
   "metadata": {},
   "outputs": [
    {
     "data": {
      "image/png": "[encoded data removed]",
      "text/plain": [
       "<Figure size 432x288 with 1 Axes>"
      ]
     },
     "metadata": {
      "needs_background": "light"
     },
     "output_type": "display_data"
    }
   ],
   "source": [
    "import matplotlib.pyplot as plt\n",
    "fig = plt.figure()\n",
    "ax = fig.add_axes([0,0,1,1])\n",
    "gender = ['Male', 'Female']\n",
    "values=[genders.count(0), genders.count(1)]\n",
    "ax.bar(gender,values)\n",
    "plt.show()"
   ]
  },
  {
   "cell_type": "code",
   "execution_count": 64,
   "metadata": {},
   "outputs": [
    {
     "name": "stdout",
     "output_type": "stream",
     "text": [
      "[1123  482  289  273  196  131  139  263  166  156   65  130   81  157\n",
      "  177  247  158  262   98  284  346  395  426  859  734 2197  615  918\n",
      "  570  724  350  664  143  409  880  483  293  325  266  526  132  266\n",
      "  157  100  440  153  170  153  148  381  138  232  241  353  268  236\n",
      "   97  271   82  293  161  125  103   50  259   77   94  100   56  147\n",
      "   33   98   63   32  148   58   28   69   23  133   22   40   18   24\n",
      "  155   35   10   34   33   82    2   13    5    9   17    9   11    2\n",
      "    1    5    5    1    3    4]\n"
     ]
    }
   ],
   "source": [
    "values, counts = np.unique(ages_np, return_counts=True)\n",
    "print(counts)"
   ]
  },
  {
   "cell_type": "code",
   "execution_count": 65,
   "metadata": {},
   "outputs": [
    {
     "data": {
      "image/png": "[encoded data removed]",
      "text/plain": [
       "<Figure size 432x288 with 1 Axes>"
      ]
     },
     "metadata": {
      "needs_background": "light"
     },
     "output_type": "display_data"
    }
   ],
   "source": [
    "val=values.tolist()\n",
    "cnt=counts.tolist()\n",
    "\n",
    "plt.plot(counts)\n",
    "plt.xlabel('Ages')\n",
    "plt.ylabel('Distribution')\n",
    "plt.show()"
   ]
  },
  {
   "cell_type": "code",
   "execution_count": 66,
   "metadata": {},
   "outputs": [
    {
     "name": "stdout",
     "output_type": "stream",
     "text": [
      "23708\n"
     ]
    }
   ],
   "source": [
    "labels = []\n",
    "\n",
    "i = 0\n",
    "while i < len(ages):\n",
    "  label = []\n",
    "  label.append([ages[i]])\n",
    "  label.append([genders[i]])\n",
    "  labels.append(label)\n",
    "  i += 1\n",
    "\n",
    "print(len(ages))"
   ]
  },
  {
   "cell_type": "code",
   "execution_count": 67,
   "metadata": {},
   "outputs": [
    {
     "data": {
      "text/plain": [
       "(23708, 48, 48, 3)"
      ]
     },
     "execution_count": 67,
     "metadata": {},
     "output_type": "execute_result"
    }
   ],
   "source": [
    "images_np_2 = images_np / 255\n",
    "labels_np = np.array(labels)\n",
    "images_np_2.shape"
   ]
  },
  {
   "cell_type": "code",
   "execution_count": 68,
   "metadata": {},
   "outputs": [],
   "source": [
    "import tensorflow as tf\n",
    "from sklearn.model_selection import train_test_split"
   ]
  },
  {
   "cell_type": "code",
   "execution_count": 69,
   "metadata": {},
   "outputs": [
    {
     "name": "stdout",
     "output_type": "stream",
     "text": [
      "(18966, 48, 48, 3)\n",
      "(4742, 48, 48, 3)\n",
      "(18966, 2, 1)\n",
      "(4742, 2, 1)\n"
     ]
    }
   ],
   "source": [
    "x_train, x_test, y_train, y_test = train_test_split(images_np_2, labels_np, test_size = 0.20)\n",
    "print(x_train.shape)\n",
    "print(x_test.shape)\n",
    "print(y_train.shape)\n",
    "print(y_test.shape)"
   ]
  },
  {
   "cell_type": "code",
   "execution_count": 70,
   "metadata": {},
   "outputs": [
    {
     "data": {
      "text/plain": [
       "array([[[56],\n",
       "        [ 0]],\n",
       "\n",
       "       [[26],\n",
       "        [ 1]],\n",
       "\n",
       "       [[25],\n",
       "        [ 0]],\n",
       "\n",
       "       [[36],\n",
       "        [ 1]],\n",
       "\n",
       "       [[ 1],\n",
       "        [ 0]]])"
      ]
     },
     "execution_count": 70,
     "metadata": {},
     "output_type": "execute_result"
    }
   ],
   "source": [
    "y_train[0:5]"
   ]
  },
  {
   "cell_type": "code",
   "execution_count": 71,
   "metadata": {},
   "outputs": [],
   "source": [
    "y_train_2=[y_train[:,1],y_train[:,0]]\n",
    "y_test_2=[y_test[:,1],y_test[:,0]]"
   ]
  },
  {
   "cell_type": "code",
   "execution_count": 72,
   "metadata": {},
   "outputs": [
    {
     "data": {
      "text/plain": [
       "array([[0],\n",
       "       [1],\n",
       "       [0],\n",
       "       [1],\n",
       "       [0]])"
      ]
     },
     "execution_count": 72,
     "metadata": {},
     "output_type": "execute_result"
    }
   ],
   "source": [
    "y_train_2[0][0:5]"
   ]
  },
  {
   "cell_type": "code",
   "execution_count": 73,
   "metadata": {},
   "outputs": [
    {
     "data": {
      "text/plain": [
       "array([[56],\n",
       "       [26],\n",
       "       [25],\n",
       "       [36],\n",
       "       [ 1]])"
      ]
     },
     "execution_count": 73,
     "metadata": {},
     "output_type": "execute_result"
    }
   ],
   "source": [
    "y_train_2[1][0:5]"
   ]
  },
  {
   "cell_type": "code",
   "execution_count": 74,
   "metadata": {},
   "outputs": [],
   "source": [
    "from tensorflow.keras.layers import Dropout\n",
    "from tensorflow.keras.layers import Flatten,BatchNormalization\n",
    "from tensorflow.keras.layers import Dense, MaxPooling2D,Conv2D\n",
    "from tensorflow.keras.layers import Input,Activation,Add\n",
    "from tensorflow.keras.models import Model\n",
    "from tensorflow.keras.regularizers import l2\n",
    "from tensorflow.keras.optimizers import Adam\n",
    "import tensorflow as tf\n"
   ]
  },
  {
   "cell_type": "code",
   "execution_count": 75,
   "metadata": {},
   "outputs": [],
   "source": [
    "def Convolution(input_tensor,filters):\n",
    "    x = Conv2D(filters = 32, kernel_size = (3, 3), padding = 'same', kernel_regularizer = l2(0.01))(input_tensor)\n",
    "    x = Dropout(0.2)(x)\n",
    "    x = Activation('relu')(x)\n",
    "    return x\n",
    "\n",
    "def model(input_shape):\n",
    "  inputs = Input((input_shape))\n",
    "  \n",
    "  conv_1 = Convolution(inputs, 64)\n",
    "  maxp_1 = MaxPooling2D(pool_size = (2,2)) (conv_1)\n",
    "  conv_2 = Convolution(maxp_1, 32)\n",
    "  maxp_2 = MaxPooling2D(pool_size = (2, 2)) (conv_2)\n",
    "  conv_3 = Convolution(maxp_2, 64)\n",
    "  maxp_3 = MaxPooling2D(pool_size = (2, 2)) (conv_3)\n",
    "  conv_4 = Convolution(maxp_3, 512)\n",
    "  maxp_4 = MaxPooling2D(pool_size = (2, 2)) (conv_4)\n",
    "  flatten = Flatten() (maxp_4)\n",
    "  dense_1 = Dense(64, activation = 'relu')(flatten)\n",
    "  dense_2 = Dense(64, activation = 'relu')(flatten)\n",
    "  drop_1 = Dropout(0.2)(dense_1)\n",
    "  drop_2 = Dropout(0.2)(dense_2)\n",
    "  output_1 = Dense(1, activation = \"sigmoid\", name = 'sex_out')(drop_1)\n",
    "  output_2 = Dense(1, activation = \"relu\", name = 'age_out')(drop_2)\n",
    "  model = Model(inputs = [inputs], outputs = [output_1, output_2])\n",
    "  model.compile(loss = [\"binary_crossentropy\",\"mae\"], optimizer = tf.keras.optimizers.Adam(learning_rate = 1e-4), metrics = [\"accuracy\"])\n",
    "  \n",
    "  return model"
   ]
  },
  {
   "cell_type": "code",
   "execution_count": 76,
   "metadata": {},
   "outputs": [
    {
     "name": "stdout",
     "output_type": "stream",
     "text": [
      "Model: \"model_1\"\n",
      "__________________________________________________________________________________________________\n",
      " Layer (type)                   Output Shape         Param #     Connected to                     \n",
      "==================================================================================================\n",
      " input_2 (InputLayer)           [(None, 48, 48, 3)]  0           []                               \n",
      "                                                                                                  \n",
      " conv2d_4 (Conv2D)              (None, 48, 48, 32)   896         ['input_2[0][0]']                \n",
      "                                                                                                  \n",
      " dropout_6 (Dropout)            (None, 48, 48, 32)   0           ['conv2d_4[0][0]']               \n",
      "                                                                                                  \n",
      " activation_4 (Activation)      (None, 48, 48, 32)   0           ['dropout_6[0][0]']              \n",
      "                                                                                                  \n",
      " max_pooling2d_4 (MaxPooling2D)  (None, 24, 24, 32)  0           ['activation_4[0][0]']           \n",
      "                                                                                                  \n",
      " conv2d_5 (Conv2D)              (None, 24, 24, 32)   9248        ['max_pooling2d_4[0][0]']        \n",
      "                                                                                                  \n",
      " dropout_7 (Dropout)            (None, 24, 24, 32)   0           ['conv2d_5[0][0]']               \n",
      "                                                                                                  \n",
      " activation_5 (Activation)      (None, 24, 24, 32)   0           ['dropout_7[0][0]']              \n",
      "                                                                                                  \n",
      " max_pooling2d_5 (MaxPooling2D)  (None, 12, 12, 32)  0           ['activation_5[0][0]']           \n",
      "                                                                                                  \n",
      " conv2d_6 (Conv2D)              (None, 12, 12, 32)   9248        ['max_pooling2d_5[0][0]']        \n",
      "                                                                                                  \n",
      " dropout_8 (Dropout)            (None, 12, 12, 32)   0           ['conv2d_6[0][0]']               \n",
      "                                                                                                  \n",
      " activation_6 (Activation)      (None, 12, 12, 32)   0           ['dropout_8[0][0]']              \n",
      "                                                                                                  \n",
      " max_pooling2d_6 (MaxPooling2D)  (None, 6, 6, 32)    0           ['activation_6[0][0]']           \n",
      "                                                                                                  \n",
      " conv2d_7 (Conv2D)              (None, 6, 6, 32)     9248        ['max_pooling2d_6[0][0]']        \n",
      "                                                                                                  \n",
      " dropout_9 (Dropout)            (None, 6, 6, 32)     0           ['conv2d_7[0][0]']               \n",
      "                                                                                                  \n",
      " activation_7 (Activation)      (None, 6, 6, 32)     0           ['dropout_9[0][0]']              \n",
      "                                                                                                  \n",
      " max_pooling2d_7 (MaxPooling2D)  (None, 3, 3, 32)    0           ['activation_7[0][0]']           \n",
      "                                                                                                  \n",
      " flatten_1 (Flatten)            (None, 288)          0           ['max_pooling2d_7[0][0]']        \n",
      "                                                                                                  \n",
      " dense_2 (Dense)                (None, 64)           18496       ['flatten_1[0][0]']              \n",
      "                                                                                                  \n",
      " dense_3 (Dense)                (None, 64)           18496       ['flatten_1[0][0]']              \n",
      "                                                                                                  \n",
      " dropout_10 (Dropout)           (None, 64)           0           ['dense_2[0][0]']                \n",
      "                                                                                                  \n",
      " dropout_11 (Dropout)           (None, 64)           0           ['dense_3[0][0]']                \n",
      "                                                                                                  \n",
      " sex_out (Dense)                (None, 1)            65          ['dropout_10[0][0]']             \n",
      "                                                                                                  \n",
      " age_out (Dense)                (None, 1)            65          ['dropout_11[0][0]']             \n",
      "                                                                                                  \n",
      "==================================================================================================\n",
      "Total params: 65,762\n",
      "Trainable params: 65,762\n",
      "Non-trainable params: 0\n",
      "__________________________________________________________________________________________________\n"
     ]
    }
   ],
   "source": [
    "test_model = model((48, 48, 3))\n",
    "test_model.summary()"
   ]
  },
  {
   "cell_type": "code",
   "execution_count": 77,
   "metadata": {},
   "outputs": [],
   "source": [
    "from tensorflow.keras.callbacks import ModelCheckpoint\n",
    "import tensorflow as tf"
   ]
  },
  {
   "cell_type": "code",
   "execution_count": 78,
   "metadata": {},
   "outputs": [],
   "source": [
    "fle_s='model_prediction.h5'\n",
    "checkpointer = ModelCheckpoint(fle_s, monitor='val_loss',verbose=1,save_best_only=True,save_weights_only=False, mode='auto',save_freq='epoch')\n",
    "Early_stop=tf.keras.callbacks.EarlyStopping(patience=80, monitor='val_loss',restore_best_weights=True),\n",
    "callback_list=[checkpointer,Early_stop]"
   ]
  },
  {
   "cell_type": "code",
   "execution_count": 80,
   "metadata": {},
   "outputs": [
    {
     "name": "stdout",
     "output_type": "stream",
     "text": [
      "Epoch 1/50\n"
     ]
    },
    {
     "name": "stderr",
     "output_type": "stream",
     "text": [
      "2022-06-03 00:34:57.843665: W tensorflow/core/platform/profile_utils/cpu_utils.cc:128] Failed to get CPU frequency: 0 Hz\n",
      "2022-06-03 00:34:58.262080: I tensorflow/core/grappler/optimizers/custom_graph_optimizer_registry.cc:113] Plugin optimizer for device_type GPU is enabled.\n"
     ]
    },
    {
     "name": "stdout",
     "output_type": "stream",
     "text": [
      "297/297 [==============================] - ETA: 0s - loss: 20.9038 - sex_out_loss: 0.7617 - age_out_loss: 19.3009 - sex_out_accuracy: 0.5536 - age_out_accuracy: 0.0467"
     ]
    },
    {
     "name": "stderr",
     "output_type": "stream",
     "text": [
      "2022-06-03 00:35:07.098214: I tensorflow/core/grappler/optimizers/custom_graph_optimizer_registry.cc:113] Plugin optimizer for device_type GPU is enabled.\n"
     ]
    },
    {
     "name": "stdout",
     "output_type": "stream",
     "text": [
      "\n",
      "Epoch 1: val_loss improved from inf to 23.69690, saving model to model_prediction.h5\n",
      "297/297 [==============================] - 10s 32ms/step - loss: 20.9038 - sex_out_loss: 0.7617 - age_out_loss: 19.3009 - sex_out_accuracy: 0.5536 - age_out_accuracy: 0.0467 - val_loss: 23.6969 - val_sex_out_loss: 0.6664 - val_age_out_loss: 22.3120 - val_sex_out_accuracy: 0.5803 - val_age_out_accuracy: 0.0472\n",
      "Epoch 2/50\n",
      "296/297 [============================>.] - ETA: 0s - loss: 16.9945 - sex_out_loss: 0.6514 - age_out_loss: 15.6890 - sex_out_accuracy: 0.6164 - age_out_accuracy: 0.0475\n",
      "Epoch 2: val_loss did not improve from 23.69690\n",
      "297/297 [==============================] - 9s 29ms/step - loss: 16.9892 - sex_out_loss: 0.6513 - age_out_loss: 15.6838 - sex_out_accuracy: 0.6165 - age_out_accuracy: 0.0474 - val_loss: 24.8077 - val_sex_out_loss: 0.6577 - val_age_out_loss: 23.5441 - val_sex_out_accuracy: 0.6780 - val_age_out_accuracy: 0.0472\n",
      "Epoch 3/50\n",
      "295/297 [============================>.] - ETA: 0s - loss: 16.4455 - sex_out_loss: 0.6259 - age_out_loss: 15.2370 - sex_out_accuracy: 0.6540 - age_out_accuracy: 0.0475\n",
      "Epoch 3: val_loss improved from 23.69690 to 23.15615, saving model to model_prediction.h5\n",
      "297/297 [==============================] - 9s 29ms/step - loss: 16.4466 - sex_out_loss: 0.6261 - age_out_loss: 15.2380 - sex_out_accuracy: 0.6540 - age_out_accuracy: 0.0474 - val_loss: 23.1562 - val_sex_out_loss: 0.6393 - val_age_out_loss: 21.9505 - val_sex_out_accuracy: 0.6814 - val_age_out_accuracy: 0.0472\n",
      "Epoch 4/50\n",
      "295/297 [============================>.] - ETA: 0s - loss: 15.8858 - sex_out_loss: 0.6130 - age_out_loss: 14.7104 - sex_out_accuracy: 0.6631 - age_out_accuracy: 0.0473\n",
      "Epoch 4: val_loss improved from 23.15615 to 22.17842, saving model to model_prediction.h5\n",
      "297/297 [==============================] - 9s 29ms/step - loss: 15.8855 - sex_out_loss: 0.6129 - age_out_loss: 14.7102 - sex_out_accuracy: 0.6632 - age_out_accuracy: 0.0474 - val_loss: 22.1784 - val_sex_out_loss: 0.6304 - val_age_out_loss: 20.9859 - val_sex_out_accuracy: 0.6457 - val_age_out_accuracy: 0.0472\n",
      "Epoch 5/50\n",
      "295/297 [============================>.] - ETA: 0s - loss: 15.4044 - sex_out_loss: 0.5967 - age_out_loss: 14.2414 - sex_out_accuracy: 0.6838 - age_out_accuracy: 0.0475\n",
      "Epoch 5: val_loss improved from 22.17842 to 21.38765, saving model to model_prediction.h5\n",
      "297/297 [==============================] - 9s 29ms/step - loss: 15.4047 - sex_out_loss: 0.5965 - age_out_loss: 14.2419 - sex_out_accuracy: 0.6840 - age_out_accuracy: 0.0474 - val_loss: 21.3876 - val_sex_out_loss: 0.6115 - val_age_out_loss: 20.2051 - val_sex_out_accuracy: 0.6923 - val_age_out_accuracy: 0.0472\n",
      "Epoch 6/50\n",
      "295/297 [============================>.] - ETA: 0s - loss: 15.0170 - sex_out_loss: 0.5831 - age_out_loss: 13.8582 - sex_out_accuracy: 0.6915 - age_out_accuracy: 0.0475\n",
      "Epoch 6: val_loss did not improve from 21.38765\n",
      "297/297 [==============================] - 9s 29ms/step - loss: 15.0092 - sex_out_loss: 0.5830 - age_out_loss: 13.8505 - sex_out_accuracy: 0.6915 - age_out_accuracy: 0.0474 - val_loss: 22.1771 - val_sex_out_loss: 0.6032 - val_age_out_loss: 20.9939 - val_sex_out_accuracy: 0.7202 - val_age_out_accuracy: 0.0472\n",
      "Epoch 7/50\n",
      "295/297 [============================>.] - ETA: 0s - loss: 14.6125 - sex_out_loss: 0.5723 - age_out_loss: 13.4561 - sex_out_accuracy: 0.7014 - age_out_accuracy: 0.0474\n",
      "Epoch 7: val_loss did not improve from 21.38765\n",
      "297/297 [==============================] - 9s 29ms/step - loss: 14.6073 - sex_out_loss: 0.5726 - age_out_loss: 13.4507 - sex_out_accuracy: 0.7013 - age_out_accuracy: 0.0474 - val_loss: 22.8080 - val_sex_out_loss: 0.5916 - val_age_out_loss: 21.6285 - val_sex_out_accuracy: 0.7309 - val_age_out_accuracy: 0.0472\n",
      "Epoch 8/50\n",
      "295/297 [============================>.] - ETA: 0s - loss: 14.3106 - sex_out_loss: 0.5619 - age_out_loss: 13.1571 - sex_out_accuracy: 0.7114 - age_out_accuracy: 0.0476\n",
      "Epoch 8: val_loss improved from 21.38765 to 20.78105, saving model to model_prediction.h5\n",
      "297/297 [==============================] - 9s 29ms/step - loss: 14.3072 - sex_out_loss: 0.5622 - age_out_loss: 13.1534 - sex_out_accuracy: 0.7112 - age_out_accuracy: 0.0474 - val_loss: 20.7810 - val_sex_out_loss: 0.5746 - val_age_out_loss: 19.6124 - val_sex_out_accuracy: 0.7225 - val_age_out_accuracy: 0.0472\n",
      "Epoch 9/50\n",
      "295/297 [============================>.] - ETA: 0s - loss: 13.9805 - sex_out_loss: 0.5560 - age_out_loss: 12.8268 - sex_out_accuracy: 0.7191 - age_out_accuracy: 0.0473\n",
      "Epoch 9: val_loss did not improve from 20.78105\n",
      "297/297 [==============================] - 9s 29ms/step - loss: 13.9815 - sex_out_loss: 0.5564 - age_out_loss: 12.8273 - sex_out_accuracy: 0.7187 - age_out_accuracy: 0.0474 - val_loss: 20.9008 - val_sex_out_loss: 0.5728 - val_age_out_loss: 19.7264 - val_sex_out_accuracy: 0.7446 - val_age_out_accuracy: 0.0472\n",
      "Epoch 10/50\n",
      "295/297 [============================>.] - ETA: 0s - loss: 13.7569 - sex_out_loss: 0.5500 - age_out_loss: 12.6022 - sex_out_accuracy: 0.7211 - age_out_accuracy: 0.0473\n",
      "Epoch 10: val_loss did not improve from 20.78105\n",
      "297/297 [==============================] - 9s 29ms/step - loss: 13.7619 - sex_out_loss: 0.5494 - age_out_loss: 12.6078 - sex_out_accuracy: 0.7216 - age_out_accuracy: 0.0474 - val_loss: 21.6516 - val_sex_out_loss: 0.5648 - val_age_out_loss: 20.4788 - val_sex_out_accuracy: 0.7478 - val_age_out_accuracy: 0.0472\n",
      "Epoch 11/50\n",
      "295/297 [============================>.] - ETA: 0s - loss: 13.5156 - sex_out_loss: 0.5460 - age_out_loss: 12.3579 - sex_out_accuracy: 0.7244 - age_out_accuracy: 0.0476\n",
      "Epoch 11: val_loss improved from 20.78105 to 20.33987, saving model to model_prediction.h5\n",
      "297/297 [==============================] - 9s 29ms/step - loss: 13.5116 - sex_out_loss: 0.5459 - age_out_loss: 12.3539 - sex_out_accuracy: 0.7243 - age_out_accuracy: 0.0474 - val_loss: 20.3399 - val_sex_out_loss: 0.5593 - val_age_out_loss: 19.1653 - val_sex_out_accuracy: 0.7313 - val_age_out_accuracy: 0.0472\n",
      "Epoch 12/50\n",
      "295/297 [============================>.] - ETA: 0s - loss: 13.2914 - sex_out_loss: 0.5415 - age_out_loss: 12.1300 - sex_out_accuracy: 0.7325 - age_out_accuracy: 0.0469\n",
      "Epoch 12: val_loss did not improve from 20.33987\n",
      "297/297 [==============================] - 9s 29ms/step - loss: 13.2954 - sex_out_loss: 0.5411 - age_out_loss: 12.1344 - sex_out_accuracy: 0.7328 - age_out_accuracy: 0.0470 - val_loss: 21.5895 - val_sex_out_loss: 0.5587 - val_age_out_loss: 20.4075 - val_sex_out_accuracy: 0.7547 - val_age_out_accuracy: 0.0472\n",
      "Epoch 13/50\n",
      "295/297 [============================>.] - ETA: 0s - loss: 13.0966 - sex_out_loss: 0.5312 - age_out_loss: 11.9380 - sex_out_accuracy: 0.7371 - age_out_accuracy: 0.0468\n",
      "Epoch 13: val_loss did not improve from 20.33987\n",
      "297/297 [==============================] - 9s 29ms/step - loss: 13.0887 - sex_out_loss: 0.5309 - age_out_loss: 11.9304 - sex_out_accuracy: 0.7372 - age_out_accuracy: 0.0468 - val_loss: 20.9674 - val_sex_out_loss: 0.5549 - val_age_out_loss: 19.7808 - val_sex_out_accuracy: 0.7630 - val_age_out_accuracy: 0.0462\n",
      "Epoch 14/50\n",
      "295/297 [============================>.] - ETA: 0s - loss: 12.8424 - sex_out_loss: 0.5273 - age_out_loss: 11.6791 - sex_out_accuracy: 0.7368 - age_out_accuracy: 0.0463\n",
      "Epoch 14: val_loss did not improve from 20.33987\n",
      "297/297 [==============================] - 9s 29ms/step - loss: 12.8385 - sex_out_loss: 0.5272 - age_out_loss: 11.6754 - sex_out_accuracy: 0.7369 - age_out_accuracy: 0.0462 - val_loss: 20.6195 - val_sex_out_loss: 0.5464 - val_age_out_loss: 19.4337 - val_sex_out_accuracy: 0.7699 - val_age_out_accuracy: 0.0453\n",
      "Epoch 15/50\n",
      "295/297 [============================>.] - ETA: 0s - loss: 12.6754 - sex_out_loss: 0.5189 - age_out_loss: 11.5133 - sex_out_accuracy: 0.7444 - age_out_accuracy: 0.0446\n",
      "Epoch 15: val_loss did not improve from 20.33987\n",
      "297/297 [==============================] - 9s 29ms/step - loss: 12.6728 - sex_out_loss: 0.5186 - age_out_loss: 11.5110 - sex_out_accuracy: 0.7447 - age_out_accuracy: 0.0447 - val_loss: 22.6830 - val_sex_out_loss: 0.5679 - val_age_out_loss: 21.4683 - val_sex_out_accuracy: 0.7423 - val_age_out_accuracy: 0.0337\n",
      "Epoch 16/50\n",
      "295/297 [============================>.] - ETA: 0s - loss: 12.4319 - sex_out_loss: 0.5199 - age_out_loss: 11.2615 - sex_out_accuracy: 0.7434 - age_out_accuracy: 0.0434\n",
      "Epoch 16: val_loss did not improve from 20.33987\n",
      "297/297 [==============================] - 8s 28ms/step - loss: 12.4393 - sex_out_loss: 0.5198 - age_out_loss: 11.2690 - sex_out_accuracy: 0.7438 - age_out_accuracy: 0.0434 - val_loss: 21.2767 - val_sex_out_loss: 0.5394 - val_age_out_loss: 20.0838 - val_sex_out_accuracy: 0.7750 - val_age_out_accuracy: 0.0318\n",
      "Epoch 17/50\n",
      "295/297 [============================>.] - ETA: 0s - loss: 12.3759 - sex_out_loss: 0.5108 - age_out_loss: 11.2090 - sex_out_accuracy: 0.7519 - age_out_accuracy: 0.0411\n",
      "Epoch 17: val_loss did not improve from 20.33987\n",
      "297/297 [==============================] - 8s 28ms/step - loss: 12.3792 - sex_out_loss: 0.5108 - age_out_loss: 11.2124 - sex_out_accuracy: 0.7518 - age_out_accuracy: 0.0412 - val_loss: 21.5502 - val_sex_out_loss: 0.5464 - val_age_out_loss: 20.3452 - val_sex_out_accuracy: 0.7798 - val_age_out_accuracy: 0.0327\n",
      "Epoch 18/50\n",
      "295/297 [============================>.] - ETA: 0s - loss: 12.2257 - sex_out_loss: 0.5055 - age_out_loss: 11.0590 - sex_out_accuracy: 0.7547 - age_out_accuracy: 0.0410\n",
      "Epoch 18: val_loss did not improve from 20.33987\n",
      "297/297 [==============================] - 8s 28ms/step - loss: 12.2366 - sex_out_loss: 0.5054 - age_out_loss: 11.0701 - sex_out_accuracy: 0.7548 - age_out_accuracy: 0.0408 - val_loss: 21.6999 - val_sex_out_loss: 0.5373 - val_age_out_loss: 20.4992 - val_sex_out_accuracy: 0.7794 - val_age_out_accuracy: 0.0285\n",
      "Epoch 19/50\n",
      "295/297 [============================>.] - ETA: 0s - loss: 12.0852 - sex_out_loss: 0.5009 - age_out_loss: 10.9194 - sex_out_accuracy: 0.7579 - age_out_accuracy: 0.0392\n",
      "Epoch 19: val_loss did not improve from 20.33987\n",
      "297/297 [==============================] - 8s 29ms/step - loss: 12.0824 - sex_out_loss: 0.5010 - age_out_loss: 10.9163 - sex_out_accuracy: 0.7577 - age_out_accuracy: 0.0392 - val_loss: 20.4431 - val_sex_out_loss: 0.5314 - val_age_out_loss: 19.2450 - val_sex_out_accuracy: 0.7847 - val_age_out_accuracy: 0.0335\n",
      "Epoch 20/50\n",
      "295/297 [============================>.] - ETA: 0s - loss: 12.1075 - sex_out_loss: 0.4968 - age_out_loss: 10.9423 - sex_out_accuracy: 0.7599 - age_out_accuracy: 0.0364\n",
      "Epoch 20: val_loss improved from 20.33987 to 19.98117, saving model to model_prediction.h5\n",
      "297/297 [==============================] - 8s 29ms/step - loss: 12.1074 - sex_out_loss: 0.4968 - age_out_loss: 10.9422 - sex_out_accuracy: 0.7600 - age_out_accuracy: 0.0365 - val_loss: 19.9812 - val_sex_out_loss: 0.5259 - val_age_out_loss: 18.7857 - val_sex_out_accuracy: 0.7900 - val_age_out_accuracy: 0.0342\n",
      "Epoch 21/50\n",
      "295/297 [============================>.] - ETA: 0s - loss: 11.9611 - sex_out_loss: 0.4928 - age_out_loss: 10.7972 - sex_out_accuracy: 0.7652 - age_out_accuracy: 0.0356\n",
      "Epoch 21: val_loss did not improve from 19.98117\n",
      "297/297 [==============================] - 8s 28ms/step - loss: 11.9699 - sex_out_loss: 0.4928 - age_out_loss: 10.8060 - sex_out_accuracy: 0.7649 - age_out_accuracy: 0.0357 - val_loss: 20.6688 - val_sex_out_loss: 0.5196 - val_age_out_loss: 19.4773 - val_sex_out_accuracy: 0.7879 - val_age_out_accuracy: 0.0289\n",
      "Epoch 22/50\n",
      "295/297 [============================>.] - ETA: 0s - loss: 11.8621 - sex_out_loss: 0.4849 - age_out_loss: 10.7041 - sex_out_accuracy: 0.7685 - age_out_accuracy: 0.0350\n",
      "Epoch 22: val_loss did not improve from 19.98117\n",
      "297/297 [==============================] - 8s 28ms/step - loss: 11.8668 - sex_out_loss: 0.4850 - age_out_loss: 10.7088 - sex_out_accuracy: 0.7684 - age_out_accuracy: 0.0349 - val_loss: 20.8994 - val_sex_out_loss: 0.5203 - val_age_out_loss: 19.7047 - val_sex_out_accuracy: 0.7978 - val_age_out_accuracy: 0.0247\n",
      "Epoch 23/50\n",
      "295/297 [============================>.] - ETA: 0s - loss: 11.7681 - sex_out_loss: 0.4824 - age_out_loss: 10.6106 - sex_out_accuracy: 0.7720 - age_out_accuracy: 0.0336\n",
      "Epoch 23: val_loss did not improve from 19.98117\n",
      "297/297 [==============================] - 8s 28ms/step - loss: 11.7645 - sex_out_loss: 0.4825 - age_out_loss: 10.6069 - sex_out_accuracy: 0.7721 - age_out_accuracy: 0.0335 - val_loss: 20.4015 - val_sex_out_loss: 0.5164 - val_age_out_loss: 19.2088 - val_sex_out_accuracy: 0.7933 - val_age_out_accuracy: 0.0238\n",
      "Epoch 24/50\n",
      "295/297 [============================>.] - ETA: 0s - loss: 11.7192 - sex_out_loss: 0.4796 - age_out_loss: 10.5625 - sex_out_accuracy: 0.7691 - age_out_accuracy: 0.0336\n",
      "Epoch 24: val_loss did not improve from 19.98117\n",
      "297/297 [==============================] - 8s 28ms/step - loss: 11.7122 - sex_out_loss: 0.4793 - age_out_loss: 10.5559 - sex_out_accuracy: 0.7692 - age_out_accuracy: 0.0335 - val_loss: 20.4950 - val_sex_out_loss: 0.5163 - val_age_out_loss: 19.3011 - val_sex_out_accuracy: 0.7999 - val_age_out_accuracy: 0.0251\n",
      "Epoch 25/50\n",
      "295/297 [============================>.] - ETA: 0s - loss: 11.6058 - sex_out_loss: 0.4775 - age_out_loss: 10.4501 - sex_out_accuracy: 0.7734 - age_out_accuracy: 0.0327\n",
      "Epoch 25: val_loss did not improve from 19.98117\n",
      "297/297 [==============================] - 8s 28ms/step - loss: 11.6112 - sex_out_loss: 0.4774 - age_out_loss: 10.4555 - sex_out_accuracy: 0.7734 - age_out_accuracy: 0.0326 - val_loss: 20.2041 - val_sex_out_loss: 0.5156 - val_age_out_loss: 19.0097 - val_sex_out_accuracy: 0.7954 - val_age_out_accuracy: 0.0285\n",
      "Epoch 26/50\n",
      "295/297 [============================>.] - ETA: 0s - loss: 11.4988 - sex_out_loss: 0.4734 - age_out_loss: 10.3459 - sex_out_accuracy: 0.7767 - age_out_accuracy: 0.0321\n",
      "Epoch 26: val_loss did not improve from 19.98117\n",
      "297/297 [==============================] - 8s 28ms/step - loss: 11.5026 - sex_out_loss: 0.4738 - age_out_loss: 10.3493 - sex_out_accuracy: 0.7764 - age_out_accuracy: 0.0320 - val_loss: 21.4390 - val_sex_out_loss: 0.5187 - val_age_out_loss: 20.2398 - val_sex_out_accuracy: 0.7999 - val_age_out_accuracy: 0.0179\n",
      "Epoch 27/50\n",
      "295/297 [============================>.] - ETA: 0s - loss: 11.4482 - sex_out_loss: 0.4719 - age_out_loss: 10.2948 - sex_out_accuracy: 0.7776 - age_out_accuracy: 0.0307\n",
      "Epoch 27: val_loss did not improve from 19.98117\n",
      "297/297 [==============================] - 8s 28ms/step - loss: 11.4471 - sex_out_loss: 0.4716 - age_out_loss: 10.2940 - sex_out_accuracy: 0.7780 - age_out_accuracy: 0.0307 - val_loss: 20.9831 - val_sex_out_loss: 0.5105 - val_age_out_loss: 19.7903 - val_sex_out_accuracy: 0.8020 - val_age_out_accuracy: 0.0207\n",
      "Epoch 28/50\n",
      "295/297 [============================>.] - ETA: 0s - loss: 11.3847 - sex_out_loss: 0.4678 - age_out_loss: 10.2335 - sex_out_accuracy: 0.7814 - age_out_accuracy: 0.0298\n",
      "Epoch 28: val_loss improved from 19.98117 to 19.11593, saving model to model_prediction.h5\n",
      "297/297 [==============================] - 8s 28ms/step - loss: 11.3834 - sex_out_loss: 0.4678 - age_out_loss: 10.2322 - sex_out_accuracy: 0.7813 - age_out_accuracy: 0.0298 - val_loss: 19.1159 - val_sex_out_loss: 0.5112 - val_age_out_loss: 17.9205 - val_sex_out_accuracy: 0.7912 - val_age_out_accuracy: 0.0283\n",
      "Epoch 29/50\n",
      "295/297 [============================>.] - ETA: 0s - loss: 11.3214 - sex_out_loss: 0.4693 - age_out_loss: 10.1669 - sex_out_accuracy: 0.7767 - age_out_accuracy: 0.0306\n",
      "Epoch 29: val_loss did not improve from 19.11593\n",
      "297/297 [==============================] - 8s 28ms/step - loss: 11.3195 - sex_out_loss: 0.4694 - age_out_loss: 10.1650 - sex_out_accuracy: 0.7767 - age_out_accuracy: 0.0307 - val_loss: 19.7490 - val_sex_out_loss: 0.4995 - val_age_out_loss: 18.5628 - val_sex_out_accuracy: 0.8081 - val_age_out_accuracy: 0.0259\n",
      "Epoch 30/50\n",
      "295/297 [============================>.] - ETA: 0s - loss: 11.2374 - sex_out_loss: 0.4612 - age_out_loss: 10.0888 - sex_out_accuracy: 0.7821 - age_out_accuracy: 0.0289\n",
      "Epoch 30: val_loss did not improve from 19.11593\n",
      "297/297 [==============================] - 9s 29ms/step - loss: 11.2376 - sex_out_loss: 0.4612 - age_out_loss: 10.0890 - sex_out_accuracy: 0.7821 - age_out_accuracy: 0.0288 - val_loss: 21.0253 - val_sex_out_loss: 0.4996 - val_age_out_loss: 19.8375 - val_sex_out_accuracy: 0.8049 - val_age_out_accuracy: 0.0188\n",
      "Epoch 31/50\n",
      "296/297 [============================>.] - ETA: 0s - loss: 11.2777 - sex_out_loss: 0.4593 - age_out_loss: 10.1300 - sex_out_accuracy: 0.7858 - age_out_accuracy: 0.0285\n",
      "Epoch 31: val_loss did not improve from 19.11593\n",
      "297/297 [==============================] - 9s 29ms/step - loss: 11.2781 - sex_out_loss: 0.4596 - age_out_loss: 10.1301 - sex_out_accuracy: 0.7856 - age_out_accuracy: 0.0285 - val_loss: 20.0174 - val_sex_out_loss: 0.4946 - val_age_out_loss: 18.8332 - val_sex_out_accuracy: 0.8106 - val_age_out_accuracy: 0.0232\n",
      "Epoch 32/50\n",
      "295/297 [============================>.] - ETA: 0s - loss: 11.1942 - sex_out_loss: 0.4527 - age_out_loss: 10.0510 - sex_out_accuracy: 0.7894 - age_out_accuracy: 0.0278\n",
      "Epoch 32: val_loss did not improve from 19.11593\n",
      "297/297 [==============================] - 8s 28ms/step - loss: 11.1964 - sex_out_loss: 0.4525 - age_out_loss: 10.0534 - sex_out_accuracy: 0.7894 - age_out_accuracy: 0.0278 - val_loss: 22.7867 - val_sex_out_loss: 0.5095 - val_age_out_loss: 21.5865 - val_sex_out_accuracy: 0.7957 - val_age_out_accuracy: 0.0120\n",
      "Epoch 33/50\n",
      "295/297 [============================>.] - ETA: 0s - loss: 11.1571 - sex_out_loss: 0.4538 - age_out_loss: 10.0120 - sex_out_accuracy: 0.7870 - age_out_accuracy: 0.0262\n",
      "Epoch 33: val_loss did not improve from 19.11593\n",
      "297/297 [==============================] - 8s 28ms/step - loss: 11.1521 - sex_out_loss: 0.4536 - age_out_loss: 10.0072 - sex_out_accuracy: 0.7871 - age_out_accuracy: 0.0263 - val_loss: 20.3613 - val_sex_out_loss: 0.4990 - val_age_out_loss: 19.1701 - val_sex_out_accuracy: 0.8102 - val_age_out_accuracy: 0.0190\n",
      "Epoch 34/50\n",
      "295/297 [============================>.] - ETA: 0s - loss: 11.0451 - sex_out_loss: 0.4501 - age_out_loss: 9.9024 - sex_out_accuracy: 0.7899 - age_out_accuracy: 0.0262\n",
      "Epoch 34: val_loss did not improve from 19.11593\n",
      "297/297 [==============================] - 8s 28ms/step - loss: 11.0409 - sex_out_loss: 0.4499 - age_out_loss: 9.8983 - sex_out_accuracy: 0.7899 - age_out_accuracy: 0.0262 - val_loss: 19.8181 - val_sex_out_loss: 0.4891 - val_age_out_loss: 18.6361 - val_sex_out_accuracy: 0.8148 - val_age_out_accuracy: 0.0205\n",
      "Epoch 35/50\n",
      "295/297 [============================>.] - ETA: 0s - loss: 10.9937 - sex_out_loss: 0.4507 - age_out_loss: 9.8492 - sex_out_accuracy: 0.7916 - age_out_accuracy: 0.0258\n",
      "Epoch 35: val_loss did not improve from 19.11593\n",
      "297/297 [==============================] - 8s 28ms/step - loss: 10.9968 - sex_out_loss: 0.4504 - age_out_loss: 9.8525 - sex_out_accuracy: 0.7917 - age_out_accuracy: 0.0258 - val_loss: 20.6134 - val_sex_out_loss: 0.4877 - val_age_out_loss: 19.4307 - val_sex_out_accuracy: 0.8191 - val_age_out_accuracy: 0.0181\n",
      "Epoch 36/50\n",
      "295/297 [============================>.] - ETA: 0s - loss: 10.9605 - sex_out_loss: 0.4450 - age_out_loss: 9.8199 - sex_out_accuracy: 0.7934 - age_out_accuracy: 0.0248\n",
      "Epoch 36: val_loss improved from 19.11593 to 18.73623, saving model to model_prediction.h5\n",
      "297/297 [==============================] - 8s 28ms/step - loss: 10.9618 - sex_out_loss: 0.4447 - age_out_loss: 9.8215 - sex_out_accuracy: 0.7934 - age_out_accuracy: 0.0249 - val_loss: 18.7362 - val_sex_out_loss: 0.4828 - val_age_out_loss: 17.5570 - val_sex_out_accuracy: 0.8161 - val_age_out_accuracy: 0.0278\n",
      "Epoch 37/50\n",
      "295/297 [============================>.] - ETA: 0s - loss: 10.9297 - sex_out_loss: 0.4454 - age_out_loss: 9.7874 - sex_out_accuracy: 0.7916 - age_out_accuracy: 0.0239\n",
      "Epoch 37: val_loss did not improve from 18.73623\n",
      "297/297 [==============================] - 9s 30ms/step - loss: 10.9338 - sex_out_loss: 0.4454 - age_out_loss: 9.7914 - sex_out_accuracy: 0.7914 - age_out_accuracy: 0.0239 - val_loss: 20.2664 - val_sex_out_loss: 0.4898 - val_age_out_loss: 19.0794 - val_sex_out_accuracy: 0.8184 - val_age_out_accuracy: 0.0205\n",
      "Epoch 38/50\n",
      "295/297 [============================>.] - ETA: 0s - loss: 10.9174 - sex_out_loss: 0.4440 - age_out_loss: 9.7754 - sex_out_accuracy: 0.7968 - age_out_accuracy: 0.0250\n",
      "Epoch 38: val_loss did not improve from 18.73623\n",
      "297/297 [==============================] - 9s 29ms/step - loss: 10.9201 - sex_out_loss: 0.4441 - age_out_loss: 9.7780 - sex_out_accuracy: 0.7970 - age_out_accuracy: 0.0249 - val_loss: 19.9429 - val_sex_out_loss: 0.4793 - val_age_out_loss: 18.7649 - val_sex_out_accuracy: 0.8170 - val_age_out_accuracy: 0.0175\n",
      "Epoch 39/50\n",
      "295/297 [============================>.] - ETA: 0s - loss: 10.7603 - sex_out_loss: 0.4415 - age_out_loss: 9.6193 - sex_out_accuracy: 0.7956 - age_out_accuracy: 0.0235\n",
      "Epoch 39: val_loss did not improve from 18.73623\n",
      "297/297 [==============================] - 8s 28ms/step - loss: 10.7606 - sex_out_loss: 0.4413 - age_out_loss: 9.6197 - sex_out_accuracy: 0.7956 - age_out_accuracy: 0.0235 - val_loss: 19.7690 - val_sex_out_loss: 0.4730 - val_age_out_loss: 18.5953 - val_sex_out_accuracy: 0.8197 - val_age_out_accuracy: 0.0173\n",
      "Epoch 40/50\n",
      "295/297 [============================>.] - ETA: 0s - loss: 10.8946 - sex_out_loss: 0.4344 - age_out_loss: 9.7593 - sex_out_accuracy: 0.8015 - age_out_accuracy: 0.0233\n",
      "Epoch 40: val_loss did not improve from 18.73623\n",
      "297/297 [==============================] - 8s 28ms/step - loss: 10.8915 - sex_out_loss: 0.4345 - age_out_loss: 9.7562 - sex_out_accuracy: 0.8014 - age_out_accuracy: 0.0232 - val_loss: 18.9414 - val_sex_out_loss: 0.4686 - val_age_out_loss: 17.7716 - val_sex_out_accuracy: 0.8178 - val_age_out_accuracy: 0.0245\n",
      "Epoch 41/50\n",
      "295/297 [============================>.] - ETA: 0s - loss: 10.6540 - sex_out_loss: 0.4335 - age_out_loss: 9.5187 - sex_out_accuracy: 0.7969 - age_out_accuracy: 0.0222\n",
      "Epoch 41: val_loss did not improve from 18.73623\n",
      "297/297 [==============================] - 8s 28ms/step - loss: 10.6604 - sex_out_loss: 0.4341 - age_out_loss: 9.5245 - sex_out_accuracy: 0.7966 - age_out_accuracy: 0.0221 - val_loss: 19.8707 - val_sex_out_loss: 0.4806 - val_age_out_loss: 18.6880 - val_sex_out_accuracy: 0.8212 - val_age_out_accuracy: 0.0150\n",
      "Epoch 42/50\n",
      "295/297 [============================>.] - ETA: 0s - loss: 10.6681 - sex_out_loss: 0.4307 - age_out_loss: 9.5344 - sex_out_accuracy: 0.8009 - age_out_accuracy: 0.0228\n",
      "Epoch 42: val_loss did not improve from 18.73623\n",
      "297/297 [==============================] - 8s 28ms/step - loss: 10.6621 - sex_out_loss: 0.4308 - age_out_loss: 9.5283 - sex_out_accuracy: 0.8009 - age_out_accuracy: 0.0228 - val_loss: 22.0053 - val_sex_out_loss: 0.4862 - val_age_out_loss: 20.8159 - val_sex_out_accuracy: 0.8134 - val_age_out_accuracy: 0.0086\n",
      "Epoch 43/50\n",
      "295/297 [============================>.] - ETA: 0s - loss: 10.6377 - sex_out_loss: 0.4334 - age_out_loss: 9.5004 - sex_out_accuracy: 0.8027 - age_out_accuracy: 0.0222\n",
      "Epoch 43: val_loss did not improve from 18.73623\n",
      "297/297 [==============================] - 8s 28ms/step - loss: 10.6438 - sex_out_loss: 0.4339 - age_out_loss: 9.5061 - sex_out_accuracy: 0.8023 - age_out_accuracy: 0.0221 - val_loss: 21.2282 - val_sex_out_loss: 0.4794 - val_age_out_loss: 20.0447 - val_sex_out_accuracy: 0.8222 - val_age_out_accuracy: 0.0095\n",
      "Epoch 44/50\n",
      "295/297 [============================>.] - ETA: 0s - loss: 10.6320 - sex_out_loss: 0.4330 - age_out_loss: 9.4944 - sex_out_accuracy: 0.8038 - age_out_accuracy: 0.0217\n",
      "Epoch 44: val_loss did not improve from 18.73623\n",
      "297/297 [==============================] - 8s 28ms/step - loss: 10.6342 - sex_out_loss: 0.4331 - age_out_loss: 9.4964 - sex_out_accuracy: 0.8037 - age_out_accuracy: 0.0216 - val_loss: 19.8097 - val_sex_out_loss: 0.4712 - val_age_out_loss: 18.6333 - val_sex_out_accuracy: 0.8267 - val_age_out_accuracy: 0.0120\n",
      "Epoch 45/50\n",
      "295/297 [============================>.] - ETA: 0s - loss: 10.5793 - sex_out_loss: 0.4235 - age_out_loss: 9.4505 - sex_out_accuracy: 0.8060 - age_out_accuracy: 0.0204\n",
      "Epoch 45: val_loss did not improve from 18.73623\n",
      "297/297 [==============================] - 8s 28ms/step - loss: 10.5833 - sex_out_loss: 0.4233 - age_out_loss: 9.4546 - sex_out_accuracy: 0.8060 - age_out_accuracy: 0.0204 - val_loss: 19.3188 - val_sex_out_loss: 0.4767 - val_age_out_loss: 18.1364 - val_sex_out_accuracy: 0.8153 - val_age_out_accuracy: 0.0188\n",
      "Epoch 46/50\n",
      "295/297 [============================>.] - ETA: 0s - loss: 10.4793 - sex_out_loss: 0.4260 - age_out_loss: 9.3472 - sex_out_accuracy: 0.8052 - age_out_accuracy: 0.0197\n",
      "Epoch 46: val_loss did not improve from 18.73623\n",
      "297/297 [==============================] - 8s 28ms/step - loss: 10.4757 - sex_out_loss: 0.4262 - age_out_loss: 9.3434 - sex_out_accuracy: 0.8051 - age_out_accuracy: 0.0196 - val_loss: 19.8902 - val_sex_out_loss: 0.4663 - val_age_out_loss: 18.7170 - val_sex_out_accuracy: 0.8277 - val_age_out_accuracy: 0.0118\n",
      "Epoch 47/50\n",
      "295/297 [============================>.] - ETA: 0s - loss: 10.5025 - sex_out_loss: 0.4236 - age_out_loss: 9.3718 - sex_out_accuracy: 0.8084 - age_out_accuracy: 0.0196\n",
      "Epoch 47: val_loss did not improve from 18.73623\n",
      "297/297 [==============================] - 8s 28ms/step - loss: 10.5050 - sex_out_loss: 0.4236 - age_out_loss: 9.3744 - sex_out_accuracy: 0.8084 - age_out_accuracy: 0.0197 - val_loss: 19.8230 - val_sex_out_loss: 0.4635 - val_age_out_loss: 18.6518 - val_sex_out_accuracy: 0.8264 - val_age_out_accuracy: 0.0141\n",
      "Epoch 48/50\n",
      "295/297 [============================>.] - ETA: 0s - loss: 10.4054 - sex_out_loss: 0.4182 - age_out_loss: 9.2788 - sex_out_accuracy: 0.8083 - age_out_accuracy: 0.0207\n",
      "Epoch 48: val_loss did not improve from 18.73623\n",
      "297/297 [==============================] - 8s 28ms/step - loss: 10.4134 - sex_out_loss: 0.4184 - age_out_loss: 9.2867 - sex_out_accuracy: 0.8080 - age_out_accuracy: 0.0207 - val_loss: 18.8731 - val_sex_out_loss: 0.4600 - val_age_out_loss: 17.7041 - val_sex_out_accuracy: 0.8300 - val_age_out_accuracy: 0.0154\n",
      "Epoch 49/50\n",
      "295/297 [============================>.] - ETA: 0s - loss: 10.4042 - sex_out_loss: 0.4205 - age_out_loss: 9.2743 - sex_out_accuracy: 0.8083 - age_out_accuracy: 0.0194\n",
      "Epoch 49: val_loss did not improve from 18.73623\n",
      "297/297 [==============================] - 8s 28ms/step - loss: 10.4015 - sex_out_loss: 0.4209 - age_out_loss: 9.2712 - sex_out_accuracy: 0.8081 - age_out_accuracy: 0.0195 - val_loss: 18.8413 - val_sex_out_loss: 0.4554 - val_age_out_loss: 17.6766 - val_sex_out_accuracy: 0.8334 - val_age_out_accuracy: 0.0150\n",
      "Epoch 50/50\n",
      "295/297 [============================>.] - ETA: 0s - loss: 10.3669 - sex_out_loss: 0.4187 - age_out_loss: 9.2387 - sex_out_accuracy: 0.8079 - age_out_accuracy: 0.0193\n",
      "Epoch 50: val_loss did not improve from 18.73623\n",
      "297/297 [==============================] - 8s 28ms/step - loss: 10.3673 - sex_out_loss: 0.4191 - age_out_loss: 9.2387 - sex_out_accuracy: 0.8081 - age_out_accuracy: 0.0192 - val_loss: 19.3313 - val_sex_out_loss: 0.4764 - val_age_out_loss: 18.1447 - val_sex_out_accuracy: 0.8098 - val_age_out_accuracy: 0.0129\n"
     ]
    }
   ],
   "source": [
    "History = test_model.fit(x_train, y_train_2, batch_size = 64, validation_data = (x_test,y_test_2), epochs = 50, callbacks=[callback_list])"
   ]
  },
  {
   "cell_type": "code",
   "execution_count": 81,
   "metadata": {},
   "outputs": [],
   "source": [
    "from tensorflow.keras.models import load_model\n",
    "Model = load_model('model_prediction.h5')"
   ]
  },
  {
   "cell_type": "code",
   "execution_count": 82,
   "metadata": {},
   "outputs": [
    {
     "name": "stdout",
     "output_type": "stream",
     "text": [
      "  7/149 [>.............................] - ETA: 1s - loss: 18.9058 - sex_out_loss: 0.5083 - age_out_loss: 17.7011 - sex_out_accuracy: 0.7679 - age_out_accuracy: 0.0179     "
     ]
    },
    {
     "name": "stderr",
     "output_type": "stream",
     "text": [
      "2022-06-03 00:44:21.877585: I tensorflow/core/grappler/optimizers/custom_graph_optimizer_registry.cc:113] Plugin optimizer for device_type GPU is enabled.\n"
     ]
    },
    {
     "name": "stdout",
     "output_type": "stream",
     "text": [
      "149/149 [==============================] - 1s 7ms/step - loss: 18.7362 - sex_out_loss: 0.4828 - age_out_loss: 17.5570 - sex_out_accuracy: 0.8161 - age_out_accuracy: 0.0278\n"
     ]
    },
    {
     "data": {
      "text/plain": [
       "[18.736221313476562,\n",
       " 0.4828487038612366,\n",
       " 17.557008743286133,\n",
       " 0.8161113858222961,\n",
       " 0.027836358174681664]"
      ]
     },
     "execution_count": 82,
     "metadata": {},
     "output_type": "execute_result"
    }
   ],
   "source": [
    "Model.evaluate(x_test, y_test_2)"
   ]
  },
  {
   "cell_type": "code",
   "execution_count": 83,
   "metadata": {},
   "outputs": [
    {
     "name": "stderr",
     "output_type": "stream",
     "text": [
      "2022-06-03 00:44:32.828176: I tensorflow/core/grappler/optimizers/custom_graph_optimizer_registry.cc:113] Plugin optimizer for device_type GPU is enabled.\n"
     ]
    },
    {
     "data": {
      "text/plain": [
       "array([[21.611721 ],\n",
       "       [17.117266 ],\n",
       "       [25.513037 ],\n",
       "       ...,\n",
       "       [ 9.8303585],\n",
       "       [20.077377 ],\n",
       "       [26.173676 ]], dtype=float32)"
      ]
     },
     "execution_count": 83,
     "metadata": {},
     "output_type": "execute_result"
    }
   ],
   "source": [
    "pred = Model.predict(x_test)\n",
    "pred[1]"
   ]
  },
  {
   "cell_type": "code",
   "execution_count": 84,
   "metadata": {},
   "outputs": [
    {
     "data": {
      "image/png": "[encoded data removed]",
      "text/plain": [
       "<Figure size 432x288 with 1 Axes>"
      ]
     },
     "metadata": {
      "needs_background": "light"
     },
     "output_type": "display_data"
    }
   ],
   "source": [
    "import matplotlib.pyplot as plt \n",
    "\n",
    "plt.plot(History.history['loss'])\n",
    "plt.plot(History.history['val_loss'])\n",
    "plt.title('Model loss')\n",
    "plt.ylabel('Loss')\n",
    "plt.xlabel('Epoch')\n",
    "plt.legend(['Train', 'Validation'], loc = 'upper left')\n",
    "plt.subplots_adjust(top = 1.00, bottom = 0.0, left = 0.0, right = 0.95, hspace = 0.25, wspace = 0.35)"
   ]
  },
  {
   "cell_type": "code",
   "execution_count": 85,
   "metadata": {},
   "outputs": [
    {
     "data": {
      "image/png": "[encoded data removed]",
      "text/plain": [
       "<Figure size 432x288 with 1 Axes>"
      ]
     },
     "metadata": {
      "needs_background": "light"
     },
     "output_type": "display_data"
    }
   ],
   "source": [
    "plt.plot(History.history['sex_out_accuracy'])\n",
    "plt.plot(History.history['val_sex_out_accuracy'])\n",
    "plt.title('Model accuracy')\n",
    "plt.ylabel('Accuracy')\n",
    "plt.xlabel('Epoch')\n",
    "plt.legend(['Train', 'Validation'], loc = 'upper left')\n",
    "plt.subplots_adjust(top = 1.00, bottom = 0.0, left = 0.0, right = 0.95, hspace = 0.25, wspace = 0.35)"
   ]
  },
  {
   "cell_type": "code",
   "execution_count": 89,
   "metadata": {},
   "outputs": [
    {
     "data": {
      "image/png": "[encoded data removed]",
      "text/plain": [
       "<Figure size 432x288 with 1 Axes>"
      ]
     },
     "metadata": {
      "needs_background": "light"
     },
     "output_type": "display_data"
    }
   ],
   "source": [
    "fig, ax = plt.subplots()\n",
    "ax.scatter(y_test_2[1], pred[1])\n",
    "ax.plot([y_test_2[1].min(),y_test_2[1].max()], [y_test_2[1].min(), y_test_2[1].max()], 'k--', lw=4)\n",
    "ax.set_xlabel('Actual Age')\n",
    "ax.set_ylabel('Predicted Age')\n",
    "plt.show()"
   ]
  }
 ],
 "metadata": {
  "kernelspec": {
   "display_name": "utk-classifier",
   "language": "python",
   "name": "utk-classifier"
  },
  "language_info": {
   "codemirror_mode": {
    "name": "ipython",
    "version": 3
   },
   "file_extension": ".py",
   "mimetype": "text/x-python",
   "name": "python",
   "nbconvert_exporter": "python",
   "pygments_lexer": "ipython3",
   "version": "3.9.12"
  },
  "orig_nbformat": 4
 },
 "nbformat": 4,
 "nbformat_minor": 2
}
