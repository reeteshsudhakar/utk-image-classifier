{
 "cells": [
  {
   "cell_type": "markdown",
   "metadata": {},
   "source": [
    "### Links to Reference"
   ]
  },
  {
   "cell_type": "markdown",
   "metadata": {},
   "source": [
    "[Keras Multi Output Model](https://github.com/rodrigobressan/keras-multi-output-model-utk-face/blob/master/notebook.ipynb)\n",
    "\n",
    "[Keras Documentation - Functional API](https://keras.io/guides/functional_api/)\n",
    "\n",
    "[Stack Overflow - How to Implement Multilabel Classification with UTKFace](https://stackoverflow.com/questions/66852823/how-to-implement-multilabel-classification-on-utkface-dataset-using-tensorflow-a)\n",
    "\n",
    "[Tensorflow Guide - Keras Train and Evaluate](https://www.tensorflow.org/guide/keras/train_and_evaluate)\n",
    "\n",
    "[Stack Overflow - Keras Value Error with Dimensions](https://stackoverflow.com/questions/61069068/keras-valueerror-dimensions-must-be-equal-but-are-6-and-9-for-node-equal)\n",
    "\n",
    "[Helpful Guide for Age + Gender Detection Using DL](https://www.analyticsvidhya.com/blog/2021/07/age-and-gender-detection-using-deep-learning/)\n",
    "\n",
    "[Keras Model Output Always Same Error](https://github.com/keras-team/keras/issues/6447)"
   ]
  },
  {
   "cell_type": "markdown",
   "metadata": {},
   "source": [
    "### Imports"
   ]
  },
  {
   "cell_type": "code",
   "execution_count": 1,
   "metadata": {},
   "outputs": [],
   "source": [
    "import os\n",
    "import pandas as pd\n",
    "import numpy as np\n",
    "import glob\n",
    "import tensorflow as tf\n",
    "import cv2"
   ]
  },
  {
   "cell_type": "markdown",
   "metadata": {},
   "source": [
    "### Image Labels\n",
    "The labels of each face image is embedded in the file name, formated like [age]_[gender]_[race]_[date&time].jpg\n",
    "\n",
    "**age** is an integer from 0 to 116, indicating the age\n",
    "\n",
    "**gender** is either 0 (male) or 1 (female)\n",
    "\n",
    "**race** is an integer from 0 to 4, denoting White, Black, Asian, Indian, and Others (like Hispanic, Latino, Middle Eastern).\n",
    "\n",
    "**date&time** is in the format of yyyymmddHHMMSSFFF, showing the date and time an image was collected to UTKFace"
   ]
  },
  {
   "cell_type": "code",
   "execution_count": 2,
   "metadata": {},
   "outputs": [
    {
     "data": {
      "text/plain": [
       "{'race_id': {0: 'White', 1: 'Black', 2: 'Asian', 3: 'Indian', 4: 'Others'},\n",
       " 'gender_id': {0: 'Male', 1: 'Female'},\n",
       " 'gender_alias': {'Male': 0, 'Female': 1},\n",
       " 'race_alias': {'White': 0, 'Black': 1, 'Asian': 2, 'Indian': 3, 'Others': 4}}"
      ]
     },
     "execution_count": 2,
     "metadata": {},
     "output_type": "execute_result"
    }
   ],
   "source": [
    "dataset_dict = {\n",
    "    'race_id': {\n",
    "        0: 'White', \n",
    "        1: 'Black', \n",
    "        2: 'Asian', \n",
    "        3: 'Indian', \n",
    "        4: 'Others'\n",
    "    },\n",
    "    'gender_id': {\n",
    "        0: 'Male',\n",
    "        1: 'Female'\n",
    "    }\n",
    "}\n",
    "\n",
    "dataset_dict['gender_alias'] = dict((g, i) for i, g in dataset_dict['gender_id'].items())\n",
    "dataset_dict['race_alias'] = dict((g, i) for i, g in dataset_dict['race_id'].items())\n",
    "\n",
    "dataset_dict"
   ]
  },
  {
   "cell_type": "markdown",
   "metadata": {},
   "source": [
    "### Loading Data into Text and CSV Files"
   ]
  },
  {
   "cell_type": "code",
   "execution_count": 3,
   "metadata": {},
   "outputs": [],
   "source": [
    "def parse_dataset(dataset_path, ext='jpg'):\n",
    "    \"\"\"\n",
    "    Used to extract information about our dataset. It does iterate over all images and return a DataFrame with\n",
    "    the data (age, gender and sex) of all files.\n",
    "    \"\"\"\n",
    "    def parse_info_from_file(path):\n",
    "        \"\"\"\n",
    "        Parse information from a single file\n",
    "        \"\"\"\n",
    "        try:\n",
    "            filename = os.path.split(path)[1]\n",
    "            filename = os.path.splitext(filename)[0]\n",
    "            age, gender, race, _ = filename.split('_')\n",
    "\n",
    "            return int(age), dataset_dict['gender_id'][int(gender)], dataset_dict['race_id'][int(race)]\n",
    "        except Exception as ex:\n",
    "            return None, None, None\n",
    "        \n",
    "    files = glob.glob(os.path.join(dataset_path, \"*.%s\" % ext))\n",
    "    \n",
    "    records = []\n",
    "    for file in files:\n",
    "        info = parse_info_from_file(file)\n",
    "        records.append(info)\n",
    "        \n",
    "    df = pd.DataFrame(records)\n",
    "    df['file'] = files\n",
    "    df.columns = ['Age', 'Gender', 'Race', 'File']\n",
    "    df = df.dropna()\n",
    "    \n",
    "    return df"
   ]
  },
  {
   "cell_type": "code",
   "execution_count": 4,
   "metadata": {},
   "outputs": [],
   "source": [
    "def parse_dataset_raw(dataset_path, ext='jpg'):\n",
    "    \"\"\"\n",
    "    Used to extract information about our dataset. It does iterate over all images and return a DataFrame with\n",
    "    the data (age, gender and sex) of all files.\n",
    "    \"\"\"\n",
    "    def parse_raw_info_from_file(path):\n",
    "        \"\"\"\n",
    "        Parse information from a single file\n",
    "        \"\"\"\n",
    "        try:\n",
    "            filename = os.path.split(path)[1]\n",
    "            filename = os.path.splitext(filename)[0]\n",
    "            age, gender, race, _ = filename.split('_')\n",
    "\n",
    "            return int(age), int(gender), int(race)\n",
    "        except Exception as ex:\n",
    "            return None, None, None\n",
    "        \n",
    "    files = glob.glob(os.path.join(dataset_path, \"*.%s\" % ext))\n",
    "    \n",
    "    records = []\n",
    "    for file in files:\n",
    "        info = parse_raw_info_from_file(file)\n",
    "        records.append(info)\n",
    "        \n",
    "    df = pd.DataFrame(records)\n",
    "    df['file'] = files\n",
    "    df.columns = ['Age', 'Gender', 'Race', 'File']\n",
    "    df = df.dropna()\n",
    "    \n",
    "    return df"
   ]
  },
  {
   "cell_type": "code",
   "execution_count": 5,
   "metadata": {},
   "outputs": [
    {
     "data": {
      "text/html": [
       "<div>\n",
       "<style scoped>\n",
       "    .dataframe tbody tr th:only-of-type {\n",
       "        vertical-align: middle;\n",
       "    }\n",
       "\n",
       "    .dataframe tbody tr th {\n",
       "        vertical-align: top;\n",
       "    }\n",
       "\n",
       "    .dataframe thead th {\n",
       "        text-align: right;\n",
       "    }\n",
       "</style>\n",
       "<table border=\"1\" class=\"dataframe\">\n",
       "  <thead>\n",
       "    <tr style=\"text-align: right;\">\n",
       "      <th></th>\n",
       "      <th>Age</th>\n",
       "      <th>Gender</th>\n",
       "      <th>Race</th>\n",
       "      <th>File</th>\n",
       "    </tr>\n",
       "  </thead>\n",
       "  <tbody>\n",
       "    <tr>\n",
       "      <th>0</th>\n",
       "      <td>9.0</td>\n",
       "      <td>Female</td>\n",
       "      <td>Asian</td>\n",
       "      <td>UTKFace/9_1_2_20161219204347420.jpg.chip.jpg</td>\n",
       "    </tr>\n",
       "    <tr>\n",
       "      <th>1</th>\n",
       "      <td>36.0</td>\n",
       "      <td>Male</td>\n",
       "      <td>Black</td>\n",
       "      <td>UTKFace/36_0_1_20170117163203851.jpg.chip.jpg</td>\n",
       "    </tr>\n",
       "    <tr>\n",
       "      <th>2</th>\n",
       "      <td>86.0</td>\n",
       "      <td>Female</td>\n",
       "      <td>White</td>\n",
       "      <td>UTKFace/86_1_0_20170120225751953.jpg.chip.jpg</td>\n",
       "    </tr>\n",
       "    <tr>\n",
       "      <th>3</th>\n",
       "      <td>26.0</td>\n",
       "      <td>Female</td>\n",
       "      <td>White</td>\n",
       "      <td>UTKFace/26_1_0_20170116171048641.jpg.chip.jpg</td>\n",
       "    </tr>\n",
       "    <tr>\n",
       "      <th>4</th>\n",
       "      <td>1.0</td>\n",
       "      <td>Female</td>\n",
       "      <td>Asian</td>\n",
       "      <td>UTKFace/1_1_2_20161219154612988.jpg.chip.jpg</td>\n",
       "    </tr>\n",
       "    <tr>\n",
       "      <th>...</th>\n",
       "      <td>...</td>\n",
       "      <td>...</td>\n",
       "      <td>...</td>\n",
       "      <td>...</td>\n",
       "    </tr>\n",
       "    <tr>\n",
       "      <th>23703</th>\n",
       "      <td>35.0</td>\n",
       "      <td>Male</td>\n",
       "      <td>White</td>\n",
       "      <td>UTKFace/35_0_0_20170117155112202.jpg.chip.jpg</td>\n",
       "    </tr>\n",
       "    <tr>\n",
       "      <th>23704</th>\n",
       "      <td>52.0</td>\n",
       "      <td>Male</td>\n",
       "      <td>Indian</td>\n",
       "      <td>UTKFace/52_0_3_20170119200211340.jpg.chip.jpg</td>\n",
       "    </tr>\n",
       "    <tr>\n",
       "      <th>23705</th>\n",
       "      <td>26.0</td>\n",
       "      <td>Male</td>\n",
       "      <td>Black</td>\n",
       "      <td>UTKFace/26_0_1_20170116010114628.jpg.chip.jpg</td>\n",
       "    </tr>\n",
       "    <tr>\n",
       "      <th>23706</th>\n",
       "      <td>28.0</td>\n",
       "      <td>Male</td>\n",
       "      <td>Black</td>\n",
       "      <td>UTKFace/28_0_1_20170117015458481.jpg.chip.jpg</td>\n",
       "    </tr>\n",
       "    <tr>\n",
       "      <th>23707</th>\n",
       "      <td>50.0</td>\n",
       "      <td>Female</td>\n",
       "      <td>Black</td>\n",
       "      <td>UTKFace/50_1_1_20170120220813715.jpg.chip.jpg</td>\n",
       "    </tr>\n",
       "  </tbody>\n",
       "</table>\n",
       "<p>23705 rows × 4 columns</p>\n",
       "</div>"
      ],
      "text/plain": [
       "        Age  Gender    Race                                           File\n",
       "0       9.0  Female   Asian   UTKFace/9_1_2_20161219204347420.jpg.chip.jpg\n",
       "1      36.0    Male   Black  UTKFace/36_0_1_20170117163203851.jpg.chip.jpg\n",
       "2      86.0  Female   White  UTKFace/86_1_0_20170120225751953.jpg.chip.jpg\n",
       "3      26.0  Female   White  UTKFace/26_1_0_20170116171048641.jpg.chip.jpg\n",
       "4       1.0  Female   Asian   UTKFace/1_1_2_20161219154612988.jpg.chip.jpg\n",
       "...     ...     ...     ...                                            ...\n",
       "23703  35.0    Male   White  UTKFace/35_0_0_20170117155112202.jpg.chip.jpg\n",
       "23704  52.0    Male  Indian  UTKFace/52_0_3_20170119200211340.jpg.chip.jpg\n",
       "23705  26.0    Male   Black  UTKFace/26_0_1_20170116010114628.jpg.chip.jpg\n",
       "23706  28.0    Male   Black  UTKFace/28_0_1_20170117015458481.jpg.chip.jpg\n",
       "23707  50.0  Female   Black  UTKFace/50_1_1_20170120220813715.jpg.chip.jpg\n",
       "\n",
       "[23705 rows x 4 columns]"
      ]
     },
     "execution_count": 5,
     "metadata": {},
     "output_type": "execute_result"
    }
   ],
   "source": [
    "dataset_path = \"UTKFace\"\n",
    "df = parse_dataset(dataset_path)\n",
    "df"
   ]
  },
  {
   "cell_type": "code",
   "execution_count": 6,
   "metadata": {},
   "outputs": [
    {
     "data": {
      "text/html": [
       "<div>\n",
       "<style scoped>\n",
       "    .dataframe tbody tr th:only-of-type {\n",
       "        vertical-align: middle;\n",
       "    }\n",
       "\n",
       "    .dataframe tbody tr th {\n",
       "        vertical-align: top;\n",
       "    }\n",
       "\n",
       "    .dataframe thead th {\n",
       "        text-align: right;\n",
       "    }\n",
       "</style>\n",
       "<table border=\"1\" class=\"dataframe\">\n",
       "  <thead>\n",
       "    <tr style=\"text-align: right;\">\n",
       "      <th></th>\n",
       "      <th>Age</th>\n",
       "      <th>Gender</th>\n",
       "      <th>Race</th>\n",
       "      <th>File</th>\n",
       "    </tr>\n",
       "  </thead>\n",
       "  <tbody>\n",
       "    <tr>\n",
       "      <th>0</th>\n",
       "      <td>9.0</td>\n",
       "      <td>1.0</td>\n",
       "      <td>2.0</td>\n",
       "      <td>UTKFace/9_1_2_20161219204347420.jpg.chip.jpg</td>\n",
       "    </tr>\n",
       "    <tr>\n",
       "      <th>1</th>\n",
       "      <td>36.0</td>\n",
       "      <td>0.0</td>\n",
       "      <td>1.0</td>\n",
       "      <td>UTKFace/36_0_1_20170117163203851.jpg.chip.jpg</td>\n",
       "    </tr>\n",
       "    <tr>\n",
       "      <th>2</th>\n",
       "      <td>86.0</td>\n",
       "      <td>1.0</td>\n",
       "      <td>0.0</td>\n",
       "      <td>UTKFace/86_1_0_20170120225751953.jpg.chip.jpg</td>\n",
       "    </tr>\n",
       "    <tr>\n",
       "      <th>3</th>\n",
       "      <td>26.0</td>\n",
       "      <td>1.0</td>\n",
       "      <td>0.0</td>\n",
       "      <td>UTKFace/26_1_0_20170116171048641.jpg.chip.jpg</td>\n",
       "    </tr>\n",
       "    <tr>\n",
       "      <th>4</th>\n",
       "      <td>1.0</td>\n",
       "      <td>1.0</td>\n",
       "      <td>2.0</td>\n",
       "      <td>UTKFace/1_1_2_20161219154612988.jpg.chip.jpg</td>\n",
       "    </tr>\n",
       "    <tr>\n",
       "      <th>...</th>\n",
       "      <td>...</td>\n",
       "      <td>...</td>\n",
       "      <td>...</td>\n",
       "      <td>...</td>\n",
       "    </tr>\n",
       "    <tr>\n",
       "      <th>23703</th>\n",
       "      <td>35.0</td>\n",
       "      <td>0.0</td>\n",
       "      <td>0.0</td>\n",
       "      <td>UTKFace/35_0_0_20170117155112202.jpg.chip.jpg</td>\n",
       "    </tr>\n",
       "    <tr>\n",
       "      <th>23704</th>\n",
       "      <td>52.0</td>\n",
       "      <td>0.0</td>\n",
       "      <td>3.0</td>\n",
       "      <td>UTKFace/52_0_3_20170119200211340.jpg.chip.jpg</td>\n",
       "    </tr>\n",
       "    <tr>\n",
       "      <th>23705</th>\n",
       "      <td>26.0</td>\n",
       "      <td>0.0</td>\n",
       "      <td>1.0</td>\n",
       "      <td>UTKFace/26_0_1_20170116010114628.jpg.chip.jpg</td>\n",
       "    </tr>\n",
       "    <tr>\n",
       "      <th>23706</th>\n",
       "      <td>28.0</td>\n",
       "      <td>0.0</td>\n",
       "      <td>1.0</td>\n",
       "      <td>UTKFace/28_0_1_20170117015458481.jpg.chip.jpg</td>\n",
       "    </tr>\n",
       "    <tr>\n",
       "      <th>23707</th>\n",
       "      <td>50.0</td>\n",
       "      <td>1.0</td>\n",
       "      <td>1.0</td>\n",
       "      <td>UTKFace/50_1_1_20170120220813715.jpg.chip.jpg</td>\n",
       "    </tr>\n",
       "  </tbody>\n",
       "</table>\n",
       "<p>23705 rows × 4 columns</p>\n",
       "</div>"
      ],
      "text/plain": [
       "        Age  Gender  Race                                           File\n",
       "0       9.0     1.0   2.0   UTKFace/9_1_2_20161219204347420.jpg.chip.jpg\n",
       "1      36.0     0.0   1.0  UTKFace/36_0_1_20170117163203851.jpg.chip.jpg\n",
       "2      86.0     1.0   0.0  UTKFace/86_1_0_20170120225751953.jpg.chip.jpg\n",
       "3      26.0     1.0   0.0  UTKFace/26_1_0_20170116171048641.jpg.chip.jpg\n",
       "4       1.0     1.0   2.0   UTKFace/1_1_2_20161219154612988.jpg.chip.jpg\n",
       "...     ...     ...   ...                                            ...\n",
       "23703  35.0     0.0   0.0  UTKFace/35_0_0_20170117155112202.jpg.chip.jpg\n",
       "23704  52.0     0.0   3.0  UTKFace/52_0_3_20170119200211340.jpg.chip.jpg\n",
       "23705  26.0     0.0   1.0  UTKFace/26_0_1_20170116010114628.jpg.chip.jpg\n",
       "23706  28.0     0.0   1.0  UTKFace/28_0_1_20170117015458481.jpg.chip.jpg\n",
       "23707  50.0     1.0   1.0  UTKFace/50_1_1_20170120220813715.jpg.chip.jpg\n",
       "\n",
       "[23705 rows x 4 columns]"
      ]
     },
     "execution_count": 6,
     "metadata": {},
     "output_type": "execute_result"
    }
   ],
   "source": [
    "df_raw = parse_dataset_raw(dataset_path)\n",
    "df_raw"
   ]
  },
  {
   "cell_type": "code",
   "execution_count": 7,
   "metadata": {},
   "outputs": [],
   "source": [
    "import plotly.graph_objects as go\n",
    "from IPython.display import display, Image\n",
    "\n",
    "def plot_distribution(pd_series):\n",
    "    labels = pd_series.value_counts().index.tolist()\n",
    "    counts = pd_series.value_counts().values.tolist()\n",
    "    \n",
    "    pie_plot = go.Pie(labels=labels, values=counts, hole=.3)\n",
    "    fig = go.Figure(data=[pie_plot])\n",
    "    fig.update_layout(title_text='Distribution for %s' % pd_series.name)\n",
    "        \n",
    "    img = fig.to_image(format=\"png\")\n",
    "    display(Image(img))"
   ]
  },
  {
   "cell_type": "code",
   "execution_count": 8,
   "metadata": {},
   "outputs": [
    {
     "data": {
      "image/png": "[encoded data removed]",
      "text/plain": [
       "<IPython.core.display.Image object>"
      ]
     },
     "metadata": {},
     "output_type": "display_data"
    },
    {
     "data": {
      "image/png": "[encoded data removed]",
      "text/plain": [
       "<IPython.core.display.Image object>"
      ]
     },
     "metadata": {},
     "output_type": "display_data"
    }
   ],
   "source": [
    "plot_distribution(df[\"Race\"])\n",
    "plot_distribution(df[\"Gender\"])"
   ]
  },
  {
   "cell_type": "code",
   "execution_count": 9,
   "metadata": {},
   "outputs": [
    {
     "data": {
      "image/png": "[encoded data removed]",
      "text/plain": [
       "<IPython.core.display.Image object>"
      ]
     },
     "metadata": {},
     "output_type": "display_data"
    }
   ],
   "source": [
    "bins = [0, 10, 20, 30, 40, 60, 80, np.inf]\n",
    "names = ['<10', '10-20', '20-30', '30-40', '40-60', '60-80', '80+']\n",
    "\n",
    "age_binned = pd.cut(df['Age'], bins, labels=names)\n",
    "plot_distribution(age_binned)\n"
   ]
  },
  {
   "cell_type": "code",
   "execution_count": 10,
   "metadata": {},
   "outputs": [
    {
     "name": "stdout",
     "output_type": "stream",
     "text": [
      "23705\n",
      "23705\n"
     ]
    }
   ],
   "source": [
    "ages = df_raw[\"Age\"].tolist()\n",
    "genders = df_raw[\"Gender\"].tolist()\n",
    "print(len(ages))\n",
    "print(len(genders))"
   ]
  },
  {
   "cell_type": "code",
   "execution_count": 11,
   "metadata": {},
   "outputs": [
    {
     "name": "stdout",
     "output_type": "stream",
     "text": [
      "23705\n",
      "23705\n"
     ]
    }
   ],
   "source": [
    "files = df_raw[\"File\"].tolist()\n",
    "print(len(files))\n",
    "\n",
    "images = []\n",
    "for file in files: \n",
    "    image = cv2.imread(file)\n",
    "    image = cv2.cvtColor(image, cv2.COLOR_BGR2RGB)\n",
    "    image = cv2.resize(image,(48,48))\n",
    "    \n",
    "    images.append(image)\n",
    "\n",
    "print(len(images))"
   ]
  },
  {
   "cell_type": "code",
   "execution_count": 12,
   "metadata": {},
   "outputs": [
    {
     "name": "stdout",
     "output_type": "stream",
     "text": [
      "23705\n",
      "[[9.0], [1.0]]\n"
     ]
    }
   ],
   "source": [
    "labels = []\n",
    "\n",
    "i = 0\n",
    "while i < len(ages): \n",
    "    label = []\n",
    "    label.append(([ages[i]]))\n",
    "    label.append(([genders[i]]))\n",
    "    labels.append(label)\n",
    "    i += 1\n",
    "\n",
    "print(len(labels))\n",
    "print(labels[0])"
   ]
  },
  {
   "cell_type": "code",
   "execution_count": 13,
   "metadata": {},
   "outputs": [
    {
     "name": "stdout",
     "output_type": "stream",
     "text": [
      "<class 'list'>\n",
      "<class 'list'>\n",
      "<class 'list'>\n",
      "<class 'list'>\n"
     ]
    }
   ],
   "source": [
    "print(type(ages))\n",
    "print(type(genders))\n",
    "print(type(images))\n",
    "print(type(labels))"
   ]
  },
  {
   "cell_type": "code",
   "execution_count": 14,
   "metadata": {},
   "outputs": [
    {
     "name": "stdout",
     "output_type": "stream",
     "text": [
      "(23705,)\n",
      "(23705,)\n",
      "(23705, 2, 1)\n",
      "(23705, 48, 48, 3)\n"
     ]
    }
   ],
   "source": [
    "ages_f = np.array(ages)\n",
    "genders_f = np.array(genders)\n",
    "labels_f = np.array(labels)\n",
    "images_f = np.array(images)\n",
    "images_f_2 = images_f / 255\n",
    "print(ages_f.shape)\n",
    "print(genders_f.shape)\n",
    "print(labels_f.shape)\n",
    "print(images_f.shape)"
   ]
  },
  {
   "cell_type": "code",
   "execution_count": 15,
   "metadata": {},
   "outputs": [],
   "source": [
    "from sklearn.model_selection import train_test_split"
   ]
  },
  {
   "cell_type": "code",
   "execution_count": 16,
   "metadata": {},
   "outputs": [
    {
     "name": "stdout",
     "output_type": "stream",
     "text": [
      "(17778, 48, 48, 3)\n",
      "(5927, 48, 48, 3)\n",
      "(17778, 2, 1)\n",
      "(5927, 2, 1)\n"
     ]
    }
   ],
   "source": [
    "x_train, x_test, y_train, y_test = train_test_split(images_f, labels_f, test_size=0.25)\n",
    "print(x_train.shape)\n",
    "print(x_test.shape)\n",
    "print(y_train.shape)\n",
    "print(y_test.shape)"
   ]
  },
  {
   "cell_type": "code",
   "execution_count": 17,
   "metadata": {},
   "outputs": [],
   "source": [
    "y_train_2 = [y_train[:,1],y_train[:,0]]\n",
    "y_test_2 = [y_test[:,1],y_test[:,0]]"
   ]
  },
  {
   "cell_type": "code",
   "execution_count": 18,
   "metadata": {},
   "outputs": [
    {
     "data": {
      "text/plain": [
       "array([[1.],\n",
       "       [1.],\n",
       "       [0.],\n",
       "       [0.],\n",
       "       [1.]])"
      ]
     },
     "execution_count": 18,
     "metadata": {},
     "output_type": "execute_result"
    }
   ],
   "source": [
    "y_train_2[0][0:5]"
   ]
  },
  {
   "cell_type": "code",
   "execution_count": 19,
   "metadata": {},
   "outputs": [
    {
     "data": {
      "text/plain": [
       "array([[18.],\n",
       "       [25.],\n",
       "       [63.],\n",
       "       [75.],\n",
       "       [41.]])"
      ]
     },
     "execution_count": 19,
     "metadata": {},
     "output_type": "execute_result"
    }
   ],
   "source": [
    "y_train_2[1][0:5]"
   ]
  },
  {
   "cell_type": "code",
   "execution_count": 20,
   "metadata": {},
   "outputs": [],
   "source": [
    "from tensorflow.keras.layers import Dropout\n",
    "from tensorflow.keras.layers import Flatten,BatchNormalization\n",
    "from tensorflow.keras.layers import Dense, MaxPooling2D,Conv2D\n",
    "from tensorflow.keras.layers import Input,Activation,Add\n",
    "from tensorflow.keras.models import Model\n",
    "from tensorflow.keras.regularizers import l2\n",
    "from tensorflow.keras.optimizers import Adam"
   ]
  },
  {
   "cell_type": "code",
   "execution_count": 21,
   "metadata": {},
   "outputs": [],
   "source": [
    "def Convolution(input_tensor,filters):\n",
    "    x = Conv2D(filters=32,kernel_size=(3, 3),padding = 'same',kernel_regularizer=l2(0.01))(input_tensor)\n",
    "    x = Dropout(0.2)(x)\n",
    "    x = Activation('relu')(x)\n",
    "\n",
    "    return x\n",
    "\n",
    "def model(input_shape):\n",
    "    inputs = Input((input_shape))\n",
    "\n",
    "    conv_1= Convolution(inputs,64)\n",
    "    maxp_1 = MaxPooling2D(pool_size = (2,2)) (conv_1)\n",
    "    conv_2 = Convolution(maxp_1,32)\n",
    "    maxp_2 = MaxPooling2D(pool_size = (2, 2)) (conv_2)\n",
    "    conv_3 = Convolution(maxp_2,64)\n",
    "    maxp_3 = MaxPooling2D(pool_size = (2, 2)) (conv_3)\n",
    "    conv_4 = Convolution(maxp_3,512)\n",
    "    maxp_4 = MaxPooling2D(pool_size = (2, 2)) (conv_4)\n",
    "    flatten= Flatten() (maxp_4)\n",
    "    dense_1= Dense(64,activation='relu')(flatten)\n",
    "    dense_2= Dense(64,activation='relu')(flatten)\n",
    "    drop_1=Dropout(0.2)(dense_1)\n",
    "    drop_2=Dropout(0.2)(dense_2)\n",
    "    output_1= Dense(1,activation=\"sigmoid\",name='sex_out')(drop_1)\n",
    "    output_2= Dense(1,activation=\"relu\",name='age_out')(drop_2)\n",
    "    model = Model(inputs=[inputs], outputs=[output_1,output_2])\n",
    "    model.compile(loss=[\"binary_crossentropy\",\"mae\"], optimizer=tf.keras.optimizers.Adam(learning_rate=1e-4), metrics=[\"accuracy\"])\n",
    "\n",
    "    return model"
   ]
  },
  {
   "cell_type": "code",
   "execution_count": 22,
   "metadata": {},
   "outputs": [
    {
     "name": "stdout",
     "output_type": "stream",
     "text": [
      "Metal device set to: Apple M1\n",
      "\n",
      "systemMemory: 16.00 GB\n",
      "maxCacheSize: 5.33 GB\n",
      "\n",
      "Model: \"model\"\n",
      "__________________________________________________________________________________________________\n",
      " Layer (type)                   Output Shape         Param #     Connected to                     \n",
      "==================================================================================================\n",
      " input_1 (InputLayer)           [(None, 48, 48, 3)]  0           []                               \n",
      "                                                                                                  \n",
      " conv2d (Conv2D)                (None, 48, 48, 32)   896         ['input_1[0][0]']                \n",
      "                                                                                                  \n",
      " dropout (Dropout)              (None, 48, 48, 32)   0           ['conv2d[0][0]']                 \n",
      "                                                                                                  \n",
      " activation (Activation)        (None, 48, 48, 32)   0           ['dropout[0][0]']                \n",
      "                                                                                                  \n",
      " max_pooling2d (MaxPooling2D)   (None, 24, 24, 32)   0           ['activation[0][0]']             \n",
      "                                                                                                  \n",
      " conv2d_1 (Conv2D)              (None, 24, 24, 32)   9248        ['max_pooling2d[0][0]']          \n",
      "                                                                                                  \n",
      " dropout_1 (Dropout)            (None, 24, 24, 32)   0           ['conv2d_1[0][0]']               \n",
      "                                                                                                  \n",
      " activation_1 (Activation)      (None, 24, 24, 32)   0           ['dropout_1[0][0]']              \n",
      "                                                                                                  \n",
      " max_pooling2d_1 (MaxPooling2D)  (None, 12, 12, 32)  0           ['activation_1[0][0]']           \n",
      "                                                                                                  \n",
      " conv2d_2 (Conv2D)              (None, 12, 12, 32)   9248        ['max_pooling2d_1[0][0]']        \n",
      "                                                                                                  \n",
      " dropout_2 (Dropout)            (None, 12, 12, 32)   0           ['conv2d_2[0][0]']               \n",
      "                                                                                                  \n",
      " activation_2 (Activation)      (None, 12, 12, 32)   0           ['dropout_2[0][0]']              \n",
      "                                                                                                  \n",
      " max_pooling2d_2 (MaxPooling2D)  (None, 6, 6, 32)    0           ['activation_2[0][0]']           \n",
      "                                                                                                  \n",
      " conv2d_3 (Conv2D)              (None, 6, 6, 32)     9248        ['max_pooling2d_2[0][0]']        \n",
      "                                                                                                  \n",
      " dropout_3 (Dropout)            (None, 6, 6, 32)     0           ['conv2d_3[0][0]']               \n",
      "                                                                                                  \n",
      " activation_3 (Activation)      (None, 6, 6, 32)     0           ['dropout_3[0][0]']              \n",
      "                                                                                                  \n",
      " max_pooling2d_3 (MaxPooling2D)  (None, 3, 3, 32)    0           ['activation_3[0][0]']           \n",
      "                                                                                                  \n",
      " flatten (Flatten)              (None, 288)          0           ['max_pooling2d_3[0][0]']        \n",
      "                                                                                                  \n",
      " dense (Dense)                  (None, 64)           18496       ['flatten[0][0]']                \n",
      "                                                                                                  \n",
      " dense_1 (Dense)                (None, 64)           18496       ['flatten[0][0]']                \n",
      "                                                                                                  \n",
      " dropout_4 (Dropout)            (None, 64)           0           ['dense[0][0]']                  \n",
      "                                                                                                  \n",
      " dropout_5 (Dropout)            (None, 64)           0           ['dense_1[0][0]']                \n",
      "                                                                                                  \n",
      " sex_out (Dense)                (None, 1)            65          ['dropout_4[0][0]']              \n",
      "                                                                                                  \n",
      " age_out (Dense)                (None, 1)            65          ['dropout_5[0][0]']              \n",
      "                                                                                                  \n",
      "==================================================================================================\n",
      "Total params: 65,762\n",
      "Trainable params: 65,762\n",
      "Non-trainable params: 0\n",
      "__________________________________________________________________________________________________\n"
     ]
    },
    {
     "name": "stderr",
     "output_type": "stream",
     "text": [
      "2022-06-01 22:00:36.992994: I tensorflow/core/common_runtime/pluggable_device/pluggable_device_factory.cc:305] Could not identify NUMA node of platform GPU ID 0, defaulting to 0. Your kernel may not have been built with NUMA support.\n",
      "2022-06-01 22:00:36.993211: I tensorflow/core/common_runtime/pluggable_device/pluggable_device_factory.cc:271] Created TensorFlow device (/job:localhost/replica:0/task:0/device:GPU:0 with 0 MB memory) -> physical PluggableDevice (device: 0, name: METAL, pci bus id: <undefined>)\n"
     ]
    }
   ],
   "source": [
    "test_model = model((48, 48, 3))\n",
    "test_model.summary()"
   ]
  },
  {
   "cell_type": "code",
   "execution_count": 23,
   "metadata": {},
   "outputs": [],
   "source": [
    "from tensorflow.keras.callbacks import ModelCheckpoint"
   ]
  },
  {
   "cell_type": "code",
   "execution_count": 24,
   "metadata": {},
   "outputs": [],
   "source": [
    "fle_s='model_prediction.h5'\n",
    "checkpointer = ModelCheckpoint(fle_s, monitor='val_loss',verbose=1,save_best_only=True,save_weights_only=False, mode='auto',save_freq='epoch')\n",
    "Early_stop=tf.keras.callbacks.EarlyStopping(patience=80, monitor='val_loss',restore_best_weights=True),\n",
    "callback_list=[checkpointer,Early_stop]"
   ]
  },
  {
   "cell_type": "code",
   "execution_count": 25,
   "metadata": {},
   "outputs": [
    {
     "name": "stdout",
     "output_type": "stream",
     "text": [
      "Epoch 1/150\n"
     ]
    },
    {
     "name": "stderr",
     "output_type": "stream",
     "text": [
      "2022-06-01 22:00:37.279081: W tensorflow/core/platform/profile_utils/cpu_utils.cc:128] Failed to get CPU frequency: 0 Hz\n",
      "2022-06-01 22:00:37.754188: I tensorflow/core/grappler/optimizers/custom_graph_optimizer_registry.cc:113] Plugin optimizer for device_type GPU is enabled.\n"
     ]
    },
    {
     "name": "stdout",
     "output_type": "stream",
     "text": [
      "278/278 [==============================] - ETA: 0s - loss: 22.9841 - sex_out_loss: 3.7860 - age_out_loss: 18.1991 - sex_out_accuracy: 0.5457 - age_out_accuracy: 0.0461"
     ]
    },
    {
     "name": "stderr",
     "output_type": "stream",
     "text": [
      "2022-06-01 22:00:45.788613: I tensorflow/core/grappler/optimizers/custom_graph_optimizer_registry.cc:113] Plugin optimizer for device_type GPU is enabled.\n"
     ]
    },
    {
     "name": "stdout",
     "output_type": "stream",
     "text": [
      "\n",
      "Epoch 1: val_loss improved from inf to 23.62837, saving model to model_prediction.h5\n",
      "278/278 [==============================] - 9s 30ms/step - loss: 22.9841 - sex_out_loss: 3.7860 - age_out_loss: 18.1991 - sex_out_accuracy: 0.5457 - age_out_accuracy: 0.0461 - val_loss: 23.6284 - val_sex_out_loss: 0.6651 - val_age_out_loss: 21.9767 - val_sex_out_accuracy: 0.6121 - val_age_out_accuracy: 0.0439\n",
      "Epoch 2/150\n",
      "278/278 [==============================] - ETA: 0s - loss: 16.5819 - sex_out_loss: 0.7447 - age_out_loss: 14.8613 - sex_out_accuracy: 0.5863 - age_out_accuracy: 0.0485\n",
      "Epoch 2: val_loss improved from 23.62837 to 22.39332, saving model to model_prediction.h5\n",
      "278/278 [==============================] - 9s 33ms/step - loss: 16.5819 - sex_out_loss: 0.7447 - age_out_loss: 14.8613 - sex_out_accuracy: 0.5863 - age_out_accuracy: 0.0485 - val_loss: 22.3933 - val_sex_out_loss: 0.6640 - val_age_out_loss: 20.7634 - val_sex_out_accuracy: 0.6325 - val_age_out_accuracy: 0.0439\n",
      "Epoch 3/150\n",
      "277/278 [============================>.] - ETA: 0s - loss: 15.4188 - sex_out_loss: 0.6723 - age_out_loss: 13.7893 - sex_out_accuracy: 0.6128 - age_out_accuracy: 0.0486\n",
      "Epoch 3: val_loss improved from 22.39332 to 21.97655, saving model to model_prediction.h5\n",
      "278/278 [==============================] - 9s 31ms/step - loss: 15.4163 - sex_out_loss: 0.6721 - age_out_loss: 13.7870 - sex_out_accuracy: 0.6130 - age_out_accuracy: 0.0485 - val_loss: 21.9765 - val_sex_out_loss: 0.6451 - val_age_out_loss: 20.3825 - val_sex_out_accuracy: 0.6659 - val_age_out_accuracy: 0.0439\n",
      "Epoch 4/150\n",
      "277/278 [============================>.] - ETA: 0s - loss: 14.4894 - sex_out_loss: 0.6411 - age_out_loss: 12.9069 - sex_out_accuracy: 0.6479 - age_out_accuracy: 0.0482\n",
      "Epoch 4: val_loss did not improve from 21.97655\n",
      "278/278 [==============================] - 9s 31ms/step - loss: 14.4913 - sex_out_loss: 0.6411 - age_out_loss: 12.9088 - sex_out_accuracy: 0.6478 - age_out_accuracy: 0.0483 - val_loss: 22.9078 - val_sex_out_loss: 0.6308 - val_age_out_loss: 21.3427 - val_sex_out_accuracy: 0.6904 - val_age_out_accuracy: 0.0429\n",
      "Epoch 5/150\n",
      "277/278 [============================>.] - ETA: 0s - loss: 13.8378 - sex_out_loss: 0.6195 - age_out_loss: 12.2904 - sex_out_accuracy: 0.6644 - age_out_accuracy: 0.0473\n",
      "Epoch 5: val_loss improved from 21.97655 to 20.42754, saving model to model_prediction.h5\n",
      "278/278 [==============================] - 9s 31ms/step - loss: 13.8390 - sex_out_loss: 0.6192 - age_out_loss: 12.2918 - sex_out_accuracy: 0.6645 - age_out_accuracy: 0.0474 - val_loss: 20.4275 - val_sex_out_loss: 0.6140 - val_age_out_loss: 18.8915 - val_sex_out_accuracy: 0.6843 - val_age_out_accuracy: 0.0390\n",
      "Epoch 6/150\n",
      "277/278 [============================>.] - ETA: 0s - loss: 13.2568 - sex_out_loss: 0.5956 - age_out_loss: 11.7450 - sex_out_accuracy: 0.6810 - age_out_accuracy: 0.0430\n",
      "Epoch 6: val_loss did not improve from 20.42754\n",
      "278/278 [==============================] - 9s 31ms/step - loss: 13.2618 - sex_out_loss: 0.5958 - age_out_loss: 11.7498 - sex_out_accuracy: 0.6811 - age_out_accuracy: 0.0429 - val_loss: 21.9137 - val_sex_out_loss: 0.6010 - val_age_out_loss: 20.4018 - val_sex_out_accuracy: 0.7167 - val_age_out_accuracy: 0.0282\n",
      "Epoch 7/150\n",
      "277/278 [============================>.] - ETA: 0s - loss: 12.8821 - sex_out_loss: 0.5819 - age_out_loss: 11.3941 - sex_out_accuracy: 0.6968 - age_out_accuracy: 0.0405\n",
      "Epoch 7: val_loss did not improve from 20.42754\n",
      "278/278 [==============================] - 8s 30ms/step - loss: 12.8826 - sex_out_loss: 0.5818 - age_out_loss: 11.3947 - sex_out_accuracy: 0.6969 - age_out_accuracy: 0.0404 - val_loss: 20.5696 - val_sex_out_loss: 0.5971 - val_age_out_loss: 19.0709 - val_sex_out_accuracy: 0.7268 - val_age_out_accuracy: 0.0282\n",
      "Epoch 8/150\n",
      "277/278 [============================>.] - ETA: 0s - loss: 12.5727 - sex_out_loss: 0.5729 - age_out_loss: 11.1026 - sex_out_accuracy: 0.7068 - age_out_accuracy: 0.0369\n",
      "Epoch 8: val_loss did not improve from 20.42754\n",
      "278/278 [==============================] - 8s 29ms/step - loss: 12.5784 - sex_out_loss: 0.5729 - age_out_loss: 11.1083 - sex_out_accuracy: 0.7069 - age_out_accuracy: 0.0368 - val_loss: 21.5326 - val_sex_out_loss: 0.5848 - val_age_out_loss: 20.0549 - val_sex_out_accuracy: 0.7381 - val_age_out_accuracy: 0.0162\n",
      "Epoch 9/150\n",
      "277/278 [============================>.] - ETA: 0s - loss: 12.1168 - sex_out_loss: 0.5627 - age_out_loss: 10.6651 - sex_out_accuracy: 0.7129 - age_out_accuracy: 0.0328\n",
      "Epoch 9: val_loss did not improve from 20.42754\n",
      "278/278 [==============================] - 8s 29ms/step - loss: 12.1217 - sex_out_loss: 0.5628 - age_out_loss: 10.6699 - sex_out_accuracy: 0.7129 - age_out_accuracy: 0.0328 - val_loss: 21.7472 - val_sex_out_loss: 0.5774 - val_age_out_loss: 20.2847 - val_sex_out_accuracy: 0.7424 - val_age_out_accuracy: 0.0152\n",
      "Epoch 10/150\n",
      "277/278 [============================>.] - ETA: 0s - loss: 11.8367 - sex_out_loss: 0.5575 - age_out_loss: 10.3978 - sex_out_accuracy: 0.7204 - age_out_accuracy: 0.0300\n",
      "Epoch 10: val_loss did not improve from 20.42754\n",
      "278/278 [==============================] - 8s 28ms/step - loss: 11.8387 - sex_out_loss: 0.5577 - age_out_loss: 10.3996 - sex_out_accuracy: 0.7202 - age_out_accuracy: 0.0300 - val_loss: 20.9200 - val_sex_out_loss: 0.5756 - val_age_out_loss: 19.4669 - val_sex_out_accuracy: 0.7425 - val_age_out_accuracy: 0.0118\n",
      "Epoch 11/150\n",
      "277/278 [============================>.] - ETA: 0s - loss: 11.7043 - sex_out_loss: 0.5499 - age_out_loss: 10.2805 - sex_out_accuracy: 0.7227 - age_out_accuracy: 0.0260\n",
      "Epoch 11: val_loss did not improve from 20.42754\n",
      "278/278 [==============================] - 8s 28ms/step - loss: 11.7006 - sex_out_loss: 0.5499 - age_out_loss: 10.2768 - sex_out_accuracy: 0.7227 - age_out_accuracy: 0.0261 - val_loss: 22.0499 - val_sex_out_loss: 0.5672 - val_age_out_loss: 20.6123 - val_sex_out_accuracy: 0.7533 - val_age_out_accuracy: 0.0103\n",
      "Epoch 12/150\n",
      "277/278 [============================>.] - ETA: 0s - loss: 11.5130 - sex_out_loss: 0.5398 - age_out_loss: 10.1057 - sex_out_accuracy: 0.7299 - age_out_accuracy: 0.0235\n",
      "Epoch 12: val_loss did not improve from 20.42754\n",
      "278/278 [==============================] - 8s 29ms/step - loss: 11.5135 - sex_out_loss: 0.5403 - age_out_loss: 10.1059 - sex_out_accuracy: 0.7298 - age_out_accuracy: 0.0235 - val_loss: 21.6536 - val_sex_out_loss: 0.5627 - val_age_out_loss: 20.2269 - val_sex_out_accuracy: 0.7608 - val_age_out_accuracy: 0.0086\n",
      "Epoch 13/150\n",
      "277/278 [============================>.] - ETA: 0s - loss: 11.2784 - sex_out_loss: 0.5398 - age_out_loss: 9.8775 - sex_out_accuracy: 0.7317 - age_out_accuracy: 0.0215\n",
      "Epoch 13: val_loss did not improve from 20.42754\n",
      "278/278 [==============================] - 8s 28ms/step - loss: 11.2768 - sex_out_loss: 0.5400 - age_out_loss: 9.8757 - sex_out_accuracy: 0.7314 - age_out_accuracy: 0.0217 - val_loss: 20.5710 - val_sex_out_loss: 0.5588 - val_age_out_loss: 19.1540 - val_sex_out_accuracy: 0.7606 - val_age_out_accuracy: 0.0113\n",
      "Epoch 14/150\n",
      "277/278 [============================>.] - ETA: 0s - loss: 11.1623 - sex_out_loss: 0.5366 - age_out_loss: 9.7704 - sex_out_accuracy: 0.7341 - age_out_accuracy: 0.0203\n",
      "Epoch 14: val_loss did not improve from 20.42754\n",
      "278/278 [==============================] - 8s 28ms/step - loss: 11.1610 - sex_out_loss: 0.5370 - age_out_loss: 9.7687 - sex_out_accuracy: 0.7339 - age_out_accuracy: 0.0203 - val_loss: 22.6831 - val_sex_out_loss: 0.5631 - val_age_out_loss: 21.2674 - val_sex_out_accuracy: 0.7636 - val_age_out_accuracy: 0.0066\n",
      "Epoch 15/150\n",
      "277/278 [============================>.] - ETA: 0s - loss: 10.9963 - sex_out_loss: 0.5282 - age_out_loss: 9.6181 - sex_out_accuracy: 0.7390 - age_out_accuracy: 0.0182\n",
      "Epoch 15: val_loss improved from 20.42754 to 20.07886, saving model to model_prediction.h5\n",
      "278/278 [==============================] - 8s 29ms/step - loss: 10.9975 - sex_out_loss: 0.5284 - age_out_loss: 9.6191 - sex_out_accuracy: 0.7391 - age_out_accuracy: 0.0182 - val_loss: 20.0789 - val_sex_out_loss: 0.5538 - val_age_out_loss: 18.6776 - val_sex_out_accuracy: 0.7564 - val_age_out_accuracy: 0.0108\n",
      "Epoch 16/150\n",
      "277/278 [============================>.] - ETA: 0s - loss: 10.8783 - sex_out_loss: 0.5171 - age_out_loss: 9.5162 - sex_out_accuracy: 0.7442 - age_out_accuracy: 0.0186\n",
      "Epoch 16: val_loss did not improve from 20.07886\n",
      "278/278 [==============================] - 8s 28ms/step - loss: 10.8794 - sex_out_loss: 0.5171 - age_out_loss: 9.5173 - sex_out_accuracy: 0.7441 - age_out_accuracy: 0.0186 - val_loss: 21.1228 - val_sex_out_loss: 0.5467 - val_age_out_loss: 19.7335 - val_sex_out_accuracy: 0.7746 - val_age_out_accuracy: 0.0067\n",
      "Epoch 17/150\n",
      "277/278 [============================>.] - ETA: 0s - loss: 10.7133 - sex_out_loss: 0.5135 - age_out_loss: 9.3598 - sex_out_accuracy: 0.7475 - age_out_accuracy: 0.0178\n",
      "Epoch 17: val_loss improved from 20.07886 to 19.35876, saving model to model_prediction.h5\n",
      "278/278 [==============================] - 8s 28ms/step - loss: 10.7167 - sex_out_loss: 0.5134 - age_out_loss: 9.3633 - sex_out_accuracy: 0.7474 - age_out_accuracy: 0.0178 - val_loss: 19.3588 - val_sex_out_loss: 0.5410 - val_age_out_loss: 17.9802 - val_sex_out_accuracy: 0.7798 - val_age_out_accuracy: 0.0086\n",
      "Epoch 18/150\n",
      "277/278 [============================>.] - ETA: 0s - loss: 10.6019 - sex_out_loss: 0.5126 - age_out_loss: 9.2540 - sex_out_accuracy: 0.7471 - age_out_accuracy: 0.0161\n",
      "Epoch 18: val_loss did not improve from 19.35876\n",
      "278/278 [==============================] - 8s 28ms/step - loss: 10.6096 - sex_out_loss: 0.5126 - age_out_loss: 9.2617 - sex_out_accuracy: 0.7471 - age_out_accuracy: 0.0161 - val_loss: 21.6357 - val_sex_out_loss: 0.5407 - val_age_out_loss: 20.2619 - val_sex_out_accuracy: 0.7717 - val_age_out_accuracy: 0.0061\n",
      "Epoch 19/150\n",
      "277/278 [============================>.] - ETA: 0s - loss: 10.5486 - sex_out_loss: 0.5121 - age_out_loss: 9.2057 - sex_out_accuracy: 0.7498 - age_out_accuracy: 0.0148\n",
      "Epoch 19: val_loss did not improve from 19.35876\n",
      "278/278 [==============================] - 8s 28ms/step - loss: 10.5572 - sex_out_loss: 0.5123 - age_out_loss: 9.2140 - sex_out_accuracy: 0.7498 - age_out_accuracy: 0.0147 - val_loss: 20.4749 - val_sex_out_loss: 0.5417 - val_age_out_loss: 19.1044 - val_sex_out_accuracy: 0.7640 - val_age_out_accuracy: 0.0061\n",
      "Epoch 20/150\n",
      "277/278 [============================>.] - ETA: 0s - loss: 10.4061 - sex_out_loss: 0.5017 - age_out_loss: 9.0777 - sex_out_accuracy: 0.7532 - age_out_accuracy: 0.0148\n",
      "Epoch 20: val_loss improved from 19.35876 to 19.32034, saving model to model_prediction.h5\n",
      "278/278 [==============================] - 8s 29ms/step - loss: 10.4083 - sex_out_loss: 0.5018 - age_out_loss: 9.0799 - sex_out_accuracy: 0.7532 - age_out_accuracy: 0.0147 - val_loss: 19.3203 - val_sex_out_loss: 0.5335 - val_age_out_loss: 17.9622 - val_sex_out_accuracy: 0.7743 - val_age_out_accuracy: 0.0059\n",
      "Epoch 21/150\n",
      "277/278 [============================>.] - ETA: 0s - loss: 10.3198 - sex_out_loss: 0.4988 - age_out_loss: 8.9984 - sex_out_accuracy: 0.7553 - age_out_accuracy: 0.0146\n",
      "Epoch 21: val_loss did not improve from 19.32034\n",
      "278/278 [==============================] - 8s 28ms/step - loss: 10.3286 - sex_out_loss: 0.4986 - age_out_loss: 9.0074 - sex_out_accuracy: 0.7552 - age_out_accuracy: 0.0145 - val_loss: 20.8373 - val_sex_out_loss: 0.5223 - val_age_out_loss: 19.4944 - val_sex_out_accuracy: 0.7776 - val_age_out_accuracy: 0.0061\n",
      "Epoch 22/150\n",
      "277/278 [============================>.] - ETA: 0s - loss: 10.2039 - sex_out_loss: 0.4904 - age_out_loss: 8.8948 - sex_out_accuracy: 0.7613 - age_out_accuracy: 0.0141\n",
      "Epoch 22: val_loss did not improve from 19.32034\n",
      "278/278 [==============================] - 8s 29ms/step - loss: 10.2129 - sex_out_loss: 0.4905 - age_out_loss: 8.9037 - sex_out_accuracy: 0.7612 - age_out_accuracy: 0.0141 - val_loss: 20.0997 - val_sex_out_loss: 0.5207 - val_age_out_loss: 18.7622 - val_sex_out_accuracy: 0.7832 - val_age_out_accuracy: 0.0046\n",
      "Epoch 23/150\n",
      "277/278 [============================>.] - ETA: 0s - loss: 10.1359 - sex_out_loss: 0.4906 - age_out_loss: 8.8304 - sex_out_accuracy: 0.7627 - age_out_accuracy: 0.0141\n",
      "Epoch 23: val_loss did not improve from 19.32034\n",
      "278/278 [==============================] - 8s 28ms/step - loss: 10.1431 - sex_out_loss: 0.4909 - age_out_loss: 8.8373 - sex_out_accuracy: 0.7626 - age_out_accuracy: 0.0141 - val_loss: 21.4693 - val_sex_out_loss: 0.5173 - val_age_out_loss: 20.1391 - val_sex_out_accuracy: 0.7864 - val_age_out_accuracy: 0.0049\n",
      "Epoch 24/150\n",
      "277/278 [============================>.] - ETA: 0s - loss: 10.1478 - sex_out_loss: 0.4803 - age_out_loss: 8.8561 - sex_out_accuracy: 0.7634 - age_out_accuracy: 0.0133\n",
      "Epoch 24: val_loss did not improve from 19.32034\n",
      "278/278 [==============================] - 8s 28ms/step - loss: 10.1522 - sex_out_loss: 0.4808 - age_out_loss: 8.8601 - sex_out_accuracy: 0.7629 - age_out_accuracy: 0.0132 - val_loss: 20.6911 - val_sex_out_loss: 0.5265 - val_age_out_loss: 19.3551 - val_sex_out_accuracy: 0.7837 - val_age_out_accuracy: 0.0029\n",
      "Epoch 25/150\n",
      "277/278 [============================>.] - ETA: 0s - loss: 9.9858 - sex_out_loss: 0.4827 - age_out_loss: 8.6953 - sex_out_accuracy: 0.7665 - age_out_accuracy: 0.0126\n",
      "Epoch 25: val_loss did not improve from 19.32034\n",
      "278/278 [==============================] - 8s 28ms/step - loss: 9.9859 - sex_out_loss: 0.4829 - age_out_loss: 8.6953 - sex_out_accuracy: 0.7666 - age_out_accuracy: 0.0126 - val_loss: 19.3653 - val_sex_out_loss: 0.5118 - val_age_out_loss: 18.0473 - val_sex_out_accuracy: 0.7862 - val_age_out_accuracy: 0.0062\n",
      "Epoch 26/150\n",
      "277/278 [============================>.] - ETA: 0s - loss: 9.9524 - sex_out_loss: 0.4761 - age_out_loss: 8.6720 - sex_out_accuracy: 0.7710 - age_out_accuracy: 0.0115\n",
      "Epoch 26: val_loss improved from 19.32034 to 18.60672, saving model to model_prediction.h5\n",
      "278/278 [==============================] - 8s 29ms/step - loss: 9.9555 - sex_out_loss: 0.4765 - age_out_loss: 8.6747 - sex_out_accuracy: 0.7705 - age_out_accuracy: 0.0115 - val_loss: 18.6067 - val_sex_out_loss: 0.5017 - val_age_out_loss: 17.3024 - val_sex_out_accuracy: 0.7893 - val_age_out_accuracy: 0.0057\n",
      "Epoch 27/150\n",
      "277/278 [============================>.] - ETA: 0s - loss: 9.8260 - sex_out_loss: 0.4748 - age_out_loss: 8.5501 - sex_out_accuracy: 0.7693 - age_out_accuracy: 0.0104\n",
      "Epoch 27: val_loss did not improve from 18.60672\n",
      "278/278 [==============================] - 8s 28ms/step - loss: 9.8342 - sex_out_loss: 0.4748 - age_out_loss: 8.5583 - sex_out_accuracy: 0.7690 - age_out_accuracy: 0.0104 - val_loss: 19.4558 - val_sex_out_loss: 0.5079 - val_age_out_loss: 18.1483 - val_sex_out_accuracy: 0.7893 - val_age_out_accuracy: 0.0040\n",
      "Epoch 28/150\n",
      "277/278 [============================>.] - ETA: 0s - loss: 9.8658 - sex_out_loss: 0.4705 - age_out_loss: 8.5975 - sex_out_accuracy: 0.7712 - age_out_accuracy: 0.0112\n",
      "Epoch 28: val_loss did not improve from 18.60672\n",
      "278/278 [==============================] - 8s 28ms/step - loss: 9.8731 - sex_out_loss: 0.4709 - age_out_loss: 8.6044 - sex_out_accuracy: 0.7710 - age_out_accuracy: 0.0112 - val_loss: 18.8947 - val_sex_out_loss: 0.5005 - val_age_out_loss: 17.5980 - val_sex_out_accuracy: 0.7921 - val_age_out_accuracy: 0.0057\n",
      "Epoch 29/150\n",
      "277/278 [============================>.] - ETA: 0s - loss: 9.7239 - sex_out_loss: 0.4660 - age_out_loss: 8.4633 - sex_out_accuracy: 0.7753 - age_out_accuracy: 0.0106\n",
      "Epoch 29: val_loss improved from 18.60672 to 18.56169, saving model to model_prediction.h5\n",
      "278/278 [==============================] - 8s 28ms/step - loss: 9.7269 - sex_out_loss: 0.4658 - age_out_loss: 8.4664 - sex_out_accuracy: 0.7753 - age_out_accuracy: 0.0106 - val_loss: 18.5617 - val_sex_out_loss: 0.5063 - val_age_out_loss: 17.2622 - val_sex_out_accuracy: 0.7931 - val_age_out_accuracy: 0.0044\n",
      "Epoch 30/150\n",
      "277/278 [============================>.] - ETA: 0s - loss: 9.6813 - sex_out_loss: 0.4646 - age_out_loss: 8.4248 - sex_out_accuracy: 0.7756 - age_out_accuracy: 0.0109\n",
      "Epoch 30: val_loss did not improve from 18.56169\n",
      "278/278 [==============================] - 8s 28ms/step - loss: 9.6798 - sex_out_loss: 0.4644 - age_out_loss: 8.4235 - sex_out_accuracy: 0.7757 - age_out_accuracy: 0.0109 - val_loss: 19.7112 - val_sex_out_loss: 0.4979 - val_age_out_loss: 18.4229 - val_sex_out_accuracy: 0.7989 - val_age_out_accuracy: 0.0042\n",
      "Epoch 31/150\n",
      "277/278 [============================>.] - ETA: 0s - loss: 9.5686 - sex_out_loss: 0.4554 - age_out_loss: 8.3244 - sex_out_accuracy: 0.7844 - age_out_accuracy: 0.0095\n",
      "Epoch 31: val_loss did not improve from 18.56169\n",
      "278/278 [==============================] - 8s 28ms/step - loss: 9.5744 - sex_out_loss: 0.4555 - age_out_loss: 8.3302 - sex_out_accuracy: 0.7843 - age_out_accuracy: 0.0096 - val_loss: 18.7364 - val_sex_out_loss: 0.4879 - val_age_out_loss: 17.4614 - val_sex_out_accuracy: 0.7898 - val_age_out_accuracy: 0.0035\n",
      "Epoch 32/150\n",
      "277/278 [============================>.] - ETA: 0s - loss: 9.6416 - sex_out_loss: 0.4543 - age_out_loss: 8.4017 - sex_out_accuracy: 0.7807 - age_out_accuracy: 0.0092\n",
      "Epoch 32: val_loss did not improve from 18.56169\n",
      "278/278 [==============================] - 8s 28ms/step - loss: 9.6441 - sex_out_loss: 0.4543 - age_out_loss: 8.4043 - sex_out_accuracy: 0.7807 - age_out_accuracy: 0.0092 - val_loss: 21.0515 - val_sex_out_loss: 0.4966 - val_age_out_loss: 19.7708 - val_sex_out_accuracy: 0.7948 - val_age_out_accuracy: 0.0029\n",
      "Epoch 33/150\n",
      "277/278 [============================>.] - ETA: 0s - loss: 9.5516 - sex_out_loss: 0.4511 - age_out_loss: 8.3178 - sex_out_accuracy: 0.7820 - age_out_accuracy: 0.0097\n",
      "Epoch 33: val_loss did not improve from 18.56169\n",
      "278/278 [==============================] - 8s 29ms/step - loss: 9.5545 - sex_out_loss: 0.4512 - age_out_loss: 8.3206 - sex_out_accuracy: 0.7819 - age_out_accuracy: 0.0097 - val_loss: 20.5243 - val_sex_out_loss: 0.4923 - val_age_out_loss: 19.2507 - val_sex_out_accuracy: 0.7928 - val_age_out_accuracy: 0.0030\n",
      "Epoch 34/150\n",
      "277/278 [============================>.] - ETA: 0s - loss: 9.3844 - sex_out_loss: 0.4476 - age_out_loss: 8.1567 - sex_out_accuracy: 0.7897 - age_out_accuracy: 0.0089\n",
      "Epoch 34: val_loss did not improve from 18.56169\n",
      "278/278 [==============================] - 8s 29ms/step - loss: 9.3823 - sex_out_loss: 0.4475 - age_out_loss: 8.1548 - sex_out_accuracy: 0.7897 - age_out_accuracy: 0.0088 - val_loss: 20.0050 - val_sex_out_loss: 0.4819 - val_age_out_loss: 18.7443 - val_sex_out_accuracy: 0.7960 - val_age_out_accuracy: 0.0037\n",
      "Epoch 35/150\n",
      "277/278 [============================>.] - ETA: 0s - loss: 9.4992 - sex_out_loss: 0.4429 - age_out_loss: 8.2790 - sex_out_accuracy: 0.7885 - age_out_accuracy: 0.0091\n",
      "Epoch 35: val_loss did not improve from 18.56169\n",
      "278/278 [==============================] - 8s 29ms/step - loss: 9.5097 - sex_out_loss: 0.4433 - age_out_loss: 8.2890 - sex_out_accuracy: 0.7886 - age_out_accuracy: 0.0092 - val_loss: 20.1530 - val_sex_out_loss: 0.4833 - val_age_out_loss: 18.8938 - val_sex_out_accuracy: 0.7965 - val_age_out_accuracy: 0.0047\n",
      "Epoch 36/150\n",
      "277/278 [============================>.] - ETA: 0s - loss: 9.3879 - sex_out_loss: 0.4442 - age_out_loss: 8.1688 - sex_out_accuracy: 0.7869 - age_out_accuracy: 0.0094\n",
      "Epoch 36: val_loss did not improve from 18.56169\n",
      "278/278 [==============================] - 8s 29ms/step - loss: 9.3882 - sex_out_loss: 0.4441 - age_out_loss: 8.1693 - sex_out_accuracy: 0.7869 - age_out_accuracy: 0.0094 - val_loss: 20.3342 - val_sex_out_loss: 0.4765 - val_age_out_loss: 19.0841 - val_sex_out_accuracy: 0.8021 - val_age_out_accuracy: 0.0027\n",
      "Epoch 37/150\n",
      "277/278 [============================>.] - ETA: 0s - loss: 9.3420 - sex_out_loss: 0.4366 - age_out_loss: 8.1328 - sex_out_accuracy: 0.7937 - age_out_accuracy: 0.0079\n",
      "Epoch 37: val_loss improved from 18.56169 to 18.11737, saving model to model_prediction.h5\n",
      "278/278 [==============================] - 8s 29ms/step - loss: 9.3428 - sex_out_loss: 0.4365 - age_out_loss: 8.1337 - sex_out_accuracy: 0.7937 - age_out_accuracy: 0.0079 - val_loss: 18.1174 - val_sex_out_loss: 0.4801 - val_age_out_loss: 16.8659 - val_sex_out_accuracy: 0.8039 - val_age_out_accuracy: 0.0064\n",
      "Epoch 38/150\n",
      "277/278 [============================>.] - ETA: 0s - loss: 9.2651 - sex_out_loss: 0.4323 - age_out_loss: 8.0626 - sex_out_accuracy: 0.7960 - age_out_accuracy: 0.0080\n",
      "Epoch 38: val_loss did not improve from 18.11737\n",
      "278/278 [==============================] - 8s 28ms/step - loss: 9.2709 - sex_out_loss: 0.4321 - age_out_loss: 8.0686 - sex_out_accuracy: 0.7960 - age_out_accuracy: 0.0080 - val_loss: 19.3807 - val_sex_out_loss: 0.4668 - val_age_out_loss: 18.1449 - val_sex_out_accuracy: 0.8078 - val_age_out_accuracy: 0.0027\n",
      "Epoch 39/150\n",
      "277/278 [============================>.] - ETA: 0s - loss: 9.2553 - sex_out_loss: 0.4308 - age_out_loss: 8.0568 - sex_out_accuracy: 0.7980 - age_out_accuracy: 0.0085\n",
      "Epoch 39: val_loss did not improve from 18.11737\n",
      "278/278 [==============================] - 8s 29ms/step - loss: 9.2589 - sex_out_loss: 0.4308 - age_out_loss: 8.0604 - sex_out_accuracy: 0.7980 - age_out_accuracy: 0.0085 - val_loss: 18.7737 - val_sex_out_loss: 0.4643 - val_age_out_loss: 17.5431 - val_sex_out_accuracy: 0.8109 - val_age_out_accuracy: 0.0029\n",
      "Epoch 40/150\n",
      "277/278 [============================>.] - ETA: 0s - loss: 9.1875 - sex_out_loss: 0.4271 - age_out_loss: 7.9953 - sex_out_accuracy: 0.7990 - age_out_accuracy: 0.0077\n",
      "Epoch 40: val_loss did not improve from 18.11737\n",
      "278/278 [==============================] - 8s 28ms/step - loss: 9.1912 - sex_out_loss: 0.4272 - age_out_loss: 7.9989 - sex_out_accuracy: 0.7989 - age_out_accuracy: 0.0078 - val_loss: 18.3906 - val_sex_out_loss: 0.4711 - val_age_out_loss: 17.1556 - val_sex_out_accuracy: 0.8107 - val_age_out_accuracy: 0.0047\n",
      "Epoch 41/150\n",
      "277/278 [============================>.] - ETA: 0s - loss: 9.1881 - sex_out_loss: 0.4279 - age_out_loss: 7.9974 - sex_out_accuracy: 0.7946 - age_out_accuracy: 0.0076\n",
      "Epoch 41: val_loss did not improve from 18.11737\n",
      "278/278 [==============================] - 8s 28ms/step - loss: 9.1982 - sex_out_loss: 0.4278 - age_out_loss: 8.0076 - sex_out_accuracy: 0.7947 - age_out_accuracy: 0.0076 - val_loss: 19.2743 - val_sex_out_loss: 0.4577 - val_age_out_loss: 18.0550 - val_sex_out_accuracy: 0.8126 - val_age_out_accuracy: 0.0034\n",
      "Epoch 42/150\n",
      "277/278 [============================>.] - ETA: 0s - loss: 9.1163 - sex_out_loss: 0.4228 - age_out_loss: 7.9330 - sex_out_accuracy: 0.7976 - age_out_accuracy: 0.0079\n",
      "Epoch 42: val_loss did not improve from 18.11737\n",
      "278/278 [==============================] - 8s 29ms/step - loss: 9.1159 - sex_out_loss: 0.4226 - age_out_loss: 7.9328 - sex_out_accuracy: 0.7979 - age_out_accuracy: 0.0079 - val_loss: 18.9902 - val_sex_out_loss: 0.4559 - val_age_out_loss: 17.7750 - val_sex_out_accuracy: 0.8134 - val_age_out_accuracy: 0.0042\n",
      "Epoch 43/150\n",
      "277/278 [============================>.] - ETA: 0s - loss: 9.0689 - sex_out_loss: 0.4212 - age_out_loss: 7.8895 - sex_out_accuracy: 0.8032 - age_out_accuracy: 0.0073\n",
      "Epoch 43: val_loss did not improve from 18.11737\n",
      "278/278 [==============================] - 8s 28ms/step - loss: 9.0675 - sex_out_loss: 0.4213 - age_out_loss: 7.8881 - sex_out_accuracy: 0.8032 - age_out_accuracy: 0.0073 - val_loss: 18.5048 - val_sex_out_loss: 0.4616 - val_age_out_loss: 17.2862 - val_sex_out_accuracy: 0.8163 - val_age_out_accuracy: 0.0047\n",
      "Epoch 44/150\n",
      "277/278 [============================>.] - ETA: 0s - loss: 9.0149 - sex_out_loss: 0.4213 - age_out_loss: 7.8378 - sex_out_accuracy: 0.8012 - age_out_accuracy: 0.0074\n",
      "Epoch 44: val_loss did not improve from 18.11737\n",
      "278/278 [==============================] - 8s 29ms/step - loss: 9.0229 - sex_out_loss: 0.4211 - age_out_loss: 7.8459 - sex_out_accuracy: 0.8013 - age_out_accuracy: 0.0074 - val_loss: 20.5850 - val_sex_out_loss: 0.4560 - val_age_out_loss: 19.3743 - val_sex_out_accuracy: 0.8126 - val_age_out_accuracy: 0.0029\n",
      "Epoch 45/150\n",
      "277/278 [============================>.] - ETA: 0s - loss: 9.0107 - sex_out_loss: 0.4171 - age_out_loss: 7.8400 - sex_out_accuracy: 0.8029 - age_out_accuracy: 0.0073\n",
      "Epoch 45: val_loss did not improve from 18.11737\n",
      "278/278 [==============================] - 8s 29ms/step - loss: 9.0134 - sex_out_loss: 0.4169 - age_out_loss: 7.8429 - sex_out_accuracy: 0.8029 - age_out_accuracy: 0.0073 - val_loss: 21.3753 - val_sex_out_loss: 0.4607 - val_age_out_loss: 20.1619 - val_sex_out_accuracy: 0.8181 - val_age_out_accuracy: 0.0022\n",
      "Epoch 46/150\n",
      "277/278 [============================>.] - ETA: 0s - loss: 8.9466 - sex_out_loss: 0.4167 - age_out_loss: 7.7783 - sex_out_accuracy: 0.8048 - age_out_accuracy: 0.0073\n",
      "Epoch 46: val_loss did not improve from 18.11737\n",
      "278/278 [==============================] - 8s 28ms/step - loss: 8.9532 - sex_out_loss: 0.4167 - age_out_loss: 7.7849 - sex_out_accuracy: 0.8048 - age_out_accuracy: 0.0073 - val_loss: 21.8620 - val_sex_out_loss: 0.4578 - val_age_out_loss: 20.6536 - val_sex_out_accuracy: 0.8180 - val_age_out_accuracy: 0.0013\n",
      "Epoch 47/150\n",
      "277/278 [============================>.] - ETA: 0s - loss: 8.9647 - sex_out_loss: 0.4151 - age_out_loss: 7.8004 - sex_out_accuracy: 0.8045 - age_out_accuracy: 0.0073\n",
      "Epoch 47: val_loss did not improve from 18.11737\n",
      "278/278 [==============================] - 8s 28ms/step - loss: 8.9704 - sex_out_loss: 0.4150 - age_out_loss: 7.8061 - sex_out_accuracy: 0.8048 - age_out_accuracy: 0.0074 - val_loss: 19.8929 - val_sex_out_loss: 0.4421 - val_age_out_loss: 18.7026 - val_sex_out_accuracy: 0.8205 - val_age_out_accuracy: 0.0029\n",
      "Epoch 48/150\n",
      "277/278 [============================>.] - ETA: 0s - loss: 8.8506 - sex_out_loss: 0.4099 - age_out_loss: 7.6933 - sex_out_accuracy: 0.8069 - age_out_accuracy: 0.0076\n",
      "Epoch 48: val_loss did not improve from 18.11737\n",
      "278/278 [==============================] - 8s 28ms/step - loss: 8.8643 - sex_out_loss: 0.4101 - age_out_loss: 7.7068 - sex_out_accuracy: 0.8070 - age_out_accuracy: 0.0076 - val_loss: 19.7333 - val_sex_out_loss: 0.4372 - val_age_out_loss: 18.5496 - val_sex_out_accuracy: 0.8203 - val_age_out_accuracy: 0.0035\n",
      "Epoch 49/150\n",
      "277/278 [============================>.] - ETA: 0s - loss: 8.8810 - sex_out_loss: 0.4092 - age_out_loss: 7.7262 - sex_out_accuracy: 0.8065 - age_out_accuracy: 0.0071\n",
      "Epoch 49: val_loss did not improve from 18.11737\n",
      "278/278 [==============================] - 8s 29ms/step - loss: 8.8889 - sex_out_loss: 0.4087 - age_out_loss: 7.7345 - sex_out_accuracy: 0.8068 - age_out_accuracy: 0.0071 - val_loss: 20.0746 - val_sex_out_loss: 0.4471 - val_age_out_loss: 18.8829 - val_sex_out_accuracy: 0.8200 - val_age_out_accuracy: 0.0024\n",
      "Epoch 50/150\n",
      "277/278 [============================>.] - ETA: 0s - loss: 8.7504 - sex_out_loss: 0.4038 - age_out_loss: 7.6029 - sex_out_accuracy: 0.8135 - age_out_accuracy: 0.0068\n",
      "Epoch 50: val_loss did not improve from 18.11737\n",
      "278/278 [==============================] - 8s 29ms/step - loss: 8.7482 - sex_out_loss: 0.4038 - age_out_loss: 7.6008 - sex_out_accuracy: 0.8134 - age_out_accuracy: 0.0068 - val_loss: 18.9253 - val_sex_out_loss: 0.4317 - val_age_out_loss: 17.7509 - val_sex_out_accuracy: 0.8249 - val_age_out_accuracy: 0.0040\n",
      "Epoch 51/150\n",
      "277/278 [============================>.] - ETA: 0s - loss: 8.8036 - sex_out_loss: 0.4008 - age_out_loss: 7.6610 - sex_out_accuracy: 0.8107 - age_out_accuracy: 0.0076\n",
      "Epoch 51: val_loss did not improve from 18.11737\n",
      "278/278 [==============================] - 8s 28ms/step - loss: 8.8092 - sex_out_loss: 0.4009 - age_out_loss: 7.6664 - sex_out_accuracy: 0.8107 - age_out_accuracy: 0.0075 - val_loss: 19.5404 - val_sex_out_loss: 0.4349 - val_age_out_loss: 18.3646 - val_sex_out_accuracy: 0.8237 - val_age_out_accuracy: 0.0030\n",
      "Epoch 52/150\n",
      "277/278 [============================>.] - ETA: 0s - loss: 8.8206 - sex_out_loss: 0.3982 - age_out_loss: 7.6823 - sex_out_accuracy: 0.8122 - age_out_accuracy: 0.0075\n",
      "Epoch 52: val_loss did not improve from 18.11737\n",
      "278/278 [==============================] - 8s 28ms/step - loss: 8.8224 - sex_out_loss: 0.3982 - age_out_loss: 7.6842 - sex_out_accuracy: 0.8120 - age_out_accuracy: 0.0075 - val_loss: 18.5977 - val_sex_out_loss: 0.4558 - val_age_out_loss: 17.4026 - val_sex_out_accuracy: 0.8164 - val_age_out_accuracy: 0.0034\n",
      "Epoch 53/150\n",
      "277/278 [============================>.] - ETA: 0s - loss: 8.7501 - sex_out_loss: 0.4011 - age_out_loss: 7.6108 - sex_out_accuracy: 0.8128 - age_out_accuracy: 0.0075\n",
      "Epoch 53: val_loss did not improve from 18.11737\n",
      "278/278 [==============================] - 8s 28ms/step - loss: 8.7592 - sex_out_loss: 0.4011 - age_out_loss: 7.6199 - sex_out_accuracy: 0.8127 - age_out_accuracy: 0.0075 - val_loss: 18.1688 - val_sex_out_loss: 0.4404 - val_age_out_loss: 16.9913 - val_sex_out_accuracy: 0.8240 - val_age_out_accuracy: 0.0039\n",
      "Epoch 54/150\n",
      "277/278 [============================>.] - ETA: 0s - loss: 8.7274 - sex_out_loss: 0.3947 - age_out_loss: 7.5965 - sex_out_accuracy: 0.8176 - age_out_accuracy: 0.0064\n",
      "Epoch 54: val_loss did not improve from 18.11737\n",
      "278/278 [==============================] - 8s 28ms/step - loss: 8.7378 - sex_out_loss: 0.3947 - age_out_loss: 7.6069 - sex_out_accuracy: 0.8175 - age_out_accuracy: 0.0064 - val_loss: 18.7955 - val_sex_out_loss: 0.4271 - val_age_out_loss: 17.6331 - val_sex_out_accuracy: 0.8261 - val_age_out_accuracy: 0.0037\n",
      "Epoch 55/150\n",
      "277/278 [============================>.] - ETA: 0s - loss: 8.7023 - sex_out_loss: 0.3891 - age_out_loss: 7.5786 - sex_out_accuracy: 0.8211 - age_out_accuracy: 0.0070\n",
      "Epoch 55: val_loss did not improve from 18.11737\n",
      "278/278 [==============================] - 8s 28ms/step - loss: 8.7013 - sex_out_loss: 0.3889 - age_out_loss: 7.5777 - sex_out_accuracy: 0.8211 - age_out_accuracy: 0.0070 - val_loss: 19.3635 - val_sex_out_loss: 0.4255 - val_age_out_loss: 18.2044 - val_sex_out_accuracy: 0.8269 - val_age_out_accuracy: 0.0029\n",
      "Epoch 56/150\n",
      "277/278 [============================>.] - ETA: 0s - loss: 8.6370 - sex_out_loss: 0.3900 - age_out_loss: 7.5142 - sex_out_accuracy: 0.8161 - age_out_accuracy: 0.0066\n",
      "Epoch 56: val_loss improved from 18.11737 to 18.04088, saving model to model_prediction.h5\n",
      "278/278 [==============================] - 8s 29ms/step - loss: 8.6409 - sex_out_loss: 0.3902 - age_out_loss: 7.5179 - sex_out_accuracy: 0.8159 - age_out_accuracy: 0.0066 - val_loss: 18.0409 - val_sex_out_loss: 0.4308 - val_age_out_loss: 16.8781 - val_sex_out_accuracy: 0.8276 - val_age_out_accuracy: 0.0034\n",
      "Epoch 57/150\n",
      "277/278 [============================>.] - ETA: 0s - loss: 8.6234 - sex_out_loss: 0.3885 - age_out_loss: 7.5036 - sex_out_accuracy: 0.8224 - age_out_accuracy: 0.0062\n",
      "Epoch 57: val_loss did not improve from 18.04088\n",
      "278/278 [==============================] - 8s 29ms/step - loss: 8.6307 - sex_out_loss: 0.3884 - age_out_loss: 7.5111 - sex_out_accuracy: 0.8226 - age_out_accuracy: 0.0062 - val_loss: 19.0532 - val_sex_out_loss: 0.4279 - val_age_out_loss: 17.8949 - val_sex_out_accuracy: 0.8227 - val_age_out_accuracy: 0.0030\n",
      "Epoch 58/150\n",
      "277/278 [============================>.] - ETA: 0s - loss: 8.5250 - sex_out_loss: 0.3858 - age_out_loss: 7.4097 - sex_out_accuracy: 0.8200 - age_out_accuracy: 0.0058\n",
      "Epoch 58: val_loss did not improve from 18.04088\n",
      "278/278 [==============================] - 8s 29ms/step - loss: 8.5367 - sex_out_loss: 0.3855 - age_out_loss: 7.4217 - sex_out_accuracy: 0.8202 - age_out_accuracy: 0.0058 - val_loss: 19.2696 - val_sex_out_loss: 0.4166 - val_age_out_loss: 18.1245 - val_sex_out_accuracy: 0.8350 - val_age_out_accuracy: 0.0024\n",
      "Epoch 59/150\n",
      "277/278 [============================>.] - ETA: 0s - loss: 8.5143 - sex_out_loss: 0.3850 - age_out_loss: 7.4019 - sex_out_accuracy: 0.8215 - age_out_accuracy: 0.0064\n",
      "Epoch 59: val_loss did not improve from 18.04088\n",
      "278/278 [==============================] - 8s 28ms/step - loss: 8.5211 - sex_out_loss: 0.3853 - age_out_loss: 7.4084 - sex_out_accuracy: 0.8216 - age_out_accuracy: 0.0064 - val_loss: 19.0722 - val_sex_out_loss: 0.4133 - val_age_out_loss: 17.9324 - val_sex_out_accuracy: 0.8330 - val_age_out_accuracy: 0.0030\n",
      "Epoch 60/150\n",
      "277/278 [============================>.] - ETA: 0s - loss: 8.5290 - sex_out_loss: 0.3867 - age_out_loss: 7.4166 - sex_out_accuracy: 0.8210 - age_out_accuracy: 0.0068\n",
      "Epoch 60: val_loss improved from 18.04088 to 17.00113, saving model to model_prediction.h5\n",
      "278/278 [==============================] - 8s 29ms/step - loss: 8.5312 - sex_out_loss: 0.3869 - age_out_loss: 7.4186 - sex_out_accuracy: 0.8209 - age_out_accuracy: 0.0068 - val_loss: 17.0011 - val_sex_out_loss: 0.4152 - val_age_out_loss: 15.8609 - val_sex_out_accuracy: 0.8289 - val_age_out_accuracy: 0.0054\n",
      "Epoch 61/150\n",
      "277/278 [============================>.] - ETA: 0s - loss: 8.6275 - sex_out_loss: 0.3792 - age_out_loss: 7.5240 - sex_out_accuracy: 0.8228 - age_out_accuracy: 0.0069\n",
      "Epoch 61: val_loss did not improve from 17.00113\n",
      "278/278 [==============================] - 8s 28ms/step - loss: 8.6327 - sex_out_loss: 0.3789 - age_out_loss: 7.5295 - sex_out_accuracy: 0.8229 - age_out_accuracy: 0.0069 - val_loss: 18.0114 - val_sex_out_loss: 0.4107 - val_age_out_loss: 16.8770 - val_sex_out_accuracy: 0.8330 - val_age_out_accuracy: 0.0034\n",
      "Epoch 62/150\n",
      "277/278 [============================>.] - ETA: 0s - loss: 8.4171 - sex_out_loss: 0.3813 - age_out_loss: 7.3130 - sex_out_accuracy: 0.8248 - age_out_accuracy: 0.0063\n",
      "Epoch 62: val_loss did not improve from 17.00113\n",
      "278/278 [==============================] - 8s 28ms/step - loss: 8.4263 - sex_out_loss: 0.3818 - age_out_loss: 7.3217 - sex_out_accuracy: 0.8243 - age_out_accuracy: 0.0062 - val_loss: 20.8060 - val_sex_out_loss: 0.4123 - val_age_out_loss: 19.6716 - val_sex_out_accuracy: 0.8320 - val_age_out_accuracy: 0.0017\n",
      "Epoch 63/150\n",
      "277/278 [============================>.] - ETA: 0s - loss: 8.4620 - sex_out_loss: 0.3794 - age_out_loss: 7.3612 - sex_out_accuracy: 0.8240 - age_out_accuracy: 0.0068\n",
      "Epoch 63: val_loss did not improve from 17.00113\n",
      "278/278 [==============================] - 8s 28ms/step - loss: 8.4717 - sex_out_loss: 0.3799 - age_out_loss: 7.3704 - sex_out_accuracy: 0.8240 - age_out_accuracy: 0.0069 - val_loss: 18.7949 - val_sex_out_loss: 0.3988 - val_age_out_loss: 17.6756 - val_sex_out_accuracy: 0.8377 - val_age_out_accuracy: 0.0039\n",
      "Epoch 64/150\n",
      "277/278 [============================>.] - ETA: 0s - loss: 8.3812 - sex_out_loss: 0.3731 - age_out_loss: 7.2881 - sex_out_accuracy: 0.8291 - age_out_accuracy: 0.0064\n",
      "Epoch 64: val_loss did not improve from 17.00113\n",
      "278/278 [==============================] - 8s 29ms/step - loss: 8.3887 - sex_out_loss: 0.3734 - age_out_loss: 7.2953 - sex_out_accuracy: 0.8287 - age_out_accuracy: 0.0064 - val_loss: 19.7316 - val_sex_out_loss: 0.4018 - val_age_out_loss: 18.6104 - val_sex_out_accuracy: 0.8358 - val_age_out_accuracy: 0.0019\n",
      "Epoch 65/150\n",
      "277/278 [============================>.] - ETA: 0s - loss: 8.4095 - sex_out_loss: 0.3735 - age_out_loss: 7.3176 - sex_out_accuracy: 0.8264 - age_out_accuracy: 0.0060\n",
      "Epoch 65: val_loss did not improve from 17.00113\n",
      "278/278 [==============================] - 8s 29ms/step - loss: 8.4122 - sex_out_loss: 0.3736 - age_out_loss: 7.3201 - sex_out_accuracy: 0.8262 - age_out_accuracy: 0.0060 - val_loss: 18.6513 - val_sex_out_loss: 0.4074 - val_age_out_loss: 17.5261 - val_sex_out_accuracy: 0.8372 - val_age_out_accuracy: 0.0027\n",
      "Epoch 66/150\n",
      "277/278 [============================>.] - ETA: 0s - loss: 8.3349 - sex_out_loss: 0.3699 - age_out_loss: 7.2482 - sex_out_accuracy: 0.8287 - age_out_accuracy: 0.0055\n",
      "Epoch 66: val_loss did not improve from 17.00113\n",
      "278/278 [==============================] - 8s 29ms/step - loss: 8.3353 - sex_out_loss: 0.3702 - age_out_loss: 7.2483 - sex_out_accuracy: 0.8285 - age_out_accuracy: 0.0055 - val_loss: 19.1364 - val_sex_out_loss: 0.4034 - val_age_out_loss: 18.0169 - val_sex_out_accuracy: 0.8362 - val_age_out_accuracy: 0.0020\n",
      "Epoch 67/150\n",
      "277/278 [============================>.] - ETA: 0s - loss: 8.3175 - sex_out_loss: 0.3666 - age_out_loss: 7.2357 - sex_out_accuracy: 0.8304 - age_out_accuracy: 0.0065\n",
      "Epoch 67: val_loss did not improve from 17.00113\n",
      "278/278 [==============================] - 8s 29ms/step - loss: 8.3200 - sex_out_loss: 0.3665 - age_out_loss: 7.2383 - sex_out_accuracy: 0.8305 - age_out_accuracy: 0.0065 - val_loss: 19.3369 - val_sex_out_loss: 0.4030 - val_age_out_loss: 18.2191 - val_sex_out_accuracy: 0.8374 - val_age_out_accuracy: 0.0027\n",
      "Epoch 68/150\n",
      "277/278 [============================>.] - ETA: 0s - loss: 8.3028 - sex_out_loss: 0.3662 - age_out_loss: 7.2227 - sex_out_accuracy: 0.8293 - age_out_accuracy: 0.0063\n",
      "Epoch 68: val_loss did not improve from 17.00113\n",
      "278/278 [==============================] - 8s 28ms/step - loss: 8.3093 - sex_out_loss: 0.3668 - age_out_loss: 7.2285 - sex_out_accuracy: 0.8292 - age_out_accuracy: 0.0062 - val_loss: 18.1233 - val_sex_out_loss: 0.4009 - val_age_out_loss: 17.0092 - val_sex_out_accuracy: 0.8444 - val_age_out_accuracy: 0.0029\n",
      "Epoch 69/150\n",
      "277/278 [============================>.] - ETA: 0s - loss: 8.3323 - sex_out_loss: 0.3737 - age_out_loss: 7.2460 - sex_out_accuracy: 0.8283 - age_out_accuracy: 0.0059\n",
      "Epoch 69: val_loss did not improve from 17.00113\n",
      "278/278 [==============================] - 8s 28ms/step - loss: 8.3363 - sex_out_loss: 0.3735 - age_out_loss: 7.2503 - sex_out_accuracy: 0.8283 - age_out_accuracy: 0.0060 - val_loss: 18.6610 - val_sex_out_loss: 0.4052 - val_age_out_loss: 17.5441 - val_sex_out_accuracy: 0.8377 - val_age_out_accuracy: 0.0039\n",
      "Epoch 70/150\n",
      "277/278 [============================>.] - ETA: 0s - loss: 8.3125 - sex_out_loss: 0.3641 - age_out_loss: 7.2374 - sex_out_accuracy: 0.8318 - age_out_accuracy: 0.0057\n",
      "Epoch 70: val_loss did not improve from 17.00113\n",
      "278/278 [==============================] - 8s 28ms/step - loss: 8.3198 - sex_out_loss: 0.3646 - age_out_loss: 7.2441 - sex_out_accuracy: 0.8316 - age_out_accuracy: 0.0057 - val_loss: 18.4796 - val_sex_out_loss: 0.3993 - val_age_out_loss: 17.3700 - val_sex_out_accuracy: 0.8389 - val_age_out_accuracy: 0.0027\n",
      "Epoch 71/150\n",
      "277/278 [============================>.] - ETA: 0s - loss: 8.2296 - sex_out_loss: 0.3603 - age_out_loss: 7.1596 - sex_out_accuracy: 0.8329 - age_out_accuracy: 0.0054\n",
      "Epoch 71: val_loss did not improve from 17.00113\n",
      "278/278 [==============================] - 8s 28ms/step - loss: 8.2357 - sex_out_loss: 0.3610 - age_out_loss: 7.1651 - sex_out_accuracy: 0.8327 - age_out_accuracy: 0.0055 - val_loss: 18.7578 - val_sex_out_loss: 0.3946 - val_age_out_loss: 17.6542 - val_sex_out_accuracy: 0.8428 - val_age_out_accuracy: 0.0037\n",
      "Epoch 72/150\n",
      "277/278 [============================>.] - ETA: 0s - loss: 8.2279 - sex_out_loss: 0.3611 - age_out_loss: 7.1586 - sex_out_accuracy: 0.8357 - age_out_accuracy: 0.0059\n",
      "Epoch 72: val_loss did not improve from 17.00113\n",
      "278/278 [==============================] - 8s 29ms/step - loss: 8.2323 - sex_out_loss: 0.3609 - age_out_loss: 7.1632 - sex_out_accuracy: 0.8356 - age_out_accuracy: 0.0059 - val_loss: 18.4477 - val_sex_out_loss: 0.3939 - val_age_out_loss: 17.3461 - val_sex_out_accuracy: 0.8416 - val_age_out_accuracy: 0.0027\n",
      "Epoch 73/150\n",
      "277/278 [============================>.] - ETA: 0s - loss: 8.1380 - sex_out_loss: 0.3584 - age_out_loss: 7.0728 - sex_out_accuracy: 0.8309 - age_out_accuracy: 0.0063\n",
      "Epoch 73: val_loss did not improve from 17.00113\n",
      "278/278 [==============================] - 8s 29ms/step - loss: 8.1481 - sex_out_loss: 0.3588 - age_out_loss: 7.0824 - sex_out_accuracy: 0.8307 - age_out_accuracy: 0.0063 - val_loss: 18.9289 - val_sex_out_loss: 0.3954 - val_age_out_loss: 17.8274 - val_sex_out_accuracy: 0.8453 - val_age_out_accuracy: 0.0025\n",
      "Epoch 74/150\n",
      "277/278 [============================>.] - ETA: 0s - loss: 8.2085 - sex_out_loss: 0.3634 - age_out_loss: 7.1396 - sex_out_accuracy: 0.8325 - age_out_accuracy: 0.0056\n",
      "Epoch 74: val_loss did not improve from 17.00113\n",
      "278/278 [==============================] - 8s 29ms/step - loss: 8.2150 - sex_out_loss: 0.3633 - age_out_loss: 7.1462 - sex_out_accuracy: 0.8326 - age_out_accuracy: 0.0056 - val_loss: 20.2499 - val_sex_out_loss: 0.3992 - val_age_out_loss: 19.1458 - val_sex_out_accuracy: 0.8426 - val_age_out_accuracy: 0.0019\n",
      "Epoch 75/150\n",
      "277/278 [============================>.] - ETA: 0s - loss: 8.1317 - sex_out_loss: 0.3618 - age_out_loss: 7.0656 - sex_out_accuracy: 0.8319 - age_out_accuracy: 0.0057\n",
      "Epoch 75: val_loss did not improve from 17.00113\n",
      "278/278 [==============================] - 8s 29ms/step - loss: 8.1332 - sex_out_loss: 0.3617 - age_out_loss: 7.0672 - sex_out_accuracy: 0.8321 - age_out_accuracy: 0.0057 - val_loss: 19.1851 - val_sex_out_loss: 0.3917 - val_age_out_loss: 18.0899 - val_sex_out_accuracy: 0.8502 - val_age_out_accuracy: 0.0029\n",
      "Epoch 76/150\n",
      "277/278 [============================>.] - ETA: 0s - loss: 8.0906 - sex_out_loss: 0.3563 - age_out_loss: 7.0312 - sex_out_accuracy: 0.8361 - age_out_accuracy: 0.0060\n",
      "Epoch 76: val_loss did not improve from 17.00113\n",
      "278/278 [==============================] - 8s 29ms/step - loss: 8.0960 - sex_out_loss: 0.3564 - age_out_loss: 7.0365 - sex_out_accuracy: 0.8360 - age_out_accuracy: 0.0060 - val_loss: 18.2493 - val_sex_out_loss: 0.3901 - val_age_out_loss: 17.1568 - val_sex_out_accuracy: 0.8475 - val_age_out_accuracy: 0.0030\n",
      "Epoch 77/150\n",
      "277/278 [============================>.] - ETA: 0s - loss: 8.0400 - sex_out_loss: 0.3540 - age_out_loss: 6.9844 - sex_out_accuracy: 0.8384 - age_out_accuracy: 0.0054\n",
      "Epoch 77: val_loss did not improve from 17.00113\n",
      "278/278 [==============================] - 8s 29ms/step - loss: 8.0495 - sex_out_loss: 0.3540 - age_out_loss: 6.9939 - sex_out_accuracy: 0.8384 - age_out_accuracy: 0.0054 - val_loss: 18.8231 - val_sex_out_loss: 0.3910 - val_age_out_loss: 17.7314 - val_sex_out_accuracy: 0.8480 - val_age_out_accuracy: 0.0029\n",
      "Epoch 78/150\n",
      "277/278 [============================>.] - ETA: 0s - loss: 8.0724 - sex_out_loss: 0.3506 - age_out_loss: 7.0219 - sex_out_accuracy: 0.8407 - age_out_accuracy: 0.0051\n",
      "Epoch 78: val_loss did not improve from 17.00113\n",
      "278/278 [==============================] - 8s 29ms/step - loss: 8.0792 - sex_out_loss: 0.3505 - age_out_loss: 7.0287 - sex_out_accuracy: 0.8408 - age_out_accuracy: 0.0051 - val_loss: 19.7710 - val_sex_out_loss: 0.3885 - val_age_out_loss: 18.6834 - val_sex_out_accuracy: 0.8465 - val_age_out_accuracy: 0.0030\n",
      "Epoch 79/150\n",
      "277/278 [============================>.] - ETA: 0s - loss: 8.0973 - sex_out_loss: 0.3500 - age_out_loss: 7.0490 - sex_out_accuracy: 0.8377 - age_out_accuracy: 0.0065\n",
      "Epoch 79: val_loss did not improve from 17.00113\n",
      "278/278 [==============================] - 8s 29ms/step - loss: 8.1082 - sex_out_loss: 0.3501 - age_out_loss: 7.0598 - sex_out_accuracy: 0.8377 - age_out_accuracy: 0.0065 - val_loss: 19.3268 - val_sex_out_loss: 0.3741 - val_age_out_loss: 18.2550 - val_sex_out_accuracy: 0.8482 - val_age_out_accuracy: 0.0027\n",
      "Epoch 80/150\n",
      "277/278 [============================>.] - ETA: 0s - loss: 8.0211 - sex_out_loss: 0.3487 - age_out_loss: 6.9755 - sex_out_accuracy: 0.8402 - age_out_accuracy: 0.0052\n",
      "Epoch 80: val_loss did not improve from 17.00113\n",
      "278/278 [==============================] - 8s 28ms/step - loss: 8.0265 - sex_out_loss: 0.3487 - age_out_loss: 6.9810 - sex_out_accuracy: 0.8403 - age_out_accuracy: 0.0052 - val_loss: 17.8697 - val_sex_out_loss: 0.3866 - val_age_out_loss: 16.7870 - val_sex_out_accuracy: 0.8473 - val_age_out_accuracy: 0.0039\n",
      "Epoch 81/150\n",
      "277/278 [============================>.] - ETA: 0s - loss: 8.0169 - sex_out_loss: 0.3499 - age_out_loss: 6.9715 - sex_out_accuracy: 0.8368 - age_out_accuracy: 0.0049\n",
      "Epoch 81: val_loss did not improve from 17.00113\n",
      "278/278 [==============================] - 8s 29ms/step - loss: 8.0272 - sex_out_loss: 0.3501 - age_out_loss: 6.9815 - sex_out_accuracy: 0.8367 - age_out_accuracy: 0.0049 - val_loss: 17.8259 - val_sex_out_loss: 0.3908 - val_age_out_loss: 16.7400 - val_sex_out_accuracy: 0.8465 - val_age_out_accuracy: 0.0034\n",
      "Epoch 82/150\n",
      "277/278 [============================>.] - ETA: 0s - loss: 8.0095 - sex_out_loss: 0.3497 - age_out_loss: 6.9655 - sex_out_accuracy: 0.8399 - age_out_accuracy: 0.0051\n",
      "Epoch 82: val_loss did not improve from 17.00113\n",
      "278/278 [==============================] - 8s 29ms/step - loss: 8.0127 - sex_out_loss: 0.3498 - age_out_loss: 6.9685 - sex_out_accuracy: 0.8399 - age_out_accuracy: 0.0051 - val_loss: 18.2802 - val_sex_out_loss: 0.3756 - val_age_out_loss: 17.2109 - val_sex_out_accuracy: 0.8473 - val_age_out_accuracy: 0.0030\n",
      "Epoch 83/150\n",
      "277/278 [============================>.] - ETA: 0s - loss: 7.9793 - sex_out_loss: 0.3491 - age_out_loss: 6.9373 - sex_out_accuracy: 0.8389 - age_out_accuracy: 0.0050\n",
      "Epoch 83: val_loss did not improve from 17.00113\n",
      "278/278 [==============================] - 8s 29ms/step - loss: 7.9844 - sex_out_loss: 0.3493 - age_out_loss: 6.9422 - sex_out_accuracy: 0.8388 - age_out_accuracy: 0.0049 - val_loss: 17.3538 - val_sex_out_loss: 0.3884 - val_age_out_loss: 16.2730 - val_sex_out_accuracy: 0.8465 - val_age_out_accuracy: 0.0025\n",
      "Epoch 84/150\n",
      "277/278 [============================>.] - ETA: 0s - loss: 7.9953 - sex_out_loss: 0.3464 - age_out_loss: 6.9572 - sex_out_accuracy: 0.8391 - age_out_accuracy: 0.0055\n",
      "Epoch 84: val_loss did not improve from 17.00113\n",
      "278/278 [==============================] - 8s 29ms/step - loss: 8.0040 - sex_out_loss: 0.3462 - age_out_loss: 6.9660 - sex_out_accuracy: 0.8391 - age_out_accuracy: 0.0055 - val_loss: 18.2499 - val_sex_out_loss: 0.3786 - val_age_out_loss: 17.1803 - val_sex_out_accuracy: 0.8466 - val_age_out_accuracy: 0.0030\n",
      "Epoch 85/150\n",
      "277/278 [============================>.] - ETA: 0s - loss: 7.9751 - sex_out_loss: 0.3456 - age_out_loss: 6.9392 - sex_out_accuracy: 0.8422 - age_out_accuracy: 0.0052\n",
      "Epoch 85: val_loss did not improve from 17.00113\n",
      "278/278 [==============================] - 8s 29ms/step - loss: 7.9780 - sex_out_loss: 0.3453 - age_out_loss: 6.9424 - sex_out_accuracy: 0.8422 - age_out_accuracy: 0.0052 - val_loss: 17.6197 - val_sex_out_loss: 0.3834 - val_age_out_loss: 16.5469 - val_sex_out_accuracy: 0.8502 - val_age_out_accuracy: 0.0040\n",
      "Epoch 86/150\n",
      "277/278 [============================>.] - ETA: 0s - loss: 7.9545 - sex_out_loss: 0.3442 - age_out_loss: 6.9214 - sex_out_accuracy: 0.8427 - age_out_accuracy: 0.0056\n",
      "Epoch 86: val_loss did not improve from 17.00113\n",
      "278/278 [==============================] - 8s 29ms/step - loss: 7.9614 - sex_out_loss: 0.3443 - age_out_loss: 6.9282 - sex_out_accuracy: 0.8426 - age_out_accuracy: 0.0056 - val_loss: 17.9570 - val_sex_out_loss: 0.3972 - val_age_out_loss: 16.8714 - val_sex_out_accuracy: 0.8505 - val_age_out_accuracy: 0.0027\n",
      "Epoch 87/150\n",
      "277/278 [============================>.] - ETA: 0s - loss: 7.9628 - sex_out_loss: 0.3416 - age_out_loss: 6.9333 - sex_out_accuracy: 0.8442 - age_out_accuracy: 0.0063\n",
      "Epoch 87: val_loss did not improve from 17.00113\n",
      "278/278 [==============================] - 8s 29ms/step - loss: 7.9683 - sex_out_loss: 0.3421 - age_out_loss: 6.9384 - sex_out_accuracy: 0.8440 - age_out_accuracy: 0.0063 - val_loss: 19.2808 - val_sex_out_loss: 0.3772 - val_age_out_loss: 18.2162 - val_sex_out_accuracy: 0.8544 - val_age_out_accuracy: 0.0024\n",
      "Epoch 88/150\n",
      "277/278 [============================>.] - ETA: 0s - loss: 7.9191 - sex_out_loss: 0.3420 - age_out_loss: 6.8902 - sex_out_accuracy: 0.8425 - age_out_accuracy: 0.0052\n",
      "Epoch 88: val_loss did not improve from 17.00113\n",
      "278/278 [==============================] - 8s 29ms/step - loss: 7.9240 - sex_out_loss: 0.3417 - age_out_loss: 6.8955 - sex_out_accuracy: 0.8427 - age_out_accuracy: 0.0052 - val_loss: 17.7439 - val_sex_out_loss: 0.3817 - val_age_out_loss: 16.6758 - val_sex_out_accuracy: 0.8431 - val_age_out_accuracy: 0.0029\n",
      "Epoch 89/150\n",
      "277/278 [============================>.] - ETA: 0s - loss: 7.8266 - sex_out_loss: 0.3373 - age_out_loss: 6.8036 - sex_out_accuracy: 0.8452 - age_out_accuracy: 0.0054\n",
      "Epoch 89: val_loss did not improve from 17.00113\n",
      "278/278 [==============================] - 8s 29ms/step - loss: 7.8376 - sex_out_loss: 0.3376 - age_out_loss: 6.8142 - sex_out_accuracy: 0.8449 - age_out_accuracy: 0.0054 - val_loss: 19.0586 - val_sex_out_loss: 0.3708 - val_age_out_loss: 18.0026 - val_sex_out_accuracy: 0.8476 - val_age_out_accuracy: 0.0015\n",
      "Epoch 90/150\n",
      "277/278 [============================>.] - ETA: 0s - loss: 7.8298 - sex_out_loss: 0.3403 - age_out_loss: 6.8050 - sex_out_accuracy: 0.8459 - age_out_accuracy: 0.0051\n",
      "Epoch 90: val_loss did not improve from 17.00113\n",
      "278/278 [==============================] - 8s 29ms/step - loss: 7.8363 - sex_out_loss: 0.3403 - age_out_loss: 6.8115 - sex_out_accuracy: 0.8458 - age_out_accuracy: 0.0052 - val_loss: 18.1860 - val_sex_out_loss: 0.3693 - val_age_out_loss: 17.1328 - val_sex_out_accuracy: 0.8463 - val_age_out_accuracy: 0.0022\n",
      "Epoch 91/150\n",
      "277/278 [============================>.] - ETA: 0s - loss: 7.8766 - sex_out_loss: 0.3408 - age_out_loss: 6.8525 - sex_out_accuracy: 0.8440 - age_out_accuracy: 0.0050\n",
      "Epoch 91: val_loss did not improve from 17.00113\n",
      "278/278 [==============================] - 8s 29ms/step - loss: 7.8801 - sex_out_loss: 0.3407 - age_out_loss: 6.8561 - sex_out_accuracy: 0.8440 - age_out_accuracy: 0.0049 - val_loss: 18.1448 - val_sex_out_loss: 0.3827 - val_age_out_loss: 17.0792 - val_sex_out_accuracy: 0.8492 - val_age_out_accuracy: 0.0015\n",
      "Epoch 92/150\n",
      "277/278 [============================>.] - ETA: 0s - loss: 7.8269 - sex_out_loss: 0.3365 - age_out_loss: 6.8084 - sex_out_accuracy: 0.8457 - age_out_accuracy: 0.0055\n",
      "Epoch 92: val_loss did not improve from 17.00113\n",
      "278/278 [==============================] - 8s 29ms/step - loss: 7.8330 - sex_out_loss: 0.3368 - age_out_loss: 6.8142 - sex_out_accuracy: 0.8454 - age_out_accuracy: 0.0055 - val_loss: 17.6673 - val_sex_out_loss: 0.3769 - val_age_out_loss: 16.6090 - val_sex_out_accuracy: 0.8510 - val_age_out_accuracy: 0.0029\n",
      "Epoch 93/150\n",
      "277/278 [============================>.] - ETA: 0s - loss: 7.8868 - sex_out_loss: 0.3316 - age_out_loss: 6.8745 - sex_out_accuracy: 0.8466 - age_out_accuracy: 0.0048\n",
      "Epoch 93: val_loss did not improve from 17.00113\n",
      "278/278 [==============================] - 8s 29ms/step - loss: 7.8927 - sex_out_loss: 0.3314 - age_out_loss: 6.8805 - sex_out_accuracy: 0.8467 - age_out_accuracy: 0.0048 - val_loss: 18.4068 - val_sex_out_loss: 0.3705 - val_age_out_loss: 17.3561 - val_sex_out_accuracy: 0.8510 - val_age_out_accuracy: 0.0029\n",
      "Epoch 94/150\n",
      "277/278 [============================>.] - ETA: 0s - loss: 7.7516 - sex_out_loss: 0.3372 - age_out_loss: 6.7349 - sex_out_accuracy: 0.8449 - age_out_accuracy: 0.0051\n",
      "Epoch 94: val_loss did not improve from 17.00113\n",
      "278/278 [==============================] - 8s 29ms/step - loss: 7.7556 - sex_out_loss: 0.3376 - age_out_loss: 6.7386 - sex_out_accuracy: 0.8448 - age_out_accuracy: 0.0051 - val_loss: 18.0772 - val_sex_out_loss: 0.3727 - val_age_out_loss: 17.0255 - val_sex_out_accuracy: 0.8551 - val_age_out_accuracy: 0.0025\n",
      "Epoch 95/150\n",
      "277/278 [============================>.] - ETA: 0s - loss: 7.7605 - sex_out_loss: 0.3307 - age_out_loss: 6.7516 - sex_out_accuracy: 0.8471 - age_out_accuracy: 0.0052\n",
      "Epoch 95: val_loss did not improve from 17.00113\n",
      "278/278 [==============================] - 8s 29ms/step - loss: 7.7679 - sex_out_loss: 0.3307 - age_out_loss: 6.7590 - sex_out_accuracy: 0.8474 - age_out_accuracy: 0.0052 - val_loss: 17.4348 - val_sex_out_loss: 0.3664 - val_age_out_loss: 16.3907 - val_sex_out_accuracy: 0.8527 - val_age_out_accuracy: 0.0029\n",
      "Epoch 96/150\n",
      "277/278 [============================>.] - ETA: 0s - loss: 7.7103 - sex_out_loss: 0.3308 - age_out_loss: 6.7024 - sex_out_accuracy: 0.8501 - age_out_accuracy: 0.0049\n",
      "Epoch 96: val_loss did not improve from 17.00113\n",
      "278/278 [==============================] - 8s 29ms/step - loss: 7.7155 - sex_out_loss: 0.3312 - age_out_loss: 6.7073 - sex_out_accuracy: 0.8497 - age_out_accuracy: 0.0050 - val_loss: 18.8077 - val_sex_out_loss: 0.3628 - val_age_out_loss: 17.7685 - val_sex_out_accuracy: 0.8505 - val_age_out_accuracy: 0.0024\n",
      "Epoch 97/150\n",
      "277/278 [============================>.] - ETA: 0s - loss: 7.7116 - sex_out_loss: 0.3339 - age_out_loss: 6.7020 - sex_out_accuracy: 0.8472 - age_out_accuracy: 0.0052\n",
      "Epoch 97: val_loss did not improve from 17.00113\n",
      "278/278 [==============================] - 8s 29ms/step - loss: 7.7163 - sex_out_loss: 0.3342 - age_out_loss: 6.7064 - sex_out_accuracy: 0.8470 - age_out_accuracy: 0.0052 - val_loss: 17.2264 - val_sex_out_loss: 0.3684 - val_age_out_loss: 16.1830 - val_sex_out_accuracy: 0.8527 - val_age_out_accuracy: 0.0032\n",
      "Epoch 98/150\n",
      "277/278 [============================>.] - ETA: 0s - loss: 7.7271 - sex_out_loss: 0.3339 - age_out_loss: 6.7186 - sex_out_accuracy: 0.8456 - age_out_accuracy: 0.0055\n",
      "Epoch 98: val_loss did not improve from 17.00113\n",
      "278/278 [==============================] - 8s 29ms/step - loss: 7.7317 - sex_out_loss: 0.3346 - age_out_loss: 6.7225 - sex_out_accuracy: 0.8454 - age_out_accuracy: 0.0055 - val_loss: 17.4330 - val_sex_out_loss: 0.3673 - val_age_out_loss: 16.3917 - val_sex_out_accuracy: 0.8534 - val_age_out_accuracy: 0.0035\n",
      "Epoch 99/150\n",
      "277/278 [============================>.] - ETA: 0s - loss: 7.6782 - sex_out_loss: 0.3271 - age_out_loss: 6.6777 - sex_out_accuracy: 0.8528 - age_out_accuracy: 0.0048\n",
      "Epoch 99: val_loss did not improve from 17.00113\n",
      "278/278 [==============================] - 8s 29ms/step - loss: 7.6834 - sex_out_loss: 0.3272 - age_out_loss: 6.6828 - sex_out_accuracy: 0.8527 - age_out_accuracy: 0.0048 - val_loss: 18.2340 - val_sex_out_loss: 0.3639 - val_age_out_loss: 17.1974 - val_sex_out_accuracy: 0.8530 - val_age_out_accuracy: 0.0015\n",
      "Epoch 100/150\n",
      "277/278 [============================>.] - ETA: 0s - loss: 7.7077 - sex_out_loss: 0.3303 - age_out_loss: 6.7051 - sex_out_accuracy: 0.8469 - age_out_accuracy: 0.0054\n",
      "Epoch 100: val_loss did not improve from 17.00113\n",
      "278/278 [==============================] - 8s 29ms/step - loss: 7.7082 - sex_out_loss: 0.3305 - age_out_loss: 6.7055 - sex_out_accuracy: 0.8468 - age_out_accuracy: 0.0053 - val_loss: 17.9325 - val_sex_out_loss: 0.3637 - val_age_out_loss: 16.8969 - val_sex_out_accuracy: 0.8534 - val_age_out_accuracy: 0.0030\n",
      "Epoch 101/150\n",
      "277/278 [============================>.] - ETA: 0s - loss: 7.6259 - sex_out_loss: 0.3328 - age_out_loss: 6.6218 - sex_out_accuracy: 0.8453 - age_out_accuracy: 0.0049\n",
      "Epoch 101: val_loss did not improve from 17.00113\n",
      "278/278 [==============================] - 8s 29ms/step - loss: 7.6284 - sex_out_loss: 0.3327 - age_out_loss: 6.6244 - sex_out_accuracy: 0.8454 - age_out_accuracy: 0.0048 - val_loss: 17.7835 - val_sex_out_loss: 0.3663 - val_age_out_loss: 16.7463 - val_sex_out_accuracy: 0.8487 - val_age_out_accuracy: 0.0020\n",
      "Epoch 102/150\n",
      "277/278 [============================>.] - ETA: 0s - loss: 7.6285 - sex_out_loss: 0.3349 - age_out_loss: 6.6232 - sex_out_accuracy: 0.8462 - age_out_accuracy: 0.0041\n",
      "Epoch 102: val_loss did not improve from 17.00113\n",
      "278/278 [==============================] - 8s 29ms/step - loss: 7.6327 - sex_out_loss: 0.3348 - age_out_loss: 6.6276 - sex_out_accuracy: 0.8463 - age_out_accuracy: 0.0042 - val_loss: 17.6589 - val_sex_out_loss: 0.3626 - val_age_out_loss: 16.6266 - val_sex_out_accuracy: 0.8606 - val_age_out_accuracy: 0.0032\n",
      "Epoch 103/150\n",
      "277/278 [============================>.] - ETA: 0s - loss: 7.6376 - sex_out_loss: 0.3287 - age_out_loss: 6.6397 - sex_out_accuracy: 0.8502 - age_out_accuracy: 0.0046\n",
      "Epoch 103: val_loss did not improve from 17.00113\n",
      "278/278 [==============================] - 8s 29ms/step - loss: 7.6419 - sex_out_loss: 0.3289 - age_out_loss: 6.6438 - sex_out_accuracy: 0.8500 - age_out_accuracy: 0.0047 - val_loss: 17.8660 - val_sex_out_loss: 0.3655 - val_age_out_loss: 16.8319 - val_sex_out_accuracy: 0.8500 - val_age_out_accuracy: 0.0027\n",
      "Epoch 104/150\n",
      "277/278 [============================>.] - ETA: 0s - loss: 7.6671 - sex_out_loss: 0.3257 - age_out_loss: 6.6732 - sex_out_accuracy: 0.8518 - age_out_accuracy: 0.0049\n",
      "Epoch 104: val_loss did not improve from 17.00113\n",
      "278/278 [==============================] - 8s 29ms/step - loss: 7.6711 - sex_out_loss: 0.3255 - age_out_loss: 6.6773 - sex_out_accuracy: 0.8519 - age_out_accuracy: 0.0049 - val_loss: 17.9761 - val_sex_out_loss: 0.3701 - val_age_out_loss: 16.9382 - val_sex_out_accuracy: 0.8485 - val_age_out_accuracy: 0.0019\n",
      "Epoch 105/150\n",
      "277/278 [============================>.] - ETA: 0s - loss: 7.5929 - sex_out_loss: 0.3268 - age_out_loss: 6.5988 - sex_out_accuracy: 0.8491 - age_out_accuracy: 0.0050\n",
      "Epoch 105: val_loss did not improve from 17.00113\n",
      "278/278 [==============================] - 8s 29ms/step - loss: 7.5933 - sex_out_loss: 0.3271 - age_out_loss: 6.5989 - sex_out_accuracy: 0.8493 - age_out_accuracy: 0.0049 - val_loss: 17.9680 - val_sex_out_loss: 0.3670 - val_age_out_loss: 16.9343 - val_sex_out_accuracy: 0.8495 - val_age_out_accuracy: 0.0022\n",
      "Epoch 106/150\n",
      "277/278 [============================>.] - ETA: 0s - loss: 7.5434 - sex_out_loss: 0.3266 - age_out_loss: 6.5504 - sex_out_accuracy: 0.8511 - age_out_accuracy: 0.0044\n",
      "Epoch 106: val_loss did not improve from 17.00113\n",
      "278/278 [==============================] - 8s 29ms/step - loss: 7.5526 - sex_out_loss: 0.3270 - age_out_loss: 6.5591 - sex_out_accuracy: 0.8508 - age_out_accuracy: 0.0044 - val_loss: 18.4227 - val_sex_out_loss: 0.3588 - val_age_out_loss: 17.3978 - val_sex_out_accuracy: 0.8574 - val_age_out_accuracy: 0.0015\n",
      "Epoch 107/150\n",
      "277/278 [============================>.] - ETA: 0s - loss: 7.6012 - sex_out_loss: 0.3255 - age_out_loss: 6.6101 - sex_out_accuracy: 0.8508 - age_out_accuracy: 0.0051\n",
      "Epoch 107: val_loss did not improve from 17.00113\n",
      "278/278 [==============================] - 8s 29ms/step - loss: 7.6066 - sex_out_loss: 0.3253 - age_out_loss: 6.6157 - sex_out_accuracy: 0.8509 - age_out_accuracy: 0.0051 - val_loss: 18.4986 - val_sex_out_loss: 0.3613 - val_age_out_loss: 17.4722 - val_sex_out_accuracy: 0.8487 - val_age_out_accuracy: 0.0027\n",
      "Epoch 108/150\n",
      "277/278 [============================>.] - ETA: 0s - loss: 7.5660 - sex_out_loss: 0.3229 - age_out_loss: 6.5787 - sex_out_accuracy: 0.8513 - age_out_accuracy: 0.0048\n",
      "Epoch 108: val_loss did not improve from 17.00113\n",
      "278/278 [==============================] - 8s 29ms/step - loss: 7.5727 - sex_out_loss: 0.3233 - age_out_loss: 6.5852 - sex_out_accuracy: 0.8511 - age_out_accuracy: 0.0048 - val_loss: 17.2379 - val_sex_out_loss: 0.3573 - val_age_out_loss: 16.2171 - val_sex_out_accuracy: 0.8514 - val_age_out_accuracy: 0.0042\n",
      "Epoch 109/150\n",
      "277/278 [============================>.] - ETA: 0s - loss: 7.5639 - sex_out_loss: 0.3245 - age_out_loss: 6.5765 - sex_out_accuracy: 0.8494 - age_out_accuracy: 0.0048\n",
      "Epoch 109: val_loss did not improve from 17.00113\n",
      "278/278 [==============================] - 8s 29ms/step - loss: 7.5682 - sex_out_loss: 0.3242 - age_out_loss: 6.5811 - sex_out_accuracy: 0.8496 - age_out_accuracy: 0.0048 - val_loss: 18.7130 - val_sex_out_loss: 0.3501 - val_age_out_loss: 17.7004 - val_sex_out_accuracy: 0.8552 - val_age_out_accuracy: 0.0022\n",
      "Epoch 110/150\n",
      "277/278 [============================>.] - ETA: 0s - loss: 7.5684 - sex_out_loss: 0.3219 - age_out_loss: 6.5845 - sex_out_accuracy: 0.8541 - age_out_accuracy: 0.0051\n",
      "Epoch 110: val_loss did not improve from 17.00113\n",
      "278/278 [==============================] - 8s 29ms/step - loss: 7.5681 - sex_out_loss: 0.3219 - age_out_loss: 6.5843 - sex_out_accuracy: 0.8540 - age_out_accuracy: 0.0052 - val_loss: 17.3690 - val_sex_out_loss: 0.3544 - val_age_out_loss: 16.3532 - val_sex_out_accuracy: 0.8590 - val_age_out_accuracy: 0.0034\n",
      "Epoch 111/150\n",
      "277/278 [============================>.] - ETA: 0s - loss: 7.5612 - sex_out_loss: 0.3206 - age_out_loss: 6.5797 - sex_out_accuracy: 0.8519 - age_out_accuracy: 0.0051\n",
      "Epoch 111: val_loss did not improve from 17.00113\n",
      "278/278 [==============================] - 8s 29ms/step - loss: 7.5681 - sex_out_loss: 0.3206 - age_out_loss: 6.5867 - sex_out_accuracy: 0.8518 - age_out_accuracy: 0.0051 - val_loss: 18.8167 - val_sex_out_loss: 0.3538 - val_age_out_loss: 17.8024 - val_sex_out_accuracy: 0.8551 - val_age_out_accuracy: 0.0012\n",
      "Epoch 112/150\n",
      "277/278 [============================>.] - ETA: 0s - loss: 7.5768 - sex_out_loss: 0.3222 - age_out_loss: 6.5947 - sex_out_accuracy: 0.8524 - age_out_accuracy: 0.0051\n",
      "Epoch 112: val_loss improved from 17.00113 to 16.91892, saving model to model_prediction.h5\n",
      "278/278 [==============================] - 8s 29ms/step - loss: 7.5853 - sex_out_loss: 0.3224 - age_out_loss: 6.6030 - sex_out_accuracy: 0.8525 - age_out_accuracy: 0.0051 - val_loss: 16.9189 - val_sex_out_loss: 0.3502 - val_age_out_loss: 15.9093 - val_sex_out_accuracy: 0.8559 - val_age_out_accuracy: 0.0037\n",
      "Epoch 113/150\n",
      "277/278 [============================>.] - ETA: 0s - loss: 7.5108 - sex_out_loss: 0.3220 - age_out_loss: 6.5298 - sex_out_accuracy: 0.8504 - age_out_accuracy: 0.0052\n",
      "Epoch 113: val_loss did not improve from 16.91892\n",
      "278/278 [==============================] - 8s 29ms/step - loss: 7.5101 - sex_out_loss: 0.3219 - age_out_loss: 6.5292 - sex_out_accuracy: 0.8504 - age_out_accuracy: 0.0052 - val_loss: 18.1126 - val_sex_out_loss: 0.3603 - val_age_out_loss: 17.0939 - val_sex_out_accuracy: 0.8556 - val_age_out_accuracy: 0.0032\n",
      "Epoch 114/150\n",
      "277/278 [============================>.] - ETA: 0s - loss: 7.5678 - sex_out_loss: 0.3187 - age_out_loss: 6.5912 - sex_out_accuracy: 0.8577 - age_out_accuracy: 0.0049\n",
      "Epoch 114: val_loss did not improve from 16.91892\n",
      "278/278 [==============================] - 8s 29ms/step - loss: 7.5685 - sex_out_loss: 0.3188 - age_out_loss: 6.5917 - sex_out_accuracy: 0.8579 - age_out_accuracy: 0.0049 - val_loss: 17.6116 - val_sex_out_loss: 0.3572 - val_age_out_loss: 16.5967 - val_sex_out_accuracy: 0.8569 - val_age_out_accuracy: 0.0035\n",
      "Epoch 115/150\n",
      "277/278 [============================>.] - ETA: 0s - loss: 7.4712 - sex_out_loss: 0.3168 - age_out_loss: 6.4975 - sex_out_accuracy: 0.8555 - age_out_accuracy: 0.0046\n",
      "Epoch 115: val_loss did not improve from 16.91892\n",
      "278/278 [==============================] - 8s 29ms/step - loss: 7.4737 - sex_out_loss: 0.3168 - age_out_loss: 6.4999 - sex_out_accuracy: 0.8555 - age_out_accuracy: 0.0046 - val_loss: 17.1450 - val_sex_out_loss: 0.3514 - val_age_out_loss: 16.1373 - val_sex_out_accuracy: 0.8583 - val_age_out_accuracy: 0.0024\n",
      "Epoch 116/150\n",
      "277/278 [============================>.] - ETA: 0s - loss: 7.5066 - sex_out_loss: 0.3182 - age_out_loss: 6.5325 - sex_out_accuracy: 0.8555 - age_out_accuracy: 0.0045\n",
      "Epoch 116: val_loss did not improve from 16.91892\n",
      "278/278 [==============================] - 8s 29ms/step - loss: 7.5153 - sex_out_loss: 0.3180 - age_out_loss: 6.5414 - sex_out_accuracy: 0.8556 - age_out_accuracy: 0.0044 - val_loss: 16.9594 - val_sex_out_loss: 0.3581 - val_age_out_loss: 15.9458 - val_sex_out_accuracy: 0.8578 - val_age_out_accuracy: 0.0032\n",
      "Epoch 117/150\n",
      "277/278 [============================>.] - ETA: 0s - loss: 7.4799 - sex_out_loss: 0.3205 - age_out_loss: 6.5044 - sex_out_accuracy: 0.8521 - age_out_accuracy: 0.0043\n",
      "Epoch 117: val_loss did not improve from 16.91892\n",
      "278/278 [==============================] - 8s 29ms/step - loss: 7.4884 - sex_out_loss: 0.3208 - age_out_loss: 6.5126 - sex_out_accuracy: 0.8521 - age_out_accuracy: 0.0043 - val_loss: 18.4049 - val_sex_out_loss: 0.3603 - val_age_out_loss: 17.3901 - val_sex_out_accuracy: 0.8615 - val_age_out_accuracy: 0.0022\n",
      "Epoch 118/150\n",
      "277/278 [============================>.] - ETA: 0s - loss: 7.3827 - sex_out_loss: 0.3184 - age_out_loss: 6.4104 - sex_out_accuracy: 0.8562 - age_out_accuracy: 0.0044\n",
      "Epoch 118: val_loss did not improve from 16.91892\n",
      "278/278 [==============================] - 8s 29ms/step - loss: 7.3911 - sex_out_loss: 0.3187 - age_out_loss: 6.4185 - sex_out_accuracy: 0.8559 - age_out_accuracy: 0.0044 - val_loss: 18.8817 - val_sex_out_loss: 0.3485 - val_age_out_loss: 17.8799 - val_sex_out_accuracy: 0.8623 - val_age_out_accuracy: 0.0012\n",
      "Epoch 119/150\n",
      "277/278 [============================>.] - ETA: 0s - loss: 7.3821 - sex_out_loss: 0.3159 - age_out_loss: 6.4135 - sex_out_accuracy: 0.8590 - age_out_accuracy: 0.0052\n",
      "Epoch 119: val_loss did not improve from 16.91892\n",
      "278/278 [==============================] - 8s 29ms/step - loss: 7.3845 - sex_out_loss: 0.3156 - age_out_loss: 6.4162 - sex_out_accuracy: 0.8591 - age_out_accuracy: 0.0052 - val_loss: 17.8512 - val_sex_out_loss: 0.3531 - val_age_out_loss: 16.8461 - val_sex_out_accuracy: 0.8622 - val_age_out_accuracy: 0.0025\n",
      "Epoch 120/150\n",
      "277/278 [============================>.] - ETA: 0s - loss: 7.3596 - sex_out_loss: 0.3122 - age_out_loss: 6.3960 - sex_out_accuracy: 0.8568 - age_out_accuracy: 0.0042\n",
      "Epoch 120: val_loss did not improve from 16.91892\n",
      "278/278 [==============================] - 8s 29ms/step - loss: 7.3653 - sex_out_loss: 0.3127 - age_out_loss: 6.4012 - sex_out_accuracy: 0.8566 - age_out_accuracy: 0.0043 - val_loss: 18.1247 - val_sex_out_loss: 0.3496 - val_age_out_loss: 17.1243 - val_sex_out_accuracy: 0.8618 - val_age_out_accuracy: 0.0020\n",
      "Epoch 121/150\n",
      "277/278 [============================>.] - ETA: 0s - loss: 7.4752 - sex_out_loss: 0.3153 - age_out_loss: 6.5097 - sex_out_accuracy: 0.8572 - age_out_accuracy: 0.0042\n",
      "Epoch 121: val_loss did not improve from 16.91892\n",
      "278/278 [==============================] - 8s 29ms/step - loss: 7.4810 - sex_out_loss: 0.3150 - age_out_loss: 6.5158 - sex_out_accuracy: 0.8574 - age_out_accuracy: 0.0043 - val_loss: 17.2809 - val_sex_out_loss: 0.3486 - val_age_out_loss: 16.2828 - val_sex_out_accuracy: 0.8647 - val_age_out_accuracy: 0.0035\n",
      "Epoch 122/150\n",
      "277/278 [============================>.] - ETA: 0s - loss: 7.4414 - sex_out_loss: 0.3087 - age_out_loss: 6.4835 - sex_out_accuracy: 0.8611 - age_out_accuracy: 0.0046\n",
      "Epoch 122: val_loss did not improve from 16.91892\n",
      "278/278 [==============================] - 8s 29ms/step - loss: 7.4427 - sex_out_loss: 0.3090 - age_out_loss: 6.4845 - sex_out_accuracy: 0.8609 - age_out_accuracy: 0.0046 - val_loss: 18.6990 - val_sex_out_loss: 0.3457 - val_age_out_loss: 17.7045 - val_sex_out_accuracy: 0.8573 - val_age_out_accuracy: 0.0034\n",
      "Epoch 123/150\n",
      "277/278 [============================>.] - ETA: 0s - loss: 7.4005 - sex_out_loss: 0.3152 - age_out_loss: 6.4369 - sex_out_accuracy: 0.8563 - age_out_accuracy: 0.0053\n",
      "Epoch 123: val_loss did not improve from 16.91892\n",
      "278/278 [==============================] - 8s 29ms/step - loss: 7.4057 - sex_out_loss: 0.3156 - age_out_loss: 6.4417 - sex_out_accuracy: 0.8561 - age_out_accuracy: 0.0053 - val_loss: 17.6464 - val_sex_out_loss: 0.3516 - val_age_out_loss: 16.6469 - val_sex_out_accuracy: 0.8637 - val_age_out_accuracy: 0.0034\n",
      "Epoch 124/150\n",
      "277/278 [============================>.] - ETA: 0s - loss: 7.3333 - sex_out_loss: 0.3109 - age_out_loss: 6.3749 - sex_out_accuracy: 0.8581 - age_out_accuracy: 0.0043\n",
      "Epoch 124: val_loss did not improve from 16.91892\n",
      "278/278 [==============================] - 8s 29ms/step - loss: 7.3372 - sex_out_loss: 0.3113 - age_out_loss: 6.3784 - sex_out_accuracy: 0.8580 - age_out_accuracy: 0.0043 - val_loss: 17.7894 - val_sex_out_loss: 0.3485 - val_age_out_loss: 16.7940 - val_sex_out_accuracy: 0.8645 - val_age_out_accuracy: 0.0030\n",
      "Epoch 125/150\n",
      "277/278 [============================>.] - ETA: 0s - loss: 7.3602 - sex_out_loss: 0.3132 - age_out_loss: 6.4005 - sex_out_accuracy: 0.8584 - age_out_accuracy: 0.0049\n",
      "Epoch 125: val_loss did not improve from 16.91892\n",
      "278/278 [==============================] - 8s 29ms/step - loss: 7.3685 - sex_out_loss: 0.3133 - age_out_loss: 6.4086 - sex_out_accuracy: 0.8583 - age_out_accuracy: 0.0048 - val_loss: 18.5260 - val_sex_out_loss: 0.3466 - val_age_out_loss: 17.5334 - val_sex_out_accuracy: 0.8642 - val_age_out_accuracy: 0.0022\n",
      "Epoch 126/150\n",
      "277/278 [============================>.] - ETA: 0s - loss: 7.3936 - sex_out_loss: 0.3138 - age_out_loss: 6.4342 - sex_out_accuracy: 0.8585 - age_out_accuracy: 0.0047\n",
      "Epoch 126: val_loss improved from 16.91892 to 16.77395, saving model to model_prediction.h5\n",
      "278/278 [==============================] - 8s 29ms/step - loss: 7.3976 - sex_out_loss: 0.3141 - age_out_loss: 6.4379 - sex_out_accuracy: 0.8583 - age_out_accuracy: 0.0047 - val_loss: 16.7740 - val_sex_out_loss: 0.3479 - val_age_out_loss: 15.7811 - val_sex_out_accuracy: 0.8625 - val_age_out_accuracy: 0.0037\n",
      "Epoch 127/150\n",
      "277/278 [============================>.] - ETA: 0s - loss: 7.3584 - sex_out_loss: 0.3107 - age_out_loss: 6.4031 - sex_out_accuracy: 0.8591 - age_out_accuracy: 0.0052\n",
      "Epoch 127: val_loss did not improve from 16.77395\n",
      "278/278 [==============================] - 8s 29ms/step - loss: 7.3641 - sex_out_loss: 0.3107 - age_out_loss: 6.4087 - sex_out_accuracy: 0.8590 - age_out_accuracy: 0.0052 - val_loss: 18.4813 - val_sex_out_loss: 0.3545 - val_age_out_loss: 17.4826 - val_sex_out_accuracy: 0.8611 - val_age_out_accuracy: 0.0022\n",
      "Epoch 128/150\n",
      "277/278 [============================>.] - ETA: 0s - loss: 7.3334 - sex_out_loss: 0.3121 - age_out_loss: 6.3775 - sex_out_accuracy: 0.8594 - age_out_accuracy: 0.0047\n",
      "Epoch 128: val_loss improved from 16.77395 to 16.18203, saving model to model_prediction.h5\n",
      "278/278 [==============================] - 8s 29ms/step - loss: 7.3395 - sex_out_loss: 0.3121 - age_out_loss: 6.3836 - sex_out_accuracy: 0.8594 - age_out_accuracy: 0.0047 - val_loss: 16.1820 - val_sex_out_loss: 0.3482 - val_age_out_loss: 15.1903 - val_sex_out_accuracy: 0.8617 - val_age_out_accuracy: 0.0027\n",
      "Epoch 129/150\n",
      "277/278 [============================>.] - ETA: 0s - loss: 7.3619 - sex_out_loss: 0.3124 - age_out_loss: 6.4065 - sex_out_accuracy: 0.8591 - age_out_accuracy: 0.0041\n",
      "Epoch 129: val_loss did not improve from 16.18203\n",
      "278/278 [==============================] - 8s 29ms/step - loss: 7.3651 - sex_out_loss: 0.3126 - age_out_loss: 6.4093 - sex_out_accuracy: 0.8590 - age_out_accuracy: 0.0040 - val_loss: 17.7473 - val_sex_out_loss: 0.3418 - val_age_out_loss: 16.7628 - val_sex_out_accuracy: 0.8596 - val_age_out_accuracy: 0.0022\n",
      "Epoch 130/150\n",
      "277/278 [============================>.] - ETA: 0s - loss: 7.2440 - sex_out_loss: 0.3103 - age_out_loss: 6.2914 - sex_out_accuracy: 0.8600 - age_out_accuracy: 0.0041\n",
      "Epoch 130: val_loss did not improve from 16.18203\n",
      "278/278 [==============================] - 9s 31ms/step - loss: 7.2475 - sex_out_loss: 0.3102 - age_out_loss: 6.2950 - sex_out_accuracy: 0.8601 - age_out_accuracy: 0.0040 - val_loss: 17.2883 - val_sex_out_loss: 0.3474 - val_age_out_loss: 16.2992 - val_sex_out_accuracy: 0.8664 - val_age_out_accuracy: 0.0030\n",
      "Epoch 131/150\n",
      "277/278 [============================>.] - ETA: 0s - loss: 7.2840 - sex_out_loss: 0.3099 - age_out_loss: 6.3327 - sex_out_accuracy: 0.8601 - age_out_accuracy: 0.0050\n",
      "Epoch 131: val_loss did not improve from 16.18203\n",
      "278/278 [==============================] - 8s 30ms/step - loss: 7.2904 - sex_out_loss: 0.3099 - age_out_loss: 6.3392 - sex_out_accuracy: 0.8601 - age_out_accuracy: 0.0049 - val_loss: 17.5638 - val_sex_out_loss: 0.3430 - val_age_out_loss: 16.5800 - val_sex_out_accuracy: 0.8647 - val_age_out_accuracy: 0.0030\n",
      "Epoch 132/150\n",
      "276/278 [============================>.] - ETA: 0s - loss: 7.2835 - sex_out_loss: 0.3077 - age_out_loss: 6.3353 - sex_out_accuracy: 0.8627 - age_out_accuracy: 0.0045\n",
      "Epoch 132: val_loss did not improve from 16.18203\n",
      "278/278 [==============================] - 8s 29ms/step - loss: 7.2911 - sex_out_loss: 0.3075 - age_out_loss: 6.3432 - sex_out_accuracy: 0.8628 - age_out_accuracy: 0.0045 - val_loss: 18.2286 - val_sex_out_loss: 0.3471 - val_age_out_loss: 17.2415 - val_sex_out_accuracy: 0.8647 - val_age_out_accuracy: 0.0025\n",
      "Epoch 133/150\n",
      "277/278 [============================>.] - ETA: 0s - loss: 7.2090 - sex_out_loss: 0.3050 - age_out_loss: 6.2648 - sex_out_accuracy: 0.8645 - age_out_accuracy: 0.0049\n",
      "Epoch 133: val_loss did not improve from 16.18203\n",
      "278/278 [==============================] - 8s 29ms/step - loss: 7.2169 - sex_out_loss: 0.3049 - age_out_loss: 6.2729 - sex_out_accuracy: 0.8646 - age_out_accuracy: 0.0049 - val_loss: 17.8072 - val_sex_out_loss: 0.3423 - val_age_out_loss: 16.8264 - val_sex_out_accuracy: 0.8647 - val_age_out_accuracy: 0.0019\n",
      "Epoch 134/150\n",
      "277/278 [============================>.] - ETA: 0s - loss: 7.1916 - sex_out_loss: 0.3074 - age_out_loss: 6.2463 - sex_out_accuracy: 0.8618 - age_out_accuracy: 0.0042\n",
      "Epoch 134: val_loss did not improve from 16.18203\n",
      "278/278 [==============================] - 8s 29ms/step - loss: 7.1933 - sex_out_loss: 0.3077 - age_out_loss: 6.2477 - sex_out_accuracy: 0.8617 - age_out_accuracy: 0.0042 - val_loss: 18.7562 - val_sex_out_loss: 0.3527 - val_age_out_loss: 17.7661 - val_sex_out_accuracy: 0.8684 - val_age_out_accuracy: 0.0017\n",
      "Epoch 135/150\n",
      "277/278 [============================>.] - ETA: 0s - loss: 7.2019 - sex_out_loss: 0.3068 - age_out_loss: 6.2580 - sex_out_accuracy: 0.8603 - age_out_accuracy: 0.0047\n",
      "Epoch 135: val_loss did not improve from 16.18203\n",
      "278/278 [==============================] - 8s 29ms/step - loss: 7.2090 - sex_out_loss: 0.3069 - age_out_loss: 6.2651 - sex_out_accuracy: 0.8602 - age_out_accuracy: 0.0047 - val_loss: 18.4409 - val_sex_out_loss: 0.3426 - val_age_out_loss: 17.4617 - val_sex_out_accuracy: 0.8701 - val_age_out_accuracy: 0.0017\n",
      "Epoch 136/150\n",
      "277/278 [============================>.] - ETA: 0s - loss: 7.1565 - sex_out_loss: 0.3055 - age_out_loss: 6.2150 - sex_out_accuracy: 0.8619 - age_out_accuracy: 0.0039\n",
      "Epoch 136: val_loss did not improve from 16.18203\n",
      "278/278 [==============================] - 8s 28ms/step - loss: 7.1622 - sex_out_loss: 0.3058 - age_out_loss: 6.2204 - sex_out_accuracy: 0.8619 - age_out_accuracy: 0.0039 - val_loss: 17.4135 - val_sex_out_loss: 0.3459 - val_age_out_loss: 16.4322 - val_sex_out_accuracy: 0.8625 - val_age_out_accuracy: 0.0024\n",
      "Epoch 137/150\n",
      "277/278 [============================>.] - ETA: 0s - loss: 7.1977 - sex_out_loss: 0.3048 - age_out_loss: 6.2580 - sex_out_accuracy: 0.8612 - age_out_accuracy: 0.0039\n",
      "Epoch 137: val_loss did not improve from 16.18203\n",
      "278/278 [==============================] - 8s 29ms/step - loss: 7.2002 - sex_out_loss: 0.3050 - age_out_loss: 6.2603 - sex_out_accuracy: 0.8612 - age_out_accuracy: 0.0039 - val_loss: 18.7417 - val_sex_out_loss: 0.3426 - val_age_out_loss: 17.7648 - val_sex_out_accuracy: 0.8692 - val_age_out_accuracy: 0.0022\n",
      "Epoch 138/150\n",
      "277/278 [============================>.] - ETA: 0s - loss: 7.1434 - sex_out_loss: 0.3064 - age_out_loss: 6.2032 - sex_out_accuracy: 0.8602 - age_out_accuracy: 0.0036\n",
      "Epoch 138: val_loss did not improve from 16.18203\n",
      "278/278 [==============================] - 8s 29ms/step - loss: 7.1545 - sex_out_loss: 0.3077 - age_out_loss: 6.2129 - sex_out_accuracy: 0.8598 - age_out_accuracy: 0.0036 - val_loss: 17.6316 - val_sex_out_loss: 0.3406 - val_age_out_loss: 16.6575 - val_sex_out_accuracy: 0.8679 - val_age_out_accuracy: 0.0030\n",
      "Epoch 139/150\n",
      "277/278 [============================>.] - ETA: 0s - loss: 7.1945 - sex_out_loss: 0.3030 - age_out_loss: 6.2583 - sex_out_accuracy: 0.8621 - age_out_accuracy: 0.0045\n",
      "Epoch 139: val_loss did not improve from 16.18203\n",
      "278/278 [==============================] - 8s 29ms/step - loss: 7.1996 - sex_out_loss: 0.3033 - age_out_loss: 6.2632 - sex_out_accuracy: 0.8621 - age_out_accuracy: 0.0044 - val_loss: 17.4131 - val_sex_out_loss: 0.3455 - val_age_out_loss: 16.4348 - val_sex_out_accuracy: 0.8687 - val_age_out_accuracy: 0.0027\n",
      "Epoch 140/150\n",
      "277/278 [============================>.] - ETA: 0s - loss: 7.2049 - sex_out_loss: 0.3071 - age_out_loss: 6.2655 - sex_out_accuracy: 0.8589 - age_out_accuracy: 0.0045\n",
      "Epoch 140: val_loss did not improve from 16.18203\n",
      "278/278 [==============================] - 8s 29ms/step - loss: 7.2053 - sex_out_loss: 0.3071 - age_out_loss: 6.2659 - sex_out_accuracy: 0.8589 - age_out_accuracy: 0.0044 - val_loss: 17.1603 - val_sex_out_loss: 0.3400 - val_age_out_loss: 16.1884 - val_sex_out_accuracy: 0.8654 - val_age_out_accuracy: 0.0022\n",
      "Epoch 141/150\n",
      "277/278 [============================>.] - ETA: 0s - loss: 7.1538 - sex_out_loss: 0.2994 - age_out_loss: 6.2229 - sex_out_accuracy: 0.8645 - age_out_accuracy: 0.0042\n",
      "Epoch 141: val_loss did not improve from 16.18203\n",
      "278/278 [==============================] - 8s 29ms/step - loss: 7.1631 - sex_out_loss: 0.2994 - age_out_loss: 6.2323 - sex_out_accuracy: 0.8644 - age_out_accuracy: 0.0043 - val_loss: 17.6632 - val_sex_out_loss: 0.3397 - val_age_out_loss: 16.6924 - val_sex_out_accuracy: 0.8672 - val_age_out_accuracy: 0.0022\n",
      "Epoch 142/150\n",
      "277/278 [============================>.] - ETA: 0s - loss: 7.0932 - sex_out_loss: 0.3063 - age_out_loss: 6.1565 - sex_out_accuracy: 0.8637 - age_out_accuracy: 0.0040\n",
      "Epoch 142: val_loss did not improve from 16.18203\n",
      "278/278 [==============================] - 8s 28ms/step - loss: 7.1012 - sex_out_loss: 0.3066 - age_out_loss: 6.1642 - sex_out_accuracy: 0.8635 - age_out_accuracy: 0.0040 - val_loss: 17.4614 - val_sex_out_loss: 0.3408 - val_age_out_loss: 16.4908 - val_sex_out_accuracy: 0.8672 - val_age_out_accuracy: 0.0035\n",
      "Epoch 143/150\n",
      "277/278 [============================>.] - ETA: 0s - loss: 7.1957 - sex_out_loss: 0.3015 - age_out_loss: 6.2646 - sex_out_accuracy: 0.8612 - age_out_accuracy: 0.0045\n",
      "Epoch 143: val_loss did not improve from 16.18203\n",
      "278/278 [==============================] - 8s 29ms/step - loss: 7.1993 - sex_out_loss: 0.3017 - age_out_loss: 6.2682 - sex_out_accuracy: 0.8612 - age_out_accuracy: 0.0046 - val_loss: 17.3122 - val_sex_out_loss: 0.3397 - val_age_out_loss: 16.3433 - val_sex_out_accuracy: 0.8654 - val_age_out_accuracy: 0.0025\n",
      "Epoch 144/150\n",
      "277/278 [============================>.] - ETA: 0s - loss: 7.1371 - sex_out_loss: 0.3029 - age_out_loss: 6.2055 - sex_out_accuracy: 0.8632 - age_out_accuracy: 0.0042\n",
      "Epoch 144: val_loss did not improve from 16.18203\n",
      "278/278 [==============================] - 8s 29ms/step - loss: 7.1462 - sex_out_loss: 0.3033 - age_out_loss: 6.2141 - sex_out_accuracy: 0.8629 - age_out_accuracy: 0.0042 - val_loss: 17.2738 - val_sex_out_loss: 0.3426 - val_age_out_loss: 16.3028 - val_sex_out_accuracy: 0.8632 - val_age_out_accuracy: 0.0022\n",
      "Epoch 145/150\n",
      "277/278 [============================>.] - ETA: 0s - loss: 7.1063 - sex_out_loss: 0.3034 - age_out_loss: 6.1752 - sex_out_accuracy: 0.8621 - age_out_accuracy: 0.0049\n",
      "Epoch 145: val_loss did not improve from 16.18203\n",
      "278/278 [==============================] - 8s 29ms/step - loss: 7.1130 - sex_out_loss: 0.3039 - age_out_loss: 6.1813 - sex_out_accuracy: 0.8620 - age_out_accuracy: 0.0048 - val_loss: 18.1938 - val_sex_out_loss: 0.3473 - val_age_out_loss: 17.2194 - val_sex_out_accuracy: 0.8649 - val_age_out_accuracy: 0.0022\n",
      "Epoch 146/150\n",
      "277/278 [============================>.] - ETA: 0s - loss: 7.0733 - sex_out_loss: 0.2996 - age_out_loss: 6.1471 - sex_out_accuracy: 0.8650 - age_out_accuracy: 0.0042\n",
      "Epoch 146: val_loss did not improve from 16.18203\n",
      "278/278 [==============================] - 8s 29ms/step - loss: 7.0797 - sex_out_loss: 0.2995 - age_out_loss: 6.1536 - sex_out_accuracy: 0.8649 - age_out_accuracy: 0.0042 - val_loss: 16.1858 - val_sex_out_loss: 0.3346 - val_age_out_loss: 15.2251 - val_sex_out_accuracy: 0.8664 - val_age_out_accuracy: 0.0027\n",
      "Epoch 147/150\n",
      "277/278 [============================>.] - ETA: 0s - loss: 7.0676 - sex_out_loss: 0.3030 - age_out_loss: 6.1390 - sex_out_accuracy: 0.8633 - age_out_accuracy: 0.0047\n",
      "Epoch 147: val_loss did not improve from 16.18203\n",
      "278/278 [==============================] - 8s 29ms/step - loss: 7.0777 - sex_out_loss: 0.3032 - age_out_loss: 6.1490 - sex_out_accuracy: 0.8630 - age_out_accuracy: 0.0047 - val_loss: 17.4640 - val_sex_out_loss: 0.3380 - val_age_out_loss: 16.5009 - val_sex_out_accuracy: 0.8679 - val_age_out_accuracy: 0.0019\n",
      "Epoch 148/150\n",
      "277/278 [============================>.] - ETA: 0s - loss: 7.0804 - sex_out_loss: 0.3025 - age_out_loss: 6.1531 - sex_out_accuracy: 0.8632 - age_out_accuracy: 0.0043\n",
      "Epoch 148: val_loss did not improve from 16.18203\n",
      "278/278 [==============================] - 8s 30ms/step - loss: 7.0846 - sex_out_loss: 0.3025 - age_out_loss: 6.1574 - sex_out_accuracy: 0.8633 - age_out_accuracy: 0.0043 - val_loss: 16.9877 - val_sex_out_loss: 0.3372 - val_age_out_loss: 16.0261 - val_sex_out_accuracy: 0.8650 - val_age_out_accuracy: 0.0015\n",
      "Epoch 149/150\n",
      "277/278 [============================>.] - ETA: 0s - loss: 7.0764 - sex_out_loss: 0.3001 - age_out_loss: 6.1522 - sex_out_accuracy: 0.8656 - age_out_accuracy: 0.0040\n",
      "Epoch 149: val_loss did not improve from 16.18203\n",
      "278/278 [==============================] - 8s 30ms/step - loss: 7.0833 - sex_out_loss: 0.3000 - age_out_loss: 6.1592 - sex_out_accuracy: 0.8657 - age_out_accuracy: 0.0040 - val_loss: 18.1214 - val_sex_out_loss: 0.3324 - val_age_out_loss: 17.1652 - val_sex_out_accuracy: 0.8667 - val_age_out_accuracy: 0.0012\n",
      "Epoch 150/150\n",
      "277/278 [============================>.] - ETA: 0s - loss: 7.0683 - sex_out_loss: 0.2973 - age_out_loss: 6.1477 - sex_out_accuracy: 0.8652 - age_out_accuracy: 0.0050\n",
      "Epoch 150: val_loss did not improve from 16.18203\n",
      "278/278 [==============================] - 8s 30ms/step - loss: 7.0706 - sex_out_loss: 0.2973 - age_out_loss: 6.1501 - sex_out_accuracy: 0.8651 - age_out_accuracy: 0.0049 - val_loss: 17.7530 - val_sex_out_loss: 0.3312 - val_age_out_loss: 16.7991 - val_sex_out_accuracy: 0.8691 - val_age_out_accuracy: 0.0024\n"
     ]
    }
   ],
   "source": [
    "History = test_model.fit(x_train, y_train_2, batch_size = 64, validation_data = (x_test, y_test_2), epochs = 150, callbacks = [callback_list])\n"
   ]
  },
  {
   "cell_type": "code",
   "execution_count": 27,
   "metadata": {},
   "outputs": [],
   "source": [
    "from tensorflow.keras.models import load_model\n",
    "Model = load_model('model_prediction.h5')"
   ]
  },
  {
   "cell_type": "code",
   "execution_count": 28,
   "metadata": {},
   "outputs": [
    {
     "name": "stdout",
     "output_type": "stream",
     "text": [
      "  6/186 [..............................] - ETA: 1s - loss: 15.0485 - sex_out_loss: 0.3510 - age_out_loss: 14.0540 - sex_out_accuracy: 0.8542 - age_out_accuracy: 0.0000e+00 "
     ]
    },
    {
     "name": "stderr",
     "output_type": "stream",
     "text": [
      "2022-06-01 22:21:12.375135: I tensorflow/core/grappler/optimizers/custom_graph_optimizer_registry.cc:113] Plugin optimizer for device_type GPU is enabled.\n"
     ]
    },
    {
     "name": "stdout",
     "output_type": "stream",
     "text": [
      "186/186 [==============================] - 2s 8ms/step - loss: 16.1820 - sex_out_loss: 0.3482 - age_out_loss: 15.1902 - sex_out_accuracy: 0.8617 - age_out_accuracy: 0.0027\n"
     ]
    },
    {
     "data": {
      "text/plain": [
       "[16.182025909423828,\n",
       " 0.3482268750667572,\n",
       " 15.190245628356934,\n",
       " 0.8616500496864319,\n",
       " 0.002699510660022497]"
      ]
     },
     "execution_count": 28,
     "metadata": {},
     "output_type": "execute_result"
    }
   ],
   "source": [
    "Model.evaluate(x_test, y_test_2)"
   ]
  },
  {
   "cell_type": "code",
   "execution_count": 29,
   "metadata": {},
   "outputs": [
    {
     "name": "stderr",
     "output_type": "stream",
     "text": [
      "2022-06-01 22:21:22.126527: I tensorflow/core/grappler/optimizers/custom_graph_optimizer_registry.cc:113] Plugin optimizer for device_type GPU is enabled.\n"
     ]
    },
    {
     "data": {
      "text/plain": [
       "array([[10.660191 ],\n",
       "       [11.008196 ],\n",
       "       [ 5.2247925],\n",
       "       ...,\n",
       "       [14.22684  ],\n",
       "       [16.455994 ],\n",
       "       [16.9564   ]], dtype=float32)"
      ]
     },
     "execution_count": 29,
     "metadata": {},
     "output_type": "execute_result"
    }
   ],
   "source": [
    "pred = Model.predict(x_test)\n",
    "pred[1]"
   ]
  },
  {
   "cell_type": "code",
   "execution_count": 30,
   "metadata": {},
   "outputs": [
    {
     "data": {
      "image/png": "[encoded data removed]",
      "text/plain": [
       "<Figure size 432x288 with 1 Axes>"
      ]
     },
     "metadata": {
      "needs_background": "light"
     },
     "output_type": "display_data"
    }
   ],
   "source": [
    "import matplotlib.pyplot as plt \n",
    "\n",
    "plt.plot(History.history['loss'])\n",
    "plt.plot(History.history['val_loss'])\n",
    "plt.title('Model loss')\n",
    "plt.ylabel('Loss')\n",
    "plt.xlabel('Epoch')\n",
    "plt.legend(['Train', 'Validation'], loc='upper left')\n",
    "plt.subplots_adjust(top=1.00, bottom=0.0, left=0.0, right=0.95, hspace=0.25,\n",
    "                        wspace=0.35)"
   ]
  },
  {
   "cell_type": "code",
   "execution_count": 31,
   "metadata": {},
   "outputs": [
    {
     "data": {
      "image/png": "[encoded data removed]",
      "text/plain": [
       "<Figure size 432x288 with 1 Axes>"
      ]
     },
     "metadata": {
      "needs_background": "light"
     },
     "output_type": "display_data"
    }
   ],
   "source": [
    "plt.plot(History.history['sex_out_accuracy'])\n",
    "plt.plot(History.history['val_sex_out_accuracy'])\n",
    "plt.title('Model accuracy')\n",
    "plt.ylabel('Accuracy')\n",
    "plt.xlabel('Epoch')\n",
    "plt.legend(['Train', 'Validation'], loc='upper left')\n",
    "plt.subplots_adjust(top=1.00, bottom=0.0, left=0.0, right=0.95, hspace=0.25,\n",
    "                        wspace=0.35)"
   ]
  },
  {
   "cell_type": "code",
   "execution_count": 32,
   "metadata": {},
   "outputs": [
    {
     "data": {
      "image/png": "[encoded data removed]",
      "text/plain": [
       "<Figure size 432x288 with 1 Axes>"
      ]
     },
     "metadata": {
      "needs_background": "light"
     },
     "output_type": "display_data"
    }
   ],
   "source": [
    "fig, ax = plt.subplots()\n",
    "ax.scatter(y_test_2[1], pred[1])\n",
    "ax.plot([y_test_2[1].min(),y_test_2[1].max()], [y_test_2[1].min(), y_test_2[1].max()], 'k--', lw=4)\n",
    "ax.set_xlabel('Actual Age')\n",
    "ax.set_ylabel('Predicted Age')\n",
    "plt.show()"
   ]
  }
 ],
 "metadata": {
  "interpreter": {
   "hash": "ce58aae133730a7197b268dfb3f865648bfe7be8d3229aa24c4d13e7352e80fa"
  },
  "kernelspec": {
   "display_name": "Python 3.9.12",
   "language": "python",
   "name": "python3"
  },
  "language_info": {
   "codemirror_mode": {
    "name": "ipython",
    "version": 3
   },
   "file_extension": ".py",
   "mimetype": "text/x-python",
   "name": "python",
   "nbconvert_exporter": "python",
   "pygments_lexer": "ipython3",
   "version": "3.9.12"
  }
 },
 "nbformat": 4,
 "nbformat_minor": 2
}
