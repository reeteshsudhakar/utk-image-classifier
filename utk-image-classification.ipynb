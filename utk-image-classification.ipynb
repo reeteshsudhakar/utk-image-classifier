{
 "cells": [
  {
   "cell_type": "code",
   "execution_count": 1,
   "metadata": {},
   "outputs": [],
   "source": [
    "import os"
   ]
  },
  {
   "cell_type": "code",
   "execution_count": 6,
   "metadata": {},
   "outputs": [],
   "source": [
    "folder = \"/Users/reeteshsudhakar/Documents/GitHub/utk-image-classifier/utkface-images\"\n",
    "\n",
    "files = os.listdir(folder)\n",
    "# grabbing the info from each file name and printing it  \n",
    "\n",
    "# opening the text file\n",
    "with open(\"image_data.txt\", \"w\") as outfile:\n",
    "    for file in files:\n",
    "        counter = 0\n",
    "        for item in file.split(\"_\"):\n",
    "            if len(item) < 5:\n",
    "                outfile.write(item + \"\\n\")\n",
    "            counter += 1 \n",
    "\n",
    "            if counter == 3:\n",
    "                outfile.write(\"-----------\\n\")\n",
    "                continue\n",
    "    # TODO - modify this to grab the info and add it to a table "
   ]
  }
 ],
 "metadata": {
  "interpreter": {
   "hash": "aee8b7b246df8f9039afb4144a1f6fd8d2ca17a180786b69acc140d282b71a49"
  },
  "kernelspec": {
   "display_name": "Python 3.9.4 64-bit",
   "language": "python",
   "name": "python3"
  },
  "language_info": {
   "codemirror_mode": {
    "name": "ipython",
    "version": 3
   },
   "file_extension": ".py",
   "mimetype": "text/x-python",
   "name": "python",
   "nbconvert_exporter": "python",
   "pygments_lexer": "ipython3",
   "version": "3.9.4"
  },
  "orig_nbformat": 4
 },
 "nbformat": 4,
 "nbformat_minor": 2
}
