{
 "cells": [
  {
   "cell_type": "markdown",
   "metadata": {},
   "source": [
    "### Links to Reference"
   ]
  },
  {
   "cell_type": "markdown",
   "metadata": {},
   "source": [
    "[Keras Multi Output Model](https://github.com/rodrigobressan/keras-multi-output-model-utk-face/blob/master/notebook.ipynb)\n",
    "\n",
    "[Keras Documentation - Functional API](https://keras.io/guides/functional_api/)\n",
    "\n",
    "[Stack Overflow - How to Implement Multilabel Classification with UTKFace](https://stackoverflow.com/questions/66852823/how-to-implement-multilabel-classification-on-utkface-dataset-using-tensorflow-a)\n",
    "\n",
    "[Tensorflow Guide - Keras Train and Evaluate](https://www.tensorflow.org/guide/keras/train_and_evaluate)\n",
    "\n",
    "[Stack Overflow - Keras Value Error with Dimensions](https://stackoverflow.com/questions/61069068/keras-valueerror-dimensions-must-be-equal-but-are-6-and-9-for-node-equal)\n",
    "\n",
    "[Helpful Guide for Age + Gender Detection Using DL](https://www.analyticsvidhya.com/blog/2021/07/age-and-gender-detection-using-deep-learning/)\n",
    "\n",
    "[Keras Model Output Always Same Error](https://github.com/keras-team/keras/issues/6447)"
   ]
  },
  {
   "cell_type": "markdown",
   "metadata": {},
   "source": [
    "### Imports"
   ]
  },
  {
   "cell_type": "code",
   "execution_count": 4,
   "metadata": {},
   "outputs": [],
   "source": [
    "import os\n",
    "import pandas as pd\n",
    "import numpy as np\n",
    "import glob\n",
    "import tensorflow as tf\n",
    "import cv2"
   ]
  },
  {
   "cell_type": "markdown",
   "metadata": {},
   "source": [
    "### Image Labels\n",
    "The labels of each face image is embedded in the file name, formated like [age]_[gender]_[race]_[date&time].jpg\n",
    "\n",
    "**age** is an integer from 0 to 116, indicating the age\n",
    "\n",
    "**gender** is either 0 (male) or 1 (female)\n",
    "\n",
    "**race** is an integer from 0 to 4, denoting White, Black, Asian, Indian, and Others (like Hispanic, Latino, Middle Eastern).\n",
    "\n",
    "**date&time** is in the format of yyyymmddHHMMSSFFF, showing the date and time an image was collected to UTKFace"
   ]
  },
  {
   "cell_type": "code",
   "execution_count": 5,
   "metadata": {},
   "outputs": [
    {
     "data": {
      "text/plain": [
       "{'race_id': {0: 'White', 1: 'Black', 2: 'Asian', 3: 'Indian', 4: 'Others'},\n",
       " 'gender_id': {0: 'Male', 1: 'Female'},\n",
       " 'gender_alias': {'Male': 0, 'Female': 1},\n",
       " 'race_alias': {'White': 0, 'Black': 1, 'Asian': 2, 'Indian': 3, 'Others': 4}}"
      ]
     },
     "execution_count": 5,
     "metadata": {},
     "output_type": "execute_result"
    }
   ],
   "source": [
    "dataset_dict = {\n",
    "    'race_id': {\n",
    "        0: 'White', \n",
    "        1: 'Black', \n",
    "        2: 'Asian', \n",
    "        3: 'Indian', \n",
    "        4: 'Others'\n",
    "    },\n",
    "    'gender_id': {\n",
    "        0: 'Male',\n",
    "        1: 'Female'\n",
    "    }\n",
    "}\n",
    "\n",
    "dataset_dict['gender_alias'] = dict((g, i) for i, g in dataset_dict['gender_id'].items())\n",
    "dataset_dict['race_alias'] = dict((g, i) for i, g in dataset_dict['race_id'].items())\n",
    "\n",
    "dataset_dict"
   ]
  },
  {
   "cell_type": "markdown",
   "metadata": {},
   "source": [
    "### Loading Data into Text and CSV Files"
   ]
  },
  {
   "cell_type": "code",
   "execution_count": 6,
   "metadata": {},
   "outputs": [],
   "source": [
    "def parse_dataset(dataset_path, ext='jpg'):\n",
    "    \"\"\"\n",
    "    Used to extract information about our dataset. It does iterate over all images and return a DataFrame with\n",
    "    the data (age, gender and sex) of all files.\n",
    "    \"\"\"\n",
    "    def parse_info_from_file(path):\n",
    "        \"\"\"\n",
    "        Parse information from a single file\n",
    "        \"\"\"\n",
    "        try:\n",
    "            filename = os.path.split(path)[1]\n",
    "            filename = os.path.splitext(filename)[0]\n",
    "            age, gender, race, _ = filename.split('_')\n",
    "\n",
    "            return int(age), dataset_dict['gender_id'][int(gender)], dataset_dict['race_id'][int(race)]\n",
    "        except Exception as ex:\n",
    "            return None, None, None\n",
    "        \n",
    "    files = glob.glob(os.path.join(dataset_path, \"*.%s\" % ext))\n",
    "    \n",
    "    records = []\n",
    "    for file in files:\n",
    "        info = parse_info_from_file(file)\n",
    "        records.append(info)\n",
    "        \n",
    "    df = pd.DataFrame(records)\n",
    "    df['file'] = files\n",
    "    df.columns = ['Age', 'Gender', 'Race', 'File']\n",
    "    df = df.dropna()\n",
    "    \n",
    "    return df"
   ]
  },
  {
   "cell_type": "code",
   "execution_count": 7,
   "metadata": {},
   "outputs": [],
   "source": [
    "def parse_dataset_raw(dataset_path, ext='jpg'):\n",
    "    \"\"\"\n",
    "    Used to extract information about our dataset. It does iterate over all images and return a DataFrame with\n",
    "    the data (age, gender and sex) of all files.\n",
    "    \"\"\"\n",
    "    def parse_raw_info_from_file(path):\n",
    "        \"\"\"\n",
    "        Parse information from a single file\n",
    "        \"\"\"\n",
    "        try:\n",
    "            filename = os.path.split(path)[1]\n",
    "            filename = os.path.splitext(filename)[0]\n",
    "            age, gender, race, _ = filename.split('_')\n",
    "\n",
    "            return int(age), int(gender), int(race)\n",
    "        except Exception as ex:\n",
    "            return None, None, None\n",
    "        \n",
    "    files = glob.glob(os.path.join(dataset_path, \"*.%s\" % ext))\n",
    "    \n",
    "    records = []\n",
    "    for file in files:\n",
    "        info = parse_raw_info_from_file(file)\n",
    "        records.append(info)\n",
    "        \n",
    "    df = pd.DataFrame(records)\n",
    "    df['file'] = files\n",
    "    df.columns = ['Age', 'Gender', 'Race', 'File']\n",
    "    df = df.dropna()\n",
    "    \n",
    "    return df"
   ]
  },
  {
   "cell_type": "code",
   "execution_count": 8,
   "metadata": {},
   "outputs": [
    {
     "data": {
      "text/html": [
       "<div>\n",
       "<style scoped>\n",
       "    .dataframe tbody tr th:only-of-type {\n",
       "        vertical-align: middle;\n",
       "    }\n",
       "\n",
       "    .dataframe tbody tr th {\n",
       "        vertical-align: top;\n",
       "    }\n",
       "\n",
       "    .dataframe thead th {\n",
       "        text-align: right;\n",
       "    }\n",
       "</style>\n",
       "<table border=\"1\" class=\"dataframe\">\n",
       "  <thead>\n",
       "    <tr style=\"text-align: right;\">\n",
       "      <th></th>\n",
       "      <th>Age</th>\n",
       "      <th>Gender</th>\n",
       "      <th>Race</th>\n",
       "      <th>File</th>\n",
       "    </tr>\n",
       "  </thead>\n",
       "  <tbody>\n",
       "    <tr>\n",
       "      <th>0</th>\n",
       "      <td>9.0</td>\n",
       "      <td>Female</td>\n",
       "      <td>Asian</td>\n",
       "      <td>UTKFace/9_1_2_20161219204347420.jpg.chip.jpg</td>\n",
       "    </tr>\n",
       "    <tr>\n",
       "      <th>1</th>\n",
       "      <td>36.0</td>\n",
       "      <td>Male</td>\n",
       "      <td>Black</td>\n",
       "      <td>UTKFace/36_0_1_20170117163203851.jpg.chip.jpg</td>\n",
       "    </tr>\n",
       "    <tr>\n",
       "      <th>2</th>\n",
       "      <td>86.0</td>\n",
       "      <td>Female</td>\n",
       "      <td>White</td>\n",
       "      <td>UTKFace/86_1_0_20170120225751953.jpg.chip.jpg</td>\n",
       "    </tr>\n",
       "    <tr>\n",
       "      <th>3</th>\n",
       "      <td>26.0</td>\n",
       "      <td>Female</td>\n",
       "      <td>White</td>\n",
       "      <td>UTKFace/26_1_0_20170116171048641.jpg.chip.jpg</td>\n",
       "    </tr>\n",
       "    <tr>\n",
       "      <th>4</th>\n",
       "      <td>1.0</td>\n",
       "      <td>Female</td>\n",
       "      <td>Asian</td>\n",
       "      <td>UTKFace/1_1_2_20161219154612988.jpg.chip.jpg</td>\n",
       "    </tr>\n",
       "    <tr>\n",
       "      <th>...</th>\n",
       "      <td>...</td>\n",
       "      <td>...</td>\n",
       "      <td>...</td>\n",
       "      <td>...</td>\n",
       "    </tr>\n",
       "    <tr>\n",
       "      <th>23703</th>\n",
       "      <td>35.0</td>\n",
       "      <td>Male</td>\n",
       "      <td>White</td>\n",
       "      <td>UTKFace/35_0_0_20170117155112202.jpg.chip.jpg</td>\n",
       "    </tr>\n",
       "    <tr>\n",
       "      <th>23704</th>\n",
       "      <td>52.0</td>\n",
       "      <td>Male</td>\n",
       "      <td>Indian</td>\n",
       "      <td>UTKFace/52_0_3_20170119200211340.jpg.chip.jpg</td>\n",
       "    </tr>\n",
       "    <tr>\n",
       "      <th>23705</th>\n",
       "      <td>26.0</td>\n",
       "      <td>Male</td>\n",
       "      <td>Black</td>\n",
       "      <td>UTKFace/26_0_1_20170116010114628.jpg.chip.jpg</td>\n",
       "    </tr>\n",
       "    <tr>\n",
       "      <th>23706</th>\n",
       "      <td>28.0</td>\n",
       "      <td>Male</td>\n",
       "      <td>Black</td>\n",
       "      <td>UTKFace/28_0_1_20170117015458481.jpg.chip.jpg</td>\n",
       "    </tr>\n",
       "    <tr>\n",
       "      <th>23707</th>\n",
       "      <td>50.0</td>\n",
       "      <td>Female</td>\n",
       "      <td>Black</td>\n",
       "      <td>UTKFace/50_1_1_20170120220813715.jpg.chip.jpg</td>\n",
       "    </tr>\n",
       "  </tbody>\n",
       "</table>\n",
       "<p>23705 rows × 4 columns</p>\n",
       "</div>"
      ],
      "text/plain": [
       "        Age  Gender    Race                                           File\n",
       "0       9.0  Female   Asian   UTKFace/9_1_2_20161219204347420.jpg.chip.jpg\n",
       "1      36.0    Male   Black  UTKFace/36_0_1_20170117163203851.jpg.chip.jpg\n",
       "2      86.0  Female   White  UTKFace/86_1_0_20170120225751953.jpg.chip.jpg\n",
       "3      26.0  Female   White  UTKFace/26_1_0_20170116171048641.jpg.chip.jpg\n",
       "4       1.0  Female   Asian   UTKFace/1_1_2_20161219154612988.jpg.chip.jpg\n",
       "...     ...     ...     ...                                            ...\n",
       "23703  35.0    Male   White  UTKFace/35_0_0_20170117155112202.jpg.chip.jpg\n",
       "23704  52.0    Male  Indian  UTKFace/52_0_3_20170119200211340.jpg.chip.jpg\n",
       "23705  26.0    Male   Black  UTKFace/26_0_1_20170116010114628.jpg.chip.jpg\n",
       "23706  28.0    Male   Black  UTKFace/28_0_1_20170117015458481.jpg.chip.jpg\n",
       "23707  50.0  Female   Black  UTKFace/50_1_1_20170120220813715.jpg.chip.jpg\n",
       "\n",
       "[23705 rows x 4 columns]"
      ]
     },
     "execution_count": 8,
     "metadata": {},
     "output_type": "execute_result"
    }
   ],
   "source": [
    "dataset_path = \"UTKFace\"\n",
    "df = parse_dataset(dataset_path)\n",
    "df"
   ]
  },
  {
   "cell_type": "code",
   "execution_count": 9,
   "metadata": {},
   "outputs": [
    {
     "data": {
      "text/html": [
       "<div>\n",
       "<style scoped>\n",
       "    .dataframe tbody tr th:only-of-type {\n",
       "        vertical-align: middle;\n",
       "    }\n",
       "\n",
       "    .dataframe tbody tr th {\n",
       "        vertical-align: top;\n",
       "    }\n",
       "\n",
       "    .dataframe thead th {\n",
       "        text-align: right;\n",
       "    }\n",
       "</style>\n",
       "<table border=\"1\" class=\"dataframe\">\n",
       "  <thead>\n",
       "    <tr style=\"text-align: right;\">\n",
       "      <th></th>\n",
       "      <th>Age</th>\n",
       "      <th>Gender</th>\n",
       "      <th>Race</th>\n",
       "      <th>File</th>\n",
       "    </tr>\n",
       "  </thead>\n",
       "  <tbody>\n",
       "    <tr>\n",
       "      <th>0</th>\n",
       "      <td>9.0</td>\n",
       "      <td>1.0</td>\n",
       "      <td>2.0</td>\n",
       "      <td>UTKFace/9_1_2_20161219204347420.jpg.chip.jpg</td>\n",
       "    </tr>\n",
       "    <tr>\n",
       "      <th>1</th>\n",
       "      <td>36.0</td>\n",
       "      <td>0.0</td>\n",
       "      <td>1.0</td>\n",
       "      <td>UTKFace/36_0_1_20170117163203851.jpg.chip.jpg</td>\n",
       "    </tr>\n",
       "    <tr>\n",
       "      <th>2</th>\n",
       "      <td>86.0</td>\n",
       "      <td>1.0</td>\n",
       "      <td>0.0</td>\n",
       "      <td>UTKFace/86_1_0_20170120225751953.jpg.chip.jpg</td>\n",
       "    </tr>\n",
       "    <tr>\n",
       "      <th>3</th>\n",
       "      <td>26.0</td>\n",
       "      <td>1.0</td>\n",
       "      <td>0.0</td>\n",
       "      <td>UTKFace/26_1_0_20170116171048641.jpg.chip.jpg</td>\n",
       "    </tr>\n",
       "    <tr>\n",
       "      <th>4</th>\n",
       "      <td>1.0</td>\n",
       "      <td>1.0</td>\n",
       "      <td>2.0</td>\n",
       "      <td>UTKFace/1_1_2_20161219154612988.jpg.chip.jpg</td>\n",
       "    </tr>\n",
       "    <tr>\n",
       "      <th>...</th>\n",
       "      <td>...</td>\n",
       "      <td>...</td>\n",
       "      <td>...</td>\n",
       "      <td>...</td>\n",
       "    </tr>\n",
       "    <tr>\n",
       "      <th>23703</th>\n",
       "      <td>35.0</td>\n",
       "      <td>0.0</td>\n",
       "      <td>0.0</td>\n",
       "      <td>UTKFace/35_0_0_20170117155112202.jpg.chip.jpg</td>\n",
       "    </tr>\n",
       "    <tr>\n",
       "      <th>23704</th>\n",
       "      <td>52.0</td>\n",
       "      <td>0.0</td>\n",
       "      <td>3.0</td>\n",
       "      <td>UTKFace/52_0_3_20170119200211340.jpg.chip.jpg</td>\n",
       "    </tr>\n",
       "    <tr>\n",
       "      <th>23705</th>\n",
       "      <td>26.0</td>\n",
       "      <td>0.0</td>\n",
       "      <td>1.0</td>\n",
       "      <td>UTKFace/26_0_1_20170116010114628.jpg.chip.jpg</td>\n",
       "    </tr>\n",
       "    <tr>\n",
       "      <th>23706</th>\n",
       "      <td>28.0</td>\n",
       "      <td>0.0</td>\n",
       "      <td>1.0</td>\n",
       "      <td>UTKFace/28_0_1_20170117015458481.jpg.chip.jpg</td>\n",
       "    </tr>\n",
       "    <tr>\n",
       "      <th>23707</th>\n",
       "      <td>50.0</td>\n",
       "      <td>1.0</td>\n",
       "      <td>1.0</td>\n",
       "      <td>UTKFace/50_1_1_20170120220813715.jpg.chip.jpg</td>\n",
       "    </tr>\n",
       "  </tbody>\n",
       "</table>\n",
       "<p>23705 rows × 4 columns</p>\n",
       "</div>"
      ],
      "text/plain": [
       "        Age  Gender  Race                                           File\n",
       "0       9.0     1.0   2.0   UTKFace/9_1_2_20161219204347420.jpg.chip.jpg\n",
       "1      36.0     0.0   1.0  UTKFace/36_0_1_20170117163203851.jpg.chip.jpg\n",
       "2      86.0     1.0   0.0  UTKFace/86_1_0_20170120225751953.jpg.chip.jpg\n",
       "3      26.0     1.0   0.0  UTKFace/26_1_0_20170116171048641.jpg.chip.jpg\n",
       "4       1.0     1.0   2.0   UTKFace/1_1_2_20161219154612988.jpg.chip.jpg\n",
       "...     ...     ...   ...                                            ...\n",
       "23703  35.0     0.0   0.0  UTKFace/35_0_0_20170117155112202.jpg.chip.jpg\n",
       "23704  52.0     0.0   3.0  UTKFace/52_0_3_20170119200211340.jpg.chip.jpg\n",
       "23705  26.0     0.0   1.0  UTKFace/26_0_1_20170116010114628.jpg.chip.jpg\n",
       "23706  28.0     0.0   1.0  UTKFace/28_0_1_20170117015458481.jpg.chip.jpg\n",
       "23707  50.0     1.0   1.0  UTKFace/50_1_1_20170120220813715.jpg.chip.jpg\n",
       "\n",
       "[23705 rows x 4 columns]"
      ]
     },
     "execution_count": 9,
     "metadata": {},
     "output_type": "execute_result"
    }
   ],
   "source": [
    "df_raw = parse_dataset_raw(dataset_path)\n",
    "df_raw"
   ]
  },
  {
   "cell_type": "code",
   "execution_count": 10,
   "metadata": {},
   "outputs": [],
   "source": [
    "import plotly.graph_objects as go\n",
    "from IPython.display import display, Image\n",
    "\n",
    "def plot_distribution(pd_series):\n",
    "    labels = pd_series.value_counts().index.tolist()\n",
    "    counts = pd_series.value_counts().values.tolist()\n",
    "    \n",
    "    pie_plot = go.Pie(labels=labels, values=counts, hole=.3)\n",
    "    fig = go.Figure(data=[pie_plot])\n",
    "    fig.update_layout(title_text='Distribution for %s' % pd_series.name)\n",
    "        \n",
    "    img = fig.to_image(format=\"png\")\n",
    "    display(Image(img))"
   ]
  },
  {
   "cell_type": "code",
   "execution_count": 11,
   "metadata": {},
   "outputs": [
    {
     "data": {
      "image/png": "[encoded data removed]",
      "text/plain": [
       "<IPython.core.display.Image object>"
      ]
     },
     "metadata": {},
     "output_type": "display_data"
    },
    {
     "data": {
      "image/png": "[encoded data removed]",
      "text/plain": [
       "<IPython.core.display.Image object>"
      ]
     },
     "metadata": {},
     "output_type": "display_data"
    }
   ],
   "source": [
    "plot_distribution(df[\"Race\"])\n",
    "plot_distribution(df[\"Gender\"])"
   ]
  },
  {
   "cell_type": "code",
   "execution_count": 12,
   "metadata": {},
   "outputs": [
    {
     "data": {
      "image/png": "[encoded data removed]",
      "text/plain": [
       "<IPython.core.display.Image object>"
      ]
     },
     "metadata": {},
     "output_type": "display_data"
    }
   ],
   "source": [
    "bins = [0, 10, 20, 30, 40, 60, 80, np.inf]\n",
    "names = ['<10', '10-20', '20-30', '30-40', '40-60', '60-80', '80+']\n",
    "\n",
    "age_binned = pd.cut(df['Age'], bins, labels=names)\n",
    "plot_distribution(age_binned)\n"
   ]
  },
  {
   "cell_type": "code",
   "execution_count": 13,
   "metadata": {},
   "outputs": [
    {
     "name": "stdout",
     "output_type": "stream",
     "text": [
      "23705\n",
      "23705\n"
     ]
    }
   ],
   "source": [
    "ages = df_raw[\"Age\"].tolist()\n",
    "genders = df_raw[\"Gender\"].tolist()\n",
    "print(len(ages))\n",
    "print(len(genders))"
   ]
  },
  {
   "cell_type": "code",
   "execution_count": 14,
   "metadata": {},
   "outputs": [
    {
     "name": "stdout",
     "output_type": "stream",
     "text": [
      "23705\n",
      "23705\n"
     ]
    }
   ],
   "source": [
    "files = df_raw[\"File\"].tolist()\n",
    "print(len(files))\n",
    "\n",
    "images = []\n",
    "for file in files: \n",
    "    image = cv2.imread(file)\n",
    "    image = cv2.cvtColor(image, cv2.COLOR_BGR2RGB)\n",
    "    image = cv2.resize(image,(48,48))\n",
    "    \n",
    "    images.append(image)\n",
    "\n",
    "print(len(images))"
   ]
  },
  {
   "cell_type": "code",
   "execution_count": 15,
   "metadata": {},
   "outputs": [
    {
     "name": "stdout",
     "output_type": "stream",
     "text": [
      "23705\n",
      "[[9.0], [1.0]]\n"
     ]
    }
   ],
   "source": [
    "labels = []\n",
    "\n",
    "i = 0\n",
    "while i < len(ages): \n",
    "    label = []\n",
    "    label.append(([ages[i]]))\n",
    "    label.append(([genders[i]]))\n",
    "    labels.append(label)\n",
    "    i += 1\n",
    "\n",
    "print(len(labels))\n",
    "print(labels[0])"
   ]
  },
  {
   "cell_type": "code",
   "execution_count": 16,
   "metadata": {},
   "outputs": [
    {
     "name": "stdout",
     "output_type": "stream",
     "text": [
      "<class 'list'>\n",
      "<class 'list'>\n",
      "<class 'list'>\n",
      "<class 'list'>\n"
     ]
    }
   ],
   "source": [
    "print(type(ages))\n",
    "print(type(genders))\n",
    "print(type(images))\n",
    "print(type(labels))"
   ]
  },
  {
   "cell_type": "code",
   "execution_count": 17,
   "metadata": {},
   "outputs": [
    {
     "name": "stdout",
     "output_type": "stream",
     "text": [
      "(23705,)\n",
      "(23705,)\n",
      "(23705, 2, 1)\n",
      "(23705, 48, 48, 3)\n"
     ]
    }
   ],
   "source": [
    "ages_f = np.array(ages)\n",
    "genders_f = np.array(genders)\n",
    "labels_f = np.array(labels)\n",
    "images_f = np.array(images)\n",
    "images_f_2 = images_f / 255\n",
    "print(ages_f.shape)\n",
    "print(genders_f.shape)\n",
    "print(labels_f.shape)\n",
    "print(images_f.shape)"
   ]
  },
  {
   "cell_type": "code",
   "execution_count": 18,
   "metadata": {},
   "outputs": [],
   "source": [
    "from sklearn.model_selection import train_test_split"
   ]
  },
  {
   "cell_type": "code",
   "execution_count": 19,
   "metadata": {},
   "outputs": [
    {
     "name": "stdout",
     "output_type": "stream",
     "text": [
      "(17778, 48, 48, 3)\n",
      "(5927, 48, 48, 3)\n",
      "(17778, 2, 1)\n",
      "(5927, 2, 1)\n"
     ]
    }
   ],
   "source": [
    "x_train, x_test, y_train, y_test = train_test_split(images_f, labels_f, test_size=0.25)\n",
    "print(x_train.shape)\n",
    "print(x_test.shape)\n",
    "print(y_train.shape)\n",
    "print(y_test.shape)"
   ]
  },
  {
   "cell_type": "code",
   "execution_count": 20,
   "metadata": {},
   "outputs": [],
   "source": [
    "y_train_2 = [y_train[:,1],y_train[:,0]]\n",
    "y_test_2 = [y_test[:,1],y_test[:,0]]"
   ]
  },
  {
   "cell_type": "code",
   "execution_count": 21,
   "metadata": {},
   "outputs": [
    {
     "data": {
      "text/plain": [
       "array([[0.],\n",
       "       [0.],\n",
       "       [0.],\n",
       "       [1.],\n",
       "       [0.]])"
      ]
     },
     "execution_count": 21,
     "metadata": {},
     "output_type": "execute_result"
    }
   ],
   "source": [
    "y_train_2[0][0:5]"
   ]
  },
  {
   "cell_type": "code",
   "execution_count": 22,
   "metadata": {},
   "outputs": [
    {
     "data": {
      "text/plain": [
       "array([[45.],\n",
       "       [45.],\n",
       "       [24.],\n",
       "       [51.],\n",
       "       [37.]])"
      ]
     },
     "execution_count": 22,
     "metadata": {},
     "output_type": "execute_result"
    }
   ],
   "source": [
    "y_train_2[1][0:5]"
   ]
  },
  {
   "cell_type": "code",
   "execution_count": 37,
   "metadata": {},
   "outputs": [],
   "source": [
    "from tensorflow.keras.layers import Dropout\n",
    "from tensorflow.keras.layers import Flatten,BatchNormalization\n",
    "from tensorflow.keras.layers import Dense, MaxPooling2D,Conv2D\n",
    "from tensorflow.keras.layers import Input,Activation,Add\n",
    "from tensorflow.keras.models import Model\n",
    "from tensorflow.keras.regularizers import l2\n",
    "from tensorflow.keras.optimizers import Adam"
   ]
  },
  {
   "cell_type": "code",
   "execution_count": 38,
   "metadata": {},
   "outputs": [],
   "source": [
    "def Convolution(input_tensor,filters):\n",
    "    x = Conv2D(filters=32,kernel_size=(3, 3),padding = 'same',kernel_regularizer=l2(0.01))(input_tensor)\n",
    "    x = Dropout(0.2)(x)\n",
    "    x = Activation('relu')(x)\n",
    "\n",
    "    return x\n",
    "\n",
    "def model(input_shape):\n",
    "    inputs = Input((input_shape))\n",
    "\n",
    "    conv_1= Convolution(inputs,64)\n",
    "    maxp_1 = MaxPooling2D(pool_size = (2,2)) (conv_1)\n",
    "    conv_2 = Convolution(maxp_1,32)\n",
    "    maxp_2 = MaxPooling2D(pool_size = (2, 2)) (conv_2)\n",
    "    conv_3 = Convolution(maxp_2,64)\n",
    "    maxp_3 = MaxPooling2D(pool_size = (2, 2)) (conv_3)\n",
    "    conv_4 = Convolution(maxp_3,512)\n",
    "    maxp_4 = MaxPooling2D(pool_size = (2, 2)) (conv_4)\n",
    "    flatten= Flatten() (maxp_4)\n",
    "    dense_1= Dense(64,activation='relu')(flatten)\n",
    "    dense_2= Dense(64,activation='relu')(flatten)\n",
    "    drop_1=Dropout(0.2)(dense_1)\n",
    "    drop_2=Dropout(0.2)(dense_2)\n",
    "    output_1= Dense(1,activation=\"sigmoid\",name='sex_out')(drop_1)\n",
    "    output_2= Dense(1,activation=\"relu\",name='age_out')(drop_2)\n",
    "    model = Model(inputs=[inputs], outputs=[output_1,output_2])\n",
    "    model.compile(loss=[\"binary_crossentropy\",\"mae\"], optimizer=tf.keras.optimizers.Adam(learning_rate=1e-4), metrics=[\"accuracy\"])\n",
    "\n",
    "    return model"
   ]
  },
  {
   "cell_type": "code",
   "execution_count": 39,
   "metadata": {},
   "outputs": [
    {
     "name": "stdout",
     "output_type": "stream",
     "text": [
      "Model: \"model_1\"\n",
      "__________________________________________________________________________________________________\n",
      " Layer (type)                   Output Shape         Param #     Connected to                     \n",
      "==================================================================================================\n",
      " input_2 (InputLayer)           [(None, 48, 48, 3)]  0           []                               \n",
      "                                                                                                  \n",
      " conv2d_4 (Conv2D)              (None, 48, 48, 32)   896         ['input_2[0][0]']                \n",
      "                                                                                                  \n",
      " dropout_6 (Dropout)            (None, 48, 48, 32)   0           ['conv2d_4[0][0]']               \n",
      "                                                                                                  \n",
      " activation_4 (Activation)      (None, 48, 48, 32)   0           ['dropout_6[0][0]']              \n",
      "                                                                                                  \n",
      " max_pooling2d_4 (MaxPooling2D)  (None, 24, 24, 32)  0           ['activation_4[0][0]']           \n",
      "                                                                                                  \n",
      " conv2d_5 (Conv2D)              (None, 24, 24, 32)   9248        ['max_pooling2d_4[0][0]']        \n",
      "                                                                                                  \n",
      " dropout_7 (Dropout)            (None, 24, 24, 32)   0           ['conv2d_5[0][0]']               \n",
      "                                                                                                  \n",
      " activation_5 (Activation)      (None, 24, 24, 32)   0           ['dropout_7[0][0]']              \n",
      "                                                                                                  \n",
      " max_pooling2d_5 (MaxPooling2D)  (None, 12, 12, 32)  0           ['activation_5[0][0]']           \n",
      "                                                                                                  \n",
      " conv2d_6 (Conv2D)              (None, 12, 12, 32)   9248        ['max_pooling2d_5[0][0]']        \n",
      "                                                                                                  \n",
      " dropout_8 (Dropout)            (None, 12, 12, 32)   0           ['conv2d_6[0][0]']               \n",
      "                                                                                                  \n",
      " activation_6 (Activation)      (None, 12, 12, 32)   0           ['dropout_8[0][0]']              \n",
      "                                                                                                  \n",
      " max_pooling2d_6 (MaxPooling2D)  (None, 6, 6, 32)    0           ['activation_6[0][0]']           \n",
      "                                                                                                  \n",
      " conv2d_7 (Conv2D)              (None, 6, 6, 32)     9248        ['max_pooling2d_6[0][0]']        \n",
      "                                                                                                  \n",
      " dropout_9 (Dropout)            (None, 6, 6, 32)     0           ['conv2d_7[0][0]']               \n",
      "                                                                                                  \n",
      " activation_7 (Activation)      (None, 6, 6, 32)     0           ['dropout_9[0][0]']              \n",
      "                                                                                                  \n",
      " max_pooling2d_7 (MaxPooling2D)  (None, 3, 3, 32)    0           ['activation_7[0][0]']           \n",
      "                                                                                                  \n",
      " flatten_1 (Flatten)            (None, 288)          0           ['max_pooling2d_7[0][0]']        \n",
      "                                                                                                  \n",
      " dense_2 (Dense)                (None, 64)           18496       ['flatten_1[0][0]']              \n",
      "                                                                                                  \n",
      " dense_3 (Dense)                (None, 64)           18496       ['flatten_1[0][0]']              \n",
      "                                                                                                  \n",
      " dropout_10 (Dropout)           (None, 64)           0           ['dense_2[0][0]']                \n",
      "                                                                                                  \n",
      " dropout_11 (Dropout)           (None, 64)           0           ['dense_3[0][0]']                \n",
      "                                                                                                  \n",
      " sex_out (Dense)                (None, 1)            65          ['dropout_10[0][0]']             \n",
      "                                                                                                  \n",
      " age_out (Dense)                (None, 1)            65          ['dropout_11[0][0]']             \n",
      "                                                                                                  \n",
      "==================================================================================================\n",
      "Total params: 65,762\n",
      "Trainable params: 65,762\n",
      "Non-trainable params: 0\n",
      "__________________________________________________________________________________________________\n"
     ]
    }
   ],
   "source": [
    "test_model = model((48, 48, 3))\n",
    "test_model.summary()"
   ]
  },
  {
   "cell_type": "code",
   "execution_count": 40,
   "metadata": {},
   "outputs": [],
   "source": [
    "from tensorflow.keras.callbacks import ModelCheckpoint"
   ]
  },
  {
   "cell_type": "code",
   "execution_count": 41,
   "metadata": {},
   "outputs": [],
   "source": [
    "fle_s='model_prediction.h5'\n",
    "checkpointer = ModelCheckpoint(fle_s, monitor='val_loss',verbose=1,save_best_only=True,save_weights_only=False, mode='auto',save_freq='epoch')\n",
    "Early_stop=tf.keras.callbacks.EarlyStopping(patience=80, monitor='val_loss',restore_best_weights=True),\n",
    "callback_list=[checkpointer,Early_stop]"
   ]
  },
  {
   "cell_type": "code",
   "execution_count": 42,
   "metadata": {},
   "outputs": [
    {
     "name": "stdout",
     "output_type": "stream",
     "text": [
      "Epoch 1/50\n"
     ]
    },
    {
     "name": "stderr",
     "output_type": "stream",
     "text": [
      "2022-05-25 15:38:06.328182: I tensorflow/core/grappler/optimizers/custom_graph_optimizer_registry.cc:113] Plugin optimizer for device_type GPU is enabled.\n"
     ]
    },
    {
     "name": "stdout",
     "output_type": "stream",
     "text": [
      "556/556 [==============================] - ETA: 0s - loss: 18.9352 - sex_out_loss: 1.6854 - age_out_loss: 16.2795 - sex_out_accuracy: 0.5669 - age_out_accuracy: 0.0456"
     ]
    },
    {
     "name": "stderr",
     "output_type": "stream",
     "text": [
      "2022-05-25 15:38:19.282745: I tensorflow/core/grappler/optimizers/custom_graph_optimizer_registry.cc:113] Plugin optimizer for device_type GPU is enabled.\n"
     ]
    },
    {
     "name": "stdout",
     "output_type": "stream",
     "text": [
      "\n",
      "Epoch 1: val_loss improved from inf to 24.25176, saving model to model_prediction.h5\n",
      "556/556 [==============================] - 16s 28ms/step - loss: 18.9352 - sex_out_loss: 1.6854 - age_out_loss: 16.2795 - sex_out_accuracy: 0.5669 - age_out_accuracy: 0.0456 - val_loss: 24.2518 - val_sex_out_loss: 0.6437 - val_age_out_loss: 22.6684 - val_sex_out_accuracy: 0.6319 - val_age_out_accuracy: 0.0513\n",
      "Epoch 2/50\n",
      "554/556 [============================>.] - ETA: 0s - loss: 15.7700 - sex_out_loss: 0.8577 - age_out_loss: 13.9939 - sex_out_accuracy: 0.6081 - age_out_accuracy: 0.0460\n",
      "Epoch 2: val_loss improved from 24.25176 to 23.28208, saving model to model_prediction.h5\n",
      "556/556 [==============================] - 13s 23ms/step - loss: 15.7647 - sex_out_loss: 0.8572 - age_out_loss: 13.9891 - sex_out_accuracy: 0.6081 - age_out_accuracy: 0.0461 - val_loss: 23.2821 - val_sex_out_loss: 0.5987 - val_age_out_loss: 21.7832 - val_sex_out_accuracy: 0.6788 - val_age_out_accuracy: 0.0503\n",
      "Epoch 3/50\n",
      "554/556 [============================>.] - ETA: 0s - loss: 14.1123 - sex_out_loss: 0.6839 - age_out_loss: 12.5425 - sex_out_accuracy: 0.6463 - age_out_accuracy: 0.0426\n",
      "Epoch 3: val_loss improved from 23.28208 to 22.19685, saving model to model_prediction.h5\n",
      "556/556 [==============================] - 12s 22ms/step - loss: 14.1124 - sex_out_loss: 0.6840 - age_out_loss: 12.5425 - sex_out_accuracy: 0.6463 - age_out_accuracy: 0.0426 - val_loss: 22.1968 - val_sex_out_loss: 0.5986 - val_age_out_loss: 20.7260 - val_sex_out_accuracy: 0.6739 - val_age_out_accuracy: 0.0263\n",
      "Epoch 4/50\n",
      "555/556 [============================>.] - ETA: 0s - loss: 13.0645 - sex_out_loss: 0.6054 - age_out_loss: 11.5987 - sex_out_accuracy: 0.6816 - age_out_accuracy: 0.0330\n",
      "Epoch 4: val_loss did not improve from 22.19685\n",
      "556/556 [==============================] - 12s 22ms/step - loss: 13.0619 - sex_out_loss: 0.6055 - age_out_loss: 11.5961 - sex_out_accuracy: 0.6816 - age_out_accuracy: 0.0330 - val_loss: 23.7791 - val_sex_out_loss: 0.5927 - val_age_out_loss: 22.3376 - val_sex_out_accuracy: 0.7191 - val_age_out_accuracy: 0.0132\n",
      "Epoch 5/50\n",
      "556/556 [==============================] - ETA: 0s - loss: 12.4802 - sex_out_loss: 0.5817 - age_out_loss: 11.0599 - sex_out_accuracy: 0.7046 - age_out_accuracy: 0.0280\n",
      "Epoch 5: val_loss improved from 22.19685 to 19.89228, saving model to model_prediction.h5\n",
      "556/556 [==============================] - 12s 22ms/step - loss: 12.4802 - sex_out_loss: 0.5817 - age_out_loss: 11.0599 - sex_out_accuracy: 0.7046 - age_out_accuracy: 0.0280 - val_loss: 19.8923 - val_sex_out_loss: 0.5745 - val_age_out_loss: 18.4890 - val_sex_out_accuracy: 0.7277 - val_age_out_accuracy: 0.0174\n",
      "Epoch 6/50\n",
      "556/556 [==============================] - ETA: 0s - loss: 12.0353 - sex_out_loss: 0.5616 - age_out_loss: 10.6539 - sex_out_accuracy: 0.7163 - age_out_accuracy: 0.0242\n",
      "Epoch 6: val_loss improved from 19.89228 to 19.64205, saving model to model_prediction.h5\n",
      "556/556 [==============================] - 12s 22ms/step - loss: 12.0353 - sex_out_loss: 0.5616 - age_out_loss: 10.6539 - sex_out_accuracy: 0.7163 - age_out_accuracy: 0.0242 - val_loss: 19.6421 - val_sex_out_loss: 0.5653 - val_age_out_loss: 18.2654 - val_sex_out_accuracy: 0.7471 - val_age_out_accuracy: 0.0184\n",
      "Epoch 7/50\n",
      "554/556 [============================>.] - ETA: 0s - loss: 11.7939 - sex_out_loss: 0.5438 - age_out_loss: 10.4460 - sex_out_accuracy: 0.7291 - age_out_accuracy: 0.0215\n",
      "Epoch 7: val_loss improved from 19.64205 to 19.08850, saving model to model_prediction.h5\n",
      "556/556 [==============================] - 12s 22ms/step - loss: 11.7919 - sex_out_loss: 0.5441 - age_out_loss: 10.4438 - sex_out_accuracy: 0.7290 - age_out_accuracy: 0.0216 - val_loss: 19.0885 - val_sex_out_loss: 0.5535 - val_age_out_loss: 17.7383 - val_sex_out_accuracy: 0.7462 - val_age_out_accuracy: 0.0179\n",
      "Epoch 8/50\n",
      "554/556 [============================>.] - ETA: 0s - loss: 11.5010 - sex_out_loss: 0.5309 - age_out_loss: 10.1800 - sex_out_accuracy: 0.7430 - age_out_accuracy: 0.0195\n",
      "Epoch 8: val_loss did not improve from 19.08850\n",
      "556/556 [==============================] - 12s 22ms/step - loss: 11.5002 - sex_out_loss: 0.5309 - age_out_loss: 10.1793 - sex_out_accuracy: 0.7429 - age_out_accuracy: 0.0195 - val_loss: 19.9132 - val_sex_out_loss: 0.5441 - val_age_out_loss: 18.5856 - val_sex_out_accuracy: 0.7721 - val_age_out_accuracy: 0.0098\n",
      "Epoch 9/50\n",
      "556/556 [==============================] - ETA: 0s - loss: 11.2890 - sex_out_loss: 0.5219 - age_out_loss: 9.9898 - sex_out_accuracy: 0.7442 - age_out_accuracy: 0.0172\n",
      "Epoch 9: val_loss did not improve from 19.08850\n",
      "556/556 [==============================] - 12s 22ms/step - loss: 11.2890 - sex_out_loss: 0.5219 - age_out_loss: 9.9898 - sex_out_accuracy: 0.7442 - age_out_accuracy: 0.0172 - val_loss: 21.3454 - val_sex_out_loss: 0.5376 - val_age_out_loss: 20.0362 - val_sex_out_accuracy: 0.7599 - val_age_out_accuracy: 0.0084\n",
      "Epoch 10/50\n",
      "555/556 [============================>.] - ETA: 0s - loss: 11.1381 - sex_out_loss: 0.5028 - age_out_loss: 9.8686 - sex_out_accuracy: 0.7567 - age_out_accuracy: 0.0163\n",
      "Epoch 10: val_loss did not improve from 19.08850\n",
      "556/556 [==============================] - 12s 22ms/step - loss: 11.1348 - sex_out_loss: 0.5029 - age_out_loss: 9.8652 - sex_out_accuracy: 0.7567 - age_out_accuracy: 0.0163 - val_loss: 20.9380 - val_sex_out_loss: 0.5277 - val_age_out_loss: 19.6490 - val_sex_out_accuracy: 0.7776 - val_age_out_accuracy: 0.0089\n",
      "Epoch 11/50\n",
      "554/556 [============================>.] - ETA: 0s - loss: 10.8619 - sex_out_loss: 0.4964 - age_out_loss: 9.6087 - sex_out_accuracy: 0.7598 - age_out_accuracy: 0.0155\n",
      "Epoch 11: val_loss did not improve from 19.08850\n",
      "556/556 [==============================] - 12s 22ms/step - loss: 10.8682 - sex_out_loss: 0.4961 - age_out_loss: 9.6154 - sex_out_accuracy: 0.7600 - age_out_accuracy: 0.0155 - val_loss: 19.8570 - val_sex_out_loss: 0.5069 - val_age_out_loss: 18.5978 - val_sex_out_accuracy: 0.7876 - val_age_out_accuracy: 0.0105\n",
      "Epoch 12/50\n",
      "555/556 [============================>.] - ETA: 0s - loss: 10.7292 - sex_out_loss: 0.4815 - age_out_loss: 9.4997 - sex_out_accuracy: 0.7688 - age_out_accuracy: 0.0138\n",
      "Epoch 12: val_loss did not improve from 19.08850\n",
      "556/556 [==============================] - 12s 22ms/step - loss: 10.7282 - sex_out_loss: 0.4814 - age_out_loss: 9.4988 - sex_out_accuracy: 0.7688 - age_out_accuracy: 0.0138 - val_loss: 19.5000 - val_sex_out_loss: 0.5003 - val_age_out_loss: 18.2556 - val_sex_out_accuracy: 0.8006 - val_age_out_accuracy: 0.0094\n",
      "Epoch 13/50\n",
      "554/556 [============================>.] - ETA: 0s - loss: 10.5504 - sex_out_loss: 0.4696 - age_out_loss: 9.3404 - sex_out_accuracy: 0.7798 - age_out_accuracy: 0.0138\n",
      "Epoch 13: val_loss improved from 19.08850 to 19.03683, saving model to model_prediction.h5\n",
      "556/556 [==============================] - 12s 22ms/step - loss: 10.5527 - sex_out_loss: 0.4697 - age_out_loss: 9.3426 - sex_out_accuracy: 0.7797 - age_out_accuracy: 0.0139 - val_loss: 19.0368 - val_sex_out_loss: 0.4940 - val_age_out_loss: 17.8059 - val_sex_out_accuracy: 0.7996 - val_age_out_accuracy: 0.0084\n",
      "Epoch 14/50\n",
      "555/556 [============================>.] - ETA: 0s - loss: 10.4272 - sex_out_loss: 0.4632 - age_out_loss: 9.2301 - sex_out_accuracy: 0.7787 - age_out_accuracy: 0.0125\n",
      "Epoch 14: val_loss did not improve from 19.03683\n",
      "556/556 [==============================] - 12s 22ms/step - loss: 10.4255 - sex_out_loss: 0.4631 - age_out_loss: 9.2285 - sex_out_accuracy: 0.7787 - age_out_accuracy: 0.0125 - val_loss: 19.3465 - val_sex_out_loss: 0.4833 - val_age_out_loss: 18.1321 - val_sex_out_accuracy: 0.8070 - val_age_out_accuracy: 0.0086\n",
      "Epoch 15/50\n",
      "556/556 [==============================] - ETA: 0s - loss: 10.1966 - sex_out_loss: 0.4547 - age_out_loss: 9.0135 - sex_out_accuracy: 0.7863 - age_out_accuracy: 0.0112\n",
      "Epoch 15: val_loss did not improve from 19.03683\n",
      "556/556 [==============================] - 12s 22ms/step - loss: 10.1966 - sex_out_loss: 0.4547 - age_out_loss: 9.0135 - sex_out_accuracy: 0.7863 - age_out_accuracy: 0.0112 - val_loss: 21.2301 - val_sex_out_loss: 0.4979 - val_age_out_loss: 20.0063 - val_sex_out_accuracy: 0.8142 - val_age_out_accuracy: 0.0062\n",
      "Epoch 16/50\n",
      "556/556 [==============================] - ETA: 0s - loss: 10.0939 - sex_out_loss: 0.4470 - age_out_loss: 8.9232 - sex_out_accuracy: 0.7925 - age_out_accuracy: 0.0116\n",
      "Epoch 16: val_loss did not improve from 19.03683\n",
      "556/556 [==============================] - 12s 22ms/step - loss: 10.0939 - sex_out_loss: 0.4470 - age_out_loss: 8.9232 - sex_out_accuracy: 0.7925 - age_out_accuracy: 0.0116 - val_loss: 19.4984 - val_sex_out_loss: 0.4862 - val_age_out_loss: 18.2910 - val_sex_out_accuracy: 0.8126 - val_age_out_accuracy: 0.0061\n",
      "Epoch 17/50\n",
      "555/556 [============================>.] - ETA: 0s - loss: 9.9584 - sex_out_loss: 0.4449 - age_out_loss: 8.7946 - sex_out_accuracy: 0.7893 - age_out_accuracy: 0.0109\n",
      "Epoch 17: val_loss did not improve from 19.03683\n",
      "556/556 [==============================] - 12s 22ms/step - loss: 9.9614 - sex_out_loss: 0.4448 - age_out_loss: 8.7978 - sex_out_accuracy: 0.7893 - age_out_accuracy: 0.0109 - val_loss: 19.0500 - val_sex_out_loss: 0.4677 - val_age_out_loss: 17.8657 - val_sex_out_accuracy: 0.8151 - val_age_out_accuracy: 0.0088\n",
      "Epoch 18/50\n",
      "554/556 [============================>.] - ETA: 0s - loss: 9.9558 - sex_out_loss: 0.4378 - age_out_loss: 8.8033 - sex_out_accuracy: 0.7934 - age_out_accuracy: 0.0103\n",
      "Epoch 18: val_loss did not improve from 19.03683\n",
      "556/556 [==============================] - 12s 22ms/step - loss: 9.9530 - sex_out_loss: 0.4379 - age_out_loss: 8.8004 - sex_out_accuracy: 0.7933 - age_out_accuracy: 0.0103 - val_loss: 20.8428 - val_sex_out_loss: 0.4801 - val_age_out_loss: 19.6500 - val_sex_out_accuracy: 0.8158 - val_age_out_accuracy: 0.0056\n",
      "Epoch 19/50\n",
      "555/556 [============================>.] - ETA: 0s - loss: 9.8077 - sex_out_loss: 0.4287 - age_out_loss: 8.6683 - sex_out_accuracy: 0.7999 - age_out_accuracy: 0.0095\n",
      "Epoch 19: val_loss improved from 19.03683 to 18.49237, saving model to model_prediction.h5\n",
      "556/556 [==============================] - 12s 22ms/step - loss: 9.8062 - sex_out_loss: 0.4286 - age_out_loss: 8.6669 - sex_out_accuracy: 0.8000 - age_out_accuracy: 0.0094 - val_loss: 18.4924 - val_sex_out_loss: 0.4643 - val_age_out_loss: 17.3195 - val_sex_out_accuracy: 0.8119 - val_age_out_accuracy: 0.0115\n",
      "Epoch 20/50\n",
      "554/556 [============================>.] - ETA: 0s - loss: 9.7834 - sex_out_loss: 0.4231 - age_out_loss: 8.6534 - sex_out_accuracy: 0.8031 - age_out_accuracy: 0.0098\n",
      "Epoch 20: val_loss did not improve from 18.49237\n",
      "556/556 [==============================] - 12s 22ms/step - loss: 9.7789 - sex_out_loss: 0.4232 - age_out_loss: 8.6488 - sex_out_accuracy: 0.8031 - age_out_accuracy: 0.0099 - val_loss: 20.3071 - val_sex_out_loss: 0.4600 - val_age_out_loss: 19.1418 - val_sex_out_accuracy: 0.8252 - val_age_out_accuracy: 0.0057\n",
      "Epoch 21/50\n",
      "556/556 [==============================] - ETA: 0s - loss: 9.6784 - sex_out_loss: 0.4165 - age_out_loss: 8.5582 - sex_out_accuracy: 0.8068 - age_out_accuracy: 0.0093\n",
      "Epoch 21: val_loss did not improve from 18.49237\n",
      "556/556 [==============================] - 12s 22ms/step - loss: 9.6784 - sex_out_loss: 0.4165 - age_out_loss: 8.5582 - sex_out_accuracy: 0.8068 - age_out_accuracy: 0.0093 - val_loss: 19.2599 - val_sex_out_loss: 0.4488 - val_age_out_loss: 18.1089 - val_sex_out_accuracy: 0.8239 - val_age_out_accuracy: 0.0049\n",
      "Epoch 22/50\n",
      "556/556 [==============================] - ETA: 0s - loss: 9.5931 - sex_out_loss: 0.4185 - age_out_loss: 8.4744 - sex_out_accuracy: 0.8027 - age_out_accuracy: 0.0085\n",
      "Epoch 22: val_loss did not improve from 18.49237\n",
      "556/556 [==============================] - 12s 22ms/step - loss: 9.5931 - sex_out_loss: 0.4185 - age_out_loss: 8.4744 - sex_out_accuracy: 0.8027 - age_out_accuracy: 0.0085 - val_loss: 20.9722 - val_sex_out_loss: 0.4504 - val_age_out_loss: 19.8234 - val_sex_out_accuracy: 0.8271 - val_age_out_accuracy: 0.0040\n",
      "Epoch 23/50\n",
      "554/556 [============================>.] - ETA: 0s - loss: 9.5309 - sex_out_loss: 0.4114 - age_out_loss: 8.4227 - sex_out_accuracy: 0.8076 - age_out_accuracy: 0.0088\n",
      "Epoch 23: val_loss improved from 18.49237 to 18.45712, saving model to model_prediction.h5\n",
      "556/556 [==============================] - 12s 22ms/step - loss: 9.5366 - sex_out_loss: 0.4117 - age_out_loss: 8.4281 - sex_out_accuracy: 0.8075 - age_out_accuracy: 0.0088 - val_loss: 18.4571 - val_sex_out_loss: 0.4428 - val_age_out_loss: 17.3191 - val_sex_out_accuracy: 0.8286 - val_age_out_accuracy: 0.0064\n",
      "Epoch 24/50\n",
      "554/556 [============================>.] - ETA: 0s - loss: 9.4243 - sex_out_loss: 0.4030 - age_out_loss: 8.3278 - sex_out_accuracy: 0.8120 - age_out_accuracy: 0.0082\n",
      "Epoch 24: val_loss did not improve from 18.45712\n",
      "556/556 [==============================] - 12s 22ms/step - loss: 9.4232 - sex_out_loss: 0.4027 - age_out_loss: 8.3270 - sex_out_accuracy: 0.8122 - age_out_accuracy: 0.0082 - val_loss: 19.6754 - val_sex_out_loss: 0.4424 - val_age_out_loss: 18.5408 - val_sex_out_accuracy: 0.8289 - val_age_out_accuracy: 0.0062\n",
      "Epoch 25/50\n",
      "555/556 [============================>.] - ETA: 0s - loss: 9.3024 - sex_out_loss: 0.3928 - age_out_loss: 8.2186 - sex_out_accuracy: 0.8188 - age_out_accuracy: 0.0082\n",
      "Epoch 25: val_loss did not improve from 18.45712\n",
      "556/556 [==============================] - 12s 22ms/step - loss: 9.3042 - sex_out_loss: 0.3932 - age_out_loss: 8.2200 - sex_out_accuracy: 0.8185 - age_out_accuracy: 0.0082 - val_loss: 19.1876 - val_sex_out_loss: 0.4316 - val_age_out_loss: 18.0665 - val_sex_out_accuracy: 0.8353 - val_age_out_accuracy: 0.0062\n",
      "Epoch 26/50\n",
      "556/556 [==============================] - ETA: 0s - loss: 9.3565 - sex_out_loss: 0.3955 - age_out_loss: 8.2728 - sex_out_accuracy: 0.8143 - age_out_accuracy: 0.0079\n",
      "Epoch 26: val_loss did not improve from 18.45712\n",
      "556/556 [==============================] - 13s 23ms/step - loss: 9.3565 - sex_out_loss: 0.3955 - age_out_loss: 8.2728 - sex_out_accuracy: 0.8143 - age_out_accuracy: 0.0079 - val_loss: 19.6039 - val_sex_out_loss: 0.4347 - val_age_out_loss: 18.4824 - val_sex_out_accuracy: 0.8367 - val_age_out_accuracy: 0.0049\n",
      "Epoch 27/50\n",
      "555/556 [============================>.] - ETA: 0s - loss: 9.2919 - sex_out_loss: 0.3933 - age_out_loss: 8.2132 - sex_out_accuracy: 0.8166 - age_out_accuracy: 0.0074\n",
      "Epoch 27: val_loss did not improve from 18.45712\n",
      "556/556 [==============================] - 13s 23ms/step - loss: 9.2924 - sex_out_loss: 0.3933 - age_out_loss: 8.2137 - sex_out_accuracy: 0.8166 - age_out_accuracy: 0.0074 - val_loss: 19.7679 - val_sex_out_loss: 0.4263 - val_age_out_loss: 18.6574 - val_sex_out_accuracy: 0.8336 - val_age_out_accuracy: 0.0049\n",
      "Epoch 28/50\n",
      "555/556 [============================>.] - ETA: 0s - loss: 9.2016 - sex_out_loss: 0.3856 - age_out_loss: 8.1333 - sex_out_accuracy: 0.8213 - age_out_accuracy: 0.0076\n",
      "Epoch 28: val_loss did not improve from 18.45712\n",
      "556/556 [==============================] - 12s 22ms/step - loss: 9.2003 - sex_out_loss: 0.3858 - age_out_loss: 8.1318 - sex_out_accuracy: 0.8212 - age_out_accuracy: 0.0076 - val_loss: 19.2891 - val_sex_out_loss: 0.4278 - val_age_out_loss: 18.1798 - val_sex_out_accuracy: 0.8232 - val_age_out_accuracy: 0.0046\n",
      "Epoch 29/50\n",
      "556/556 [==============================] - ETA: 0s - loss: 9.1125 - sex_out_loss: 0.3836 - age_out_loss: 8.0486 - sex_out_accuracy: 0.8207 - age_out_accuracy: 0.0070\n",
      "Epoch 29: val_loss improved from 18.45712 to 18.25417, saving model to model_prediction.h5\n",
      "556/556 [==============================] - 12s 22ms/step - loss: 9.1125 - sex_out_loss: 0.3836 - age_out_loss: 8.0486 - sex_out_accuracy: 0.8207 - age_out_accuracy: 0.0070 - val_loss: 18.2542 - val_sex_out_loss: 0.4231 - val_age_out_loss: 17.1518 - val_sex_out_accuracy: 0.8367 - val_age_out_accuracy: 0.0039\n",
      "Epoch 30/50\n",
      "554/556 [============================>.] - ETA: 0s - loss: 9.0891 - sex_out_loss: 0.3818 - age_out_loss: 8.0294 - sex_out_accuracy: 0.8218 - age_out_accuracy: 0.0073\n",
      "Epoch 30: val_loss did not improve from 18.25417\n",
      "556/556 [==============================] - 12s 22ms/step - loss: 9.0917 - sex_out_loss: 0.3819 - age_out_loss: 8.0320 - sex_out_accuracy: 0.8218 - age_out_accuracy: 0.0073 - val_loss: 19.3982 - val_sex_out_loss: 0.4272 - val_age_out_loss: 18.2943 - val_sex_out_accuracy: 0.8368 - val_age_out_accuracy: 0.0032\n",
      "Epoch 31/50\n",
      "556/556 [==============================] - ETA: 0s - loss: 9.0492 - sex_out_loss: 0.3776 - age_out_loss: 7.9959 - sex_out_accuracy: 0.8246 - age_out_accuracy: 0.0065\n",
      "Epoch 31: val_loss did not improve from 18.25417\n",
      "556/556 [==============================] - 12s 22ms/step - loss: 9.0492 - sex_out_loss: 0.3776 - age_out_loss: 7.9959 - sex_out_accuracy: 0.8246 - age_out_accuracy: 0.0065 - val_loss: 20.0179 - val_sex_out_loss: 0.4218 - val_age_out_loss: 18.9219 - val_sex_out_accuracy: 0.8367 - val_age_out_accuracy: 0.0034\n",
      "Epoch 32/50\n",
      "554/556 [============================>.] - ETA: 0s - loss: 8.9946 - sex_out_loss: 0.3769 - age_out_loss: 7.9444 - sex_out_accuracy: 0.8266 - age_out_accuracy: 0.0072\n",
      "Epoch 32: val_loss improved from 18.25417 to 18.23331, saving model to model_prediction.h5\n",
      "556/556 [==============================] - 12s 22ms/step - loss: 8.9981 - sex_out_loss: 0.3770 - age_out_loss: 7.9478 - sex_out_accuracy: 0.8265 - age_out_accuracy: 0.0072 - val_loss: 18.2333 - val_sex_out_loss: 0.4073 - val_age_out_loss: 17.1535 - val_sex_out_accuracy: 0.8395 - val_age_out_accuracy: 0.0059\n",
      "Epoch 33/50\n",
      "555/556 [============================>.] - ETA: 0s - loss: 8.9206 - sex_out_loss: 0.3751 - age_out_loss: 7.8740 - sex_out_accuracy: 0.8252 - age_out_accuracy: 0.0074\n",
      "Epoch 33: val_loss did not improve from 18.23331\n",
      "556/556 [==============================] - 12s 22ms/step - loss: 8.9236 - sex_out_loss: 0.3750 - age_out_loss: 7.8770 - sex_out_accuracy: 0.8253 - age_out_accuracy: 0.0074 - val_loss: 18.5491 - val_sex_out_loss: 0.4107 - val_age_out_loss: 17.4680 - val_sex_out_accuracy: 0.8397 - val_age_out_accuracy: 0.0052\n",
      "Epoch 34/50\n",
      "554/556 [============================>.] - ETA: 0s - loss: 8.9170 - sex_out_loss: 0.3672 - age_out_loss: 7.8803 - sex_out_accuracy: 0.8315 - age_out_accuracy: 0.0068\n",
      "Epoch 34: val_loss did not improve from 18.23331\n",
      "556/556 [==============================] - 12s 22ms/step - loss: 8.9264 - sex_out_loss: 0.3674 - age_out_loss: 7.8895 - sex_out_accuracy: 0.8315 - age_out_accuracy: 0.0068 - val_loss: 20.1621 - val_sex_out_loss: 0.4135 - val_age_out_loss: 19.0802 - val_sex_out_accuracy: 0.8362 - val_age_out_accuracy: 0.0039\n",
      "Epoch 35/50\n",
      "555/556 [============================>.] - ETA: 0s - loss: 8.8639 - sex_out_loss: 0.3678 - age_out_loss: 7.8284 - sex_out_accuracy: 0.8271 - age_out_accuracy: 0.0066\n",
      "Epoch 35: val_loss did not improve from 18.23331\n",
      "556/556 [==============================] - 12s 22ms/step - loss: 8.8630 - sex_out_loss: 0.3677 - age_out_loss: 7.8276 - sex_out_accuracy: 0.8272 - age_out_accuracy: 0.0066 - val_loss: 18.2530 - val_sex_out_loss: 0.4039 - val_age_out_loss: 17.1824 - val_sex_out_accuracy: 0.8441 - val_age_out_accuracy: 0.0040\n",
      "Epoch 36/50\n",
      "555/556 [============================>.] - ETA: 0s - loss: 8.7373 - sex_out_loss: 0.3669 - age_out_loss: 7.7042 - sex_out_accuracy: 0.8314 - age_out_accuracy: 0.0065\n",
      "Epoch 36: val_loss did not improve from 18.23331\n",
      "556/556 [==============================] - 12s 22ms/step - loss: 8.7431 - sex_out_loss: 0.3671 - age_out_loss: 7.7098 - sex_out_accuracy: 0.8313 - age_out_accuracy: 0.0065 - val_loss: 18.4743 - val_sex_out_loss: 0.4151 - val_age_out_loss: 17.3939 - val_sex_out_accuracy: 0.8394 - val_age_out_accuracy: 0.0040\n",
      "Epoch 37/50\n",
      "554/556 [============================>.] - ETA: 0s - loss: 8.7686 - sex_out_loss: 0.3708 - age_out_loss: 7.7336 - sex_out_accuracy: 0.8235 - age_out_accuracy: 0.0063\n",
      "Epoch 37: val_loss did not improve from 18.23331\n",
      "556/556 [==============================] - 12s 22ms/step - loss: 8.7704 - sex_out_loss: 0.3704 - age_out_loss: 7.7357 - sex_out_accuracy: 0.8237 - age_out_accuracy: 0.0063 - val_loss: 20.0857 - val_sex_out_loss: 0.4081 - val_age_out_loss: 19.0144 - val_sex_out_accuracy: 0.8439 - val_age_out_accuracy: 0.0030\n",
      "Epoch 38/50\n",
      "555/556 [============================>.] - ETA: 0s - loss: 8.7397 - sex_out_loss: 0.3606 - age_out_loss: 7.7169 - sex_out_accuracy: 0.8353 - age_out_accuracy: 0.0061\n",
      "Epoch 38: val_loss did not improve from 18.23331\n",
      "556/556 [==============================] - 12s 22ms/step - loss: 8.7408 - sex_out_loss: 0.3606 - age_out_loss: 7.7180 - sex_out_accuracy: 0.8354 - age_out_accuracy: 0.0062 - val_loss: 18.7243 - val_sex_out_loss: 0.3998 - val_age_out_loss: 17.6629 - val_sex_out_accuracy: 0.8382 - val_age_out_accuracy: 0.0046\n",
      "Epoch 39/50\n",
      "554/556 [============================>.] - ETA: 0s - loss: 8.7049 - sex_out_loss: 0.3567 - age_out_loss: 7.6874 - sex_out_accuracy: 0.8346 - age_out_accuracy: 0.0071\n",
      "Epoch 39: val_loss did not improve from 18.23331\n",
      "556/556 [==============================] - 12s 22ms/step - loss: 8.7042 - sex_out_loss: 0.3568 - age_out_loss: 7.6866 - sex_out_accuracy: 0.8344 - age_out_accuracy: 0.0071 - val_loss: 19.9502 - val_sex_out_loss: 0.4108 - val_age_out_loss: 18.8793 - val_sex_out_accuracy: 0.8422 - val_age_out_accuracy: 0.0044\n",
      "Epoch 40/50\n",
      "555/556 [============================>.] - ETA: 0s - loss: 8.6105 - sex_out_loss: 0.3560 - age_out_loss: 7.5951 - sex_out_accuracy: 0.8376 - age_out_accuracy: 0.0067\n",
      "Epoch 40: val_loss improved from 18.23331 to 17.74010, saving model to model_prediction.h5\n",
      "556/556 [==============================] - 12s 22ms/step - loss: 8.6118 - sex_out_loss: 0.3561 - age_out_loss: 7.5962 - sex_out_accuracy: 0.8376 - age_out_accuracy: 0.0068 - val_loss: 17.7401 - val_sex_out_loss: 0.3966 - val_age_out_loss: 16.6848 - val_sex_out_accuracy: 0.8436 - val_age_out_accuracy: 0.0046\n",
      "Epoch 41/50\n",
      "555/556 [============================>.] - ETA: 0s - loss: 8.6236 - sex_out_loss: 0.3512 - age_out_loss: 7.6146 - sex_out_accuracy: 0.8387 - age_out_accuracy: 0.0059\n",
      "Epoch 41: val_loss did not improve from 17.74010\n",
      "556/556 [==============================] - 12s 22ms/step - loss: 8.6229 - sex_out_loss: 0.3512 - age_out_loss: 7.6138 - sex_out_accuracy: 0.8387 - age_out_accuracy: 0.0058 - val_loss: 18.4605 - val_sex_out_loss: 0.3938 - val_age_out_loss: 17.4096 - val_sex_out_accuracy: 0.8461 - val_age_out_accuracy: 0.0051\n",
      "Epoch 42/50\n",
      "556/556 [==============================] - ETA: 0s - loss: 8.5289 - sex_out_loss: 0.3496 - age_out_loss: 7.5227 - sex_out_accuracy: 0.8416 - age_out_accuracy: 0.0056\n",
      "Epoch 42: val_loss did not improve from 17.74010\n",
      "556/556 [==============================] - 12s 22ms/step - loss: 8.5289 - sex_out_loss: 0.3496 - age_out_loss: 7.5227 - sex_out_accuracy: 0.8416 - age_out_accuracy: 0.0056 - val_loss: 19.5013 - val_sex_out_loss: 0.3879 - val_age_out_loss: 18.4576 - val_sex_out_accuracy: 0.8480 - val_age_out_accuracy: 0.0032\n",
      "Epoch 43/50\n",
      "554/556 [============================>.] - ETA: 0s - loss: 8.4768 - sex_out_loss: 0.3481 - age_out_loss: 7.4739 - sex_out_accuracy: 0.8428 - age_out_accuracy: 0.0061\n",
      "Epoch 43: val_loss did not improve from 17.74010\n",
      "556/556 [==============================] - 12s 22ms/step - loss: 8.4812 - sex_out_loss: 0.3479 - age_out_loss: 7.4784 - sex_out_accuracy: 0.8429 - age_out_accuracy: 0.0061 - val_loss: 19.7159 - val_sex_out_loss: 0.3907 - val_age_out_loss: 18.6712 - val_sex_out_accuracy: 0.8468 - val_age_out_accuracy: 0.0032\n",
      "Epoch 44/50\n",
      "554/556 [============================>.] - ETA: 0s - loss: 8.4486 - sex_out_loss: 0.3502 - age_out_loss: 7.4454 - sex_out_accuracy: 0.8386 - age_out_accuracy: 0.0058\n",
      "Epoch 44: val_loss did not improve from 17.74010\n",
      "556/556 [==============================] - 12s 22ms/step - loss: 8.4531 - sex_out_loss: 0.3507 - age_out_loss: 7.4493 - sex_out_accuracy: 0.8386 - age_out_accuracy: 0.0058 - val_loss: 18.3210 - val_sex_out_loss: 0.3972 - val_age_out_loss: 17.2716 - val_sex_out_accuracy: 0.8460 - val_age_out_accuracy: 0.0042\n",
      "Epoch 45/50\n",
      "554/556 [============================>.] - ETA: 0s - loss: 8.4453 - sex_out_loss: 0.3499 - age_out_loss: 7.4440 - sex_out_accuracy: 0.8401 - age_out_accuracy: 0.0063\n",
      "Epoch 45: val_loss did not improve from 17.74010\n",
      "556/556 [==============================] - 12s 22ms/step - loss: 8.4451 - sex_out_loss: 0.3501 - age_out_loss: 7.4435 - sex_out_accuracy: 0.8400 - age_out_accuracy: 0.0062 - val_loss: 20.2397 - val_sex_out_loss: 0.3963 - val_age_out_loss: 19.1926 - val_sex_out_accuracy: 0.8456 - val_age_out_accuracy: 0.0027\n",
      "Epoch 46/50\n",
      "554/556 [============================>.] - ETA: 0s - loss: 8.3754 - sex_out_loss: 0.3420 - age_out_loss: 7.3830 - sex_out_accuracy: 0.8438 - age_out_accuracy: 0.0069\n",
      "Epoch 46: val_loss did not improve from 17.74010\n",
      "556/556 [==============================] - 12s 22ms/step - loss: 8.3792 - sex_out_loss: 0.3423 - age_out_loss: 7.3866 - sex_out_accuracy: 0.8438 - age_out_accuracy: 0.0070 - val_loss: 18.9847 - val_sex_out_loss: 0.3967 - val_age_out_loss: 17.9387 - val_sex_out_accuracy: 0.8488 - val_age_out_accuracy: 0.0039\n",
      "Epoch 47/50\n",
      "556/556 [==============================] - ETA: 0s - loss: 8.4148 - sex_out_loss: 0.3453 - age_out_loss: 7.4207 - sex_out_accuracy: 0.8444 - age_out_accuracy: 0.0061\n",
      "Epoch 47: val_loss did not improve from 17.74010\n",
      "556/556 [==============================] - 12s 22ms/step - loss: 8.4148 - sex_out_loss: 0.3453 - age_out_loss: 7.4207 - sex_out_accuracy: 0.8444 - age_out_accuracy: 0.0061 - val_loss: 19.4698 - val_sex_out_loss: 0.3927 - val_age_out_loss: 18.4290 - val_sex_out_accuracy: 0.8471 - val_age_out_accuracy: 0.0039\n",
      "Epoch 48/50\n",
      "555/556 [============================>.] - ETA: 0s - loss: 8.3687 - sex_out_loss: 0.3401 - age_out_loss: 7.3813 - sex_out_accuracy: 0.8433 - age_out_accuracy: 0.0064\n",
      "Epoch 48: val_loss did not improve from 17.74010\n",
      "556/556 [==============================] - 12s 22ms/step - loss: 8.3705 - sex_out_loss: 0.3402 - age_out_loss: 7.3829 - sex_out_accuracy: 0.8432 - age_out_accuracy: 0.0064 - val_loss: 19.7699 - val_sex_out_loss: 0.3852 - val_age_out_loss: 18.7379 - val_sex_out_accuracy: 0.8519 - val_age_out_accuracy: 0.0025\n",
      "Epoch 49/50\n",
      "554/556 [============================>.] - ETA: 0s - loss: 8.2530 - sex_out_loss: 0.3393 - age_out_loss: 7.2674 - sex_out_accuracy: 0.8428 - age_out_accuracy: 0.0054\n",
      "Epoch 49: val_loss did not improve from 17.74010\n",
      "556/556 [==============================] - 12s 22ms/step - loss: 8.2578 - sex_out_loss: 0.3392 - age_out_loss: 7.2723 - sex_out_accuracy: 0.8428 - age_out_accuracy: 0.0053 - val_loss: 19.3848 - val_sex_out_loss: 0.3819 - val_age_out_loss: 18.3573 - val_sex_out_accuracy: 0.8490 - val_age_out_accuracy: 0.0032\n",
      "Epoch 50/50\n",
      "556/556 [==============================] - ETA: 0s - loss: 8.2432 - sex_out_loss: 0.3341 - age_out_loss: 7.2642 - sex_out_accuracy: 0.8450 - age_out_accuracy: 0.0061\n",
      "Epoch 50: val_loss did not improve from 17.74010\n",
      "556/556 [==============================] - 12s 22ms/step - loss: 8.2432 - sex_out_loss: 0.3341 - age_out_loss: 7.2642 - sex_out_accuracy: 0.8450 - age_out_accuracy: 0.0061 - val_loss: 18.6455 - val_sex_out_loss: 0.3767 - val_age_out_loss: 17.6246 - val_sex_out_accuracy: 0.8522 - val_age_out_accuracy: 0.0037\n"
     ]
    }
   ],
   "source": [
    "History = test_model.fit(x_train,y_train_2,batch_size=32,validation_data=(x_test,y_test_2),epochs=50,callbacks=[callback_list])\n"
   ]
  },
  {
   "cell_type": "code",
   "execution_count": 29,
   "metadata": {},
   "outputs": [
    {
     "name": "stdout",
     "output_type": "stream",
     "text": [
      "186/186 [==============================] - 1s 7ms/step - loss: 11.9865 - sex_out_loss: 0.3945 - age_out_loss: 11.0910 - sex_out_accuracy: 0.8429 - age_out_accuracy: 0.0093\n"
     ]
    },
    {
     "data": {
      "text/plain": [
       "[11.986472129821777,\n",
       " 0.3944513201713562,\n",
       " 11.090987205505371,\n",
       " 0.8429222106933594,\n",
       " 0.009279567748308182]"
      ]
     },
     "execution_count": 29,
     "metadata": {},
     "output_type": "execute_result"
    }
   ],
   "source": [
    "test_model.evaluate(x_test, y_test_2)"
   ]
  },
  {
   "cell_type": "code",
   "execution_count": 30,
   "metadata": {},
   "outputs": [
    {
     "name": "stderr",
     "output_type": "stream",
     "text": [
      "2022-05-25 15:28:08.408272: I tensorflow/core/grappler/optimizers/custom_graph_optimizer_registry.cc:113] Plugin optimizer for device_type GPU is enabled.\n"
     ]
    },
    {
     "data": {
      "text/plain": [
       "array([[19.29078 ],\n",
       "       [19.036238],\n",
       "       [27.164507],\n",
       "       ...,\n",
       "       [17.154984],\n",
       "       [29.821184],\n",
       "       [18.093323]], dtype=float32)"
      ]
     },
     "execution_count": 30,
     "metadata": {},
     "output_type": "execute_result"
    }
   ],
   "source": [
    "pred = test_model.predict(x_test)\n",
    "pred[1]"
   ]
  },
  {
   "cell_type": "code",
   "execution_count": 31,
   "metadata": {},
   "outputs": [],
   "source": [
    "import matplotlib.pyplot as plt \n",
    "\n",
    "def test_image(idx, images_f, images_f_2, Model):\n",
    "    plt.imshow(images_f[idx])\n",
    "    image_test = images_f_2[idx]\n",
    "    pred_1=Model.predict(np.array([image_test]))\n",
    "    sex_f=['Male','Female']\n",
    "    age = int(np.round(pred_1[1][0]))\n",
    "    sex = int(np.round(pred_1[0][0]))\n",
    "    print(\"Predicted Age: \" + str(age))\n",
    "    print(\"Predicted Sex: \" + sex_f[sex])"
   ]
  },
  {
   "cell_type": "code",
   "execution_count": 56,
   "metadata": {},
   "outputs": [
    {
     "name": "stdout",
     "output_type": "stream",
     "text": [
      "Predicted Age: 3\n",
      "Predicted Sex: Male\n",
      "37.0\n",
      "0.0\n"
     ]
    },
    {
     "data": {
      "image/png": "[encoded data removed]",
      "text/plain": [
       "<Figure size 432x288 with 1 Axes>"
      ]
     },
     "metadata": {
      "needs_background": "light"
     },
     "output_type": "display_data"
    }
   ],
   "source": [
    "import random \n",
    "\n",
    "idx = random.randint(0, len(files))\n",
    "\n",
    "test_image(idx, images_f, images_f_2, test_model)\n",
    "print(ages[idx])\n",
    "print(genders[idx])"
   ]
  },
  {
   "cell_type": "code",
   "execution_count": 58,
   "metadata": {},
   "outputs": [
    {
     "name": "stdout",
     "output_type": "stream",
     "text": [
      "Predicted Age: 3\n",
      "Predicted Sex: Male\n"
     ]
    },
    {
     "data": {
      "image/png": "[encoded data removed]",
      "text/plain": [
       "<Figure size 432x288 with 1 Axes>"
      ]
     },
     "metadata": {
      "needs_background": "light"
     },
     "output_type": "display_data"
    }
   ],
   "source": [
    "test_image(57,images_f,images_f_2,test_model)"
   ]
  },
  {
   "cell_type": "code",
   "execution_count": 52,
   "metadata": {},
   "outputs": [
    {
     "name": "stdout",
     "output_type": "stream",
     "text": [
      "Predicted Age: 3\n",
      "Predicted Sex: Male\n"
     ]
    },
    {
     "data": {
      "image/png": "[encoded data removed]",
      "text/plain": [
       "<Figure size 432x288 with 1 Axes>"
      ]
     },
     "metadata": {
      "needs_background": "light"
     },
     "output_type": "display_data"
    }
   ],
   "source": [
    "test_image(120,images_f,images_f_2,test_model)"
   ]
  },
  {
   "cell_type": "code",
   "execution_count": 51,
   "metadata": {},
   "outputs": [
    {
     "name": "stdout",
     "output_type": "stream",
     "text": [
      "Predicted Age: 3\n",
      "Predicted Sex: Male\n"
     ]
    },
    {
     "data": {
      "image/png": "[encoded data removed]",
      "text/plain": [
       "<Figure size 432x288 with 1 Axes>"
      ]
     },
     "metadata": {
      "needs_background": "light"
     },
     "output_type": "display_data"
    }
   ],
   "source": [
    "test_image(1500,images_f,images_f_2,test_model)"
   ]
  }
 ],
 "metadata": {
  "interpreter": {
   "hash": "ce58aae133730a7197b268dfb3f865648bfe7be8d3229aa24c4d13e7352e80fa"
  },
  "kernelspec": {
   "display_name": "Python 3.9.12",
   "language": "python",
   "name": "python3"
  },
  "language_info": {
   "codemirror_mode": {
    "name": "ipython",
    "version": 3
   },
   "file_extension": ".py",
   "mimetype": "text/x-python",
   "name": "python",
   "nbconvert_exporter": "python",
   "pygments_lexer": "ipython3",
   "version": "3.9.12"
  }
 },
 "nbformat": 4,
 "nbformat_minor": 2
}
